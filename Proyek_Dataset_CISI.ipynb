{
  "nbformat": 4,
  "nbformat_minor": 0,
  "metadata": {
    "colab": {
      "name": "Proyek_Dataset_CISI.ipynb",
      "provenance": []
    },
    "kernelspec": {
      "name": "python3",
      "display_name": "Python 3"
    },
    "language_info": {
      "name": "python"
    }
  },
  "cells": [
    {
      "cell_type": "code",
      "execution_count": null,
      "metadata": {
        "id": "iBZCvsvH7GaZ",
        "colab": {
          "base_uri": "https://localhost:8080/"
        },
        "outputId": "2f0d1bee-c5d2-4040-ae09-0165d0afb097"
      },
      "outputs": [
        {
          "output_type": "stream",
          "name": "stdout",
          "text": [
            "[nltk_data] Downloading package punkt to /root/nltk_data...\n",
            "[nltk_data]   Unzipping tokenizers/punkt.zip.\n"
          ]
        }
      ],
      "source": [
        "import pandas as pd\n",
        "import re\n",
        "import nltk\n",
        "nltk.download('punkt')\n",
        "\n",
        "from nltk.tokenize import word_tokenize\n",
        "from nltk.corpus import stopwords\n",
        "from nltk.stem.porter import PorterStemmer"
      ]
    },
    {
      "cell_type": "code",
      "source": [
        "cisi = pd.read_csv('CISI.QRY.csv',error_bad_lines=False)"
      ],
      "metadata": {
        "colab": {
          "base_uri": "https://localhost:8080/"
        },
        "id": "2Yh4IuKE7Vgh",
        "outputId": "8d172767-d7ae-46ff-d98a-b611fcecbf8d"
      },
      "execution_count": null,
      "outputs": [
        {
          "output_type": "stream",
          "name": "stderr",
          "text": [
            "/usr/local/lib/python3.7/dist-packages/IPython/core/interactiveshell.py:2882: FutureWarning: The error_bad_lines argument has been deprecated and will be removed in a future version.\n",
            "\n",
            "\n",
            "  exec(code_obj, self.user_global_ns, self.user_ns)\n",
            "b'Skipping line 9: expected 1 fields, saw 2\\nSkipping line 10: expected 1 fields, saw 2\\nSkipping line 26: expected 1 fields, saw 3\\nSkipping line 30: expected 1 fields, saw 3\\nSkipping line 31: expected 1 fields, saw 2\\nSkipping line 42: expected 1 fields, saw 2\\nSkipping line 45: expected 1 fields, saw 3\\nSkipping line 49: expected 1 fields, saw 3\\nSkipping line 60: expected 1 fields, saw 2\\nSkipping line 61: expected 1 fields, saw 2\\nSkipping line 69: expected 1 fields, saw 3\\nSkipping line 73: expected 1 fields, saw 3\\nSkipping line 74: expected 1 fields, saw 2\\nSkipping line 144: expected 1 fields, saw 2\\nSkipping line 145: expected 1 fields, saw 2\\nSkipping line 152: expected 1 fields, saw 2\\nSkipping line 153: expected 1 fields, saw 2\\nSkipping line 159: expected 1 fields, saw 3\\nSkipping line 160: expected 1 fields, saw 4\\nSkipping line 161: expected 1 fields, saw 3\\nSkipping line 179: expected 1 fields, saw 2\\nSkipping line 194: expected 1 fields, saw 3\\nSkipping line 202: expected 1 fields, saw 2\\nSkipping line 203: expected 1 fields, saw 2\\nSkipping line 205: expected 1 fields, saw 3\\nSkipping line 206: expected 1 fields, saw 2\\nSkipping line 213: expected 1 fields, saw 2\\nSkipping line 222: expected 1 fields, saw 4\\nSkipping line 223: expected 1 fields, saw 2\\nSkipping line 224: expected 1 fields, saw 2\\nSkipping line 226: expected 1 fields, saw 2\\nSkipping line 232: expected 1 fields, saw 2\\nSkipping line 235: expected 1 fields, saw 2\\nSkipping line 237: expected 1 fields, saw 2\\nSkipping line 244: expected 1 fields, saw 3\\nSkipping line 245: expected 1 fields, saw 2\\nSkipping line 246: expected 1 fields, saw 4\\nSkipping line 248: expected 1 fields, saw 2\\nSkipping line 249: expected 1 fields, saw 4\\nSkipping line 250: expected 1 fields, saw 2\\nSkipping line 255: expected 1 fields, saw 2\\nSkipping line 256: expected 1 fields, saw 3\\nSkipping line 257: expected 1 fields, saw 2\\nSkipping line 259: expected 1 fields, saw 2\\nSkipping line 265: expected 1 fields, saw 4\\nSkipping line 266: expected 1 fields, saw 2\\nSkipping line 268: expected 1 fields, saw 2\\nSkipping line 270: expected 1 fields, saw 2\\nSkipping line 292: expected 1 fields, saw 2\\nSkipping line 301: expected 1 fields, saw 3\\nSkipping line 323: expected 1 fields, saw 4\\nSkipping line 325: expected 1 fields, saw 3\\nSkipping line 335: expected 1 fields, saw 2\\nSkipping line 336: expected 1 fields, saw 2\\nSkipping line 339: expected 1 fields, saw 2\\nSkipping line 340: expected 1 fields, saw 2\\nSkipping line 345: expected 1 fields, saw 2\\nSkipping line 349: expected 1 fields, saw 5\\nSkipping line 356: expected 1 fields, saw 2\\nSkipping line 362: expected 1 fields, saw 2\\nSkipping line 363: expected 1 fields, saw 2\\nSkipping line 372: expected 1 fields, saw 5\\nSkipping line 379: expected 1 fields, saw 2\\nSkipping line 380: expected 1 fields, saw 2\\nSkipping line 387: expected 1 fields, saw 2\\nSkipping line 389: expected 1 fields, saw 2\\nSkipping line 390: expected 1 fields, saw 2\\nSkipping line 391: expected 1 fields, saw 2\\nSkipping line 392: expected 1 fields, saw 2\\nSkipping line 393: expected 1 fields, saw 3\\nSkipping line 396: expected 1 fields, saw 5\\nSkipping line 402: expected 1 fields, saw 2\\nSkipping line 412: expected 1 fields, saw 5\\nSkipping line 418: expected 1 fields, saw 2\\nSkipping line 426: expected 1 fields, saw 2\\nSkipping line 429: expected 1 fields, saw 5\\nSkipping line 436: expected 1 fields, saw 2\\nSkipping line 437: expected 1 fields, saw 2\\nSkipping line 442: expected 1 fields, saw 2\\nSkipping line 443: expected 1 fields, saw 2\\nSkipping line 445: expected 1 fields, saw 4\\nSkipping line 446: expected 1 fields, saw 3\\nSkipping line 447: expected 1 fields, saw 2\\nSkipping line 448: expected 1 fields, saw 3\\nSkipping line 449: expected 1 fields, saw 2\\nSkipping line 450: expected 1 fields, saw 2\\nSkipping line 453: expected 1 fields, saw 5\\nSkipping line 459: expected 1 fields, saw 2\\nSkipping line 462: expected 1 fields, saw 5\\nSkipping line 464: expected 1 fields, saw 2\\nSkipping line 468: expected 1 fields, saw 5\\nSkipping line 474: expected 1 fields, saw 2\\nSkipping line 479: expected 1 fields, saw 2\\nSkipping line 488: expected 1 fields, saw 5\\nSkipping line 494: expected 1 fields, saw 2\\nSkipping line 496: expected 1 fields, saw 2\\nSkipping line 498: expected 1 fields, saw 4\\nSkipping line 499: expected 1 fields, saw 5\\nSkipping line 500: expected 1 fields, saw 3\\nSkipping line 504: expected 1 fields, saw 5\\nSkipping line 510: expected 1 fields, saw 2\\nSkipping line 511: expected 1 fields, saw 2\\nSkipping line 516: expected 1 fields, saw 2\\nSkipping line 517: expected 1 fields, saw 2\\nSkipping line 522: expected 1 fields, saw 2\\nSkipping line 523: expected 1 fields, saw 2\\nSkipping line 534: expected 1 fields, saw 5\\nSkipping line 540: expected 1 fields, saw 2\\nSkipping line 541: expected 1 fields, saw 2\\nSkipping line 545: expected 1 fields, saw 2\\nSkipping line 547: expected 1 fields, saw 2\\nSkipping line 548: expected 1 fields, saw 2\\nSkipping line 552: expected 1 fields, saw 2\\nSkipping line 556: expected 1 fields, saw 5\\nSkipping line 562: expected 1 fields, saw 2\\nSkipping line 563: expected 1 fields, saw 2\\nSkipping line 567: expected 1 fields, saw 2\\nSkipping line 568: expected 1 fields, saw 2\\nSkipping line 571: expected 1 fields, saw 2\\nSkipping line 572: expected 1 fields, saw 2\\nSkipping line 574: expected 1 fields, saw 3\\nSkipping line 575: expected 1 fields, saw 4\\nSkipping line 577: expected 1 fields, saw 3\\nSkipping line 580: expected 1 fields, saw 5\\nSkipping line 586: expected 1 fields, saw 2\\nSkipping line 590: expected 1 fields, saw 3\\nSkipping line 592: expected 1 fields, saw 2\\nSkipping line 593: expected 1 fields, saw 2\\nSkipping line 594: expected 1 fields, saw 3\\nSkipping line 597: expected 1 fields, saw 2\\nSkipping line 608: expected 1 fields, saw 2\\nSkipping line 611: expected 1 fields, saw 4\\nSkipping line 618: expected 1 fields, saw 2\\nSkipping line 619: expected 1 fields, saw 2\\nSkipping line 620: expected 1 fields, saw 2\\nSkipping line 633: expected 1 fields, saw 2\\nSkipping line 635: expected 1 fields, saw 2\\nSkipping line 636: expected 1 fields, saw 2\\nSkipping line 639: expected 1 fields, saw 5\\nSkipping line 645: expected 1 fields, saw 2\\nSkipping line 652: expected 1 fields, saw 2\\nSkipping line 654: expected 1 fields, saw 2\\nSkipping line 655: expected 1 fields, saw 3\\nSkipping line 656: expected 1 fields, saw 2\\nSkipping line 660: expected 1 fields, saw 5\\nSkipping line 666: expected 1 fields, saw 2\\nSkipping line 667: expected 1 fields, saw 2\\nSkipping line 668: expected 1 fields, saw 2\\nSkipping line 671: expected 1 fields, saw 3\\nSkipping line 673: expected 1 fields, saw 2\\nSkipping line 674: expected 1 fields, saw 2\\nSkipping line 677: expected 1 fields, saw 2\\nSkipping line 678: expected 1 fields, saw 2\\nSkipping line 679: expected 1 fields, saw 2\\nSkipping line 680: expected 1 fields, saw 2\\nSkipping line 683: expected 1 fields, saw 5\\nSkipping line 689: expected 1 fields, saw 2\\nSkipping line 691: expected 1 fields, saw 2\\nSkipping line 694: expected 1 fields, saw 4\\nSkipping line 701: expected 1 fields, saw 5\\nSkipping line 707: expected 1 fields, saw 2\\nSkipping line 708: expected 1 fields, saw 2\\nSkipping line 709: expected 1 fields, saw 2\\nSkipping line 713: expected 1 fields, saw 2\\nSkipping line 715: expected 1 fields, saw 3\\nSkipping line 716: expected 1 fields, saw 2\\nSkipping line 717: expected 1 fields, saw 2\\nSkipping line 718: expected 1 fields, saw 2\\nSkipping line 720: expected 1 fields, saw 5\\nSkipping line 728: expected 1 fields, saw 2\\nSkipping line 732: expected 1 fields, saw 2\\nSkipping line 734: expected 1 fields, saw 3\\nSkipping line 736: expected 1 fields, saw 3\\nSkipping line 739: expected 1 fields, saw 5\\nSkipping line 745: expected 1 fields, saw 2\\nSkipping line 746: expected 1 fields, saw 2\\nSkipping line 747: expected 1 fields, saw 2\\nSkipping line 752: expected 1 fields, saw 2\\nSkipping line 753: expected 1 fields, saw 2\\nSkipping line 754: expected 1 fields, saw 2\\nSkipping line 757: expected 1 fields, saw 2\\nSkipping line 762: expected 1 fields, saw 5\\nSkipping line 768: expected 1 fields, saw 2\\nSkipping line 770: expected 1 fields, saw 2\\nSkipping line 771: expected 1 fields, saw 2\\nSkipping line 773: expected 1 fields, saw 2\\nSkipping line 777: expected 1 fields, saw 2\\nSkipping line 780: expected 1 fields, saw 4\\nSkipping line 786: expected 1 fields, saw 2\\nSkipping line 796: expected 1 fields, saw 5\\nSkipping line 803: expected 1 fields, saw 2\\nSkipping line 806: expected 1 fields, saw 2\\nSkipping line 807: expected 1 fields, saw 2\\nSkipping line 809: expected 1 fields, saw 3\\nSkipping line 810: expected 1 fields, saw 4\\nSkipping line 813: expected 1 fields, saw 2\\nSkipping line 819: expected 1 fields, saw 5\\nSkipping line 825: expected 1 fields, saw 2\\nSkipping line 826: expected 1 fields, saw 2\\nSkipping line 831: expected 1 fields, saw 2\\nSkipping line 833: expected 1 fields, saw 2\\nSkipping line 836: expected 1 fields, saw 2\\nSkipping line 837: expected 1 fields, saw 2\\nSkipping line 838: expected 1 fields, saw 2\\nSkipping line 840: expected 1 fields, saw 3\\nSkipping line 842: expected 1 fields, saw 4\\nSkipping line 848: expected 1 fields, saw 2\\nSkipping line 851: expected 1 fields, saw 3\\nSkipping line 852: expected 1 fields, saw 2\\nSkipping line 853: expected 1 fields, saw 2\\nSkipping line 855: expected 1 fields, saw 4\\nSkipping line 856: expected 1 fields, saw 2\\nSkipping line 857: expected 1 fields, saw 3\\nSkipping line 862: expected 1 fields, saw 5\\nSkipping line 868: expected 1 fields, saw 2\\nSkipping line 875: expected 1 fields, saw 2\\nSkipping line 876: expected 1 fields, saw 2\\nSkipping line 887: expected 1 fields, saw 5\\nSkipping line 893: expected 1 fields, saw 2\\nSkipping line 894: expected 1 fields, saw 2\\nSkipping line 897: expected 1 fields, saw 2\\nSkipping line 902: expected 1 fields, saw 2\\nSkipping line 907: expected 1 fields, saw 5\\nSkipping line 913: expected 1 fields, saw 2\\nSkipping line 914: expected 1 fields, saw 2\\nSkipping line 918: expected 1 fields, saw 3\\nSkipping line 923: expected 1 fields, saw 2\\nSkipping line 926: expected 1 fields, saw 3\\nSkipping line 929: expected 1 fields, saw 2\\nSkipping line 930: expected 1 fields, saw 2\\nSkipping line 932: expected 1 fields, saw 3\\nSkipping line 938: expected 1 fields, saw 5\\nSkipping line 944: expected 1 fields, saw 2\\nSkipping line 945: expected 1 fields, saw 2\\nSkipping line 952: expected 1 fields, saw 2\\nSkipping line 956: expected 1 fields, saw 2\\nSkipping line 960: expected 1 fields, saw 5\\nSkipping line 967: expected 1 fields, saw 2\\nSkipping line 968: expected 1 fields, saw 2\\nSkipping line 978: expected 1 fields, saw 5\\nSkipping line 984: expected 1 fields, saw 5\\nSkipping line 992: expected 1 fields, saw 2\\nSkipping line 1002: expected 1 fields, saw 5\\nSkipping line 1009: expected 1 fields, saw 2\\nSkipping line 1018: expected 1 fields, saw 2\\nSkipping line 1027: expected 1 fields, saw 5\\nSkipping line 1033: expected 1 fields, saw 2\\nSkipping line 1038: expected 1 fields, saw 2\\nSkipping line 1041: expected 1 fields, saw 2\\nSkipping line 1044: expected 1 fields, saw 2\\nSkipping line 1047: expected 1 fields, saw 2\\nSkipping line 1048: expected 1 fields, saw 2\\nSkipping line 1052: expected 1 fields, saw 2\\nSkipping line 1053: expected 1 fields, saw 2\\nSkipping line 1059: expected 1 fields, saw 2\\nSkipping line 1065: expected 1 fields, saw 5\\nSkipping line 1072: expected 1 fields, saw 2\\nSkipping line 1078: expected 1 fields, saw 4\\nSkipping line 1088: expected 1 fields, saw 2\\nSkipping line 1089: expected 1 fields, saw 2\\nSkipping line 1094: expected 1 fields, saw 5\\nSkipping line 1102: expected 1 fields, saw 2\\nSkipping line 1103: expected 1 fields, saw 2\\nSkipping line 1104: expected 1 fields, saw 3\\nSkipping line 1109: expected 1 fields, saw 5\\nSkipping line 1115: expected 1 fields, saw 2\\nSkipping line 1116: expected 1 fields, saw 2\\nSkipping line 1118: expected 1 fields, saw 2\\nSkipping line 1119: expected 1 fields, saw 2\\nSkipping line 1120: expected 1 fields, saw 3\\nSkipping line 1122: expected 1 fields, saw 2\\nSkipping line 1123: expected 1 fields, saw 2\\nSkipping line 1127: expected 1 fields, saw 2\\nSkipping line 1129: expected 1 fields, saw 2\\nSkipping line 1130: expected 1 fields, saw 2\\nSkipping line 1135: expected 1 fields, saw 5\\nSkipping line 1141: expected 1 fields, saw 2\\nSkipping line 1142: expected 1 fields, saw 2\\nSkipping line 1146: expected 1 fields, saw 2\\nSkipping line 1147: expected 1 fields, saw 2\\nSkipping line 1148: expected 1 fields, saw 3\\nSkipping line 1153: expected 1 fields, saw 5\\nSkipping line 1159: expected 1 fields, saw 2\\nSkipping line 1169: expected 1 fields, saw 2\\nSkipping line 1172: expected 1 fields, saw 4\\nSkipping line 1178: expected 1 fields, saw 2\\nSkipping line 1179: expected 1 fields, saw 2\\nSkipping line 1182: expected 1 fields, saw 3\\nSkipping line 1185: expected 1 fields, saw 2\\nSkipping line 1186: expected 1 fields, saw 2\\nSkipping line 1189: expected 1 fields, saw 5\\nSkipping line 1195: expected 1 fields, saw 2\\nSkipping line 1196: expected 1 fields, saw 2\\nSkipping line 1200: expected 1 fields, saw 2\\nSkipping line 1205: expected 1 fields, saw 2\\nSkipping line 1206: expected 1 fields, saw 2\\nSkipping line 1211: expected 1 fields, saw 5\\nSkipping line 1218: expected 1 fields, saw 2\\nSkipping line 1219: expected 1 fields, saw 2\\nSkipping line 1221: expected 1 fields, saw 2\\nSkipping line 1222: expected 1 fields, saw 2\\nSkipping line 1224: expected 1 fields, saw 3\\nSkipping line 1229: expected 1 fields, saw 2\\nSkipping line 1231: expected 1 fields, saw 3\\nSkipping line 1234: expected 1 fields, saw 5\\nSkipping line 1241: expected 1 fields, saw 2\\nSkipping line 1242: expected 1 fields, saw 2\\nSkipping line 1245: expected 1 fields, saw 2\\nSkipping line 1246: expected 1 fields, saw 2\\nSkipping line 1247: expected 1 fields, saw 2\\nSkipping line 1250: expected 1 fields, saw 3\\nSkipping line 1251: expected 1 fields, saw 3\\nSkipping line 1252: expected 1 fields, saw 2\\nSkipping line 1254: expected 1 fields, saw 2\\nSkipping line 1255: expected 1 fields, saw 2\\nSkipping line 1259: expected 1 fields, saw 5\\nSkipping line 1266: expected 1 fields, saw 2\\nSkipping line 1271: expected 1 fields, saw 2\\nSkipping line 1272: expected 1 fields, saw 2\\nSkipping line 1276: expected 1 fields, saw 3\\nSkipping line 1282: expected 1 fields, saw 2\\nSkipping line 1283: expected 1 fields, saw 2\\nSkipping line 1286: expected 1 fields, saw 2\\nSkipping line 1292: expected 1 fields, saw 2\\nSkipping line 1297: expected 1 fields, saw 5\\nSkipping line 1298: expected 1 fields, saw 4\\nSkipping line 1304: expected 1 fields, saw 2\\nSkipping line 1305: expected 1 fields, saw 2\\nSkipping line 1306: expected 1 fields, saw 2\\nSkipping line 1310: expected 1 fields, saw 2\\nSkipping line 1316: expected 1 fields, saw 3\\nSkipping line 1319: expected 1 fields, saw 2\\nSkipping line 1323: expected 1 fields, saw 5\\nSkipping line 1329: expected 1 fields, saw 2\\nSkipping line 1330: expected 1 fields, saw 2\\nSkipping line 1331: expected 1 fields, saw 2\\nSkipping line 1332: expected 1 fields, saw 2\\nSkipping line 1335: expected 1 fields, saw 2\\nSkipping line 1340: expected 1 fields, saw 5\\nSkipping line 1346: expected 1 fields, saw 2\\nSkipping line 1347: expected 1 fields, saw 2\\nSkipping line 1348: expected 1 fields, saw 2\\nSkipping line 1350: expected 1 fields, saw 2\\nSkipping line 1351: expected 1 fields, saw 2\\nSkipping line 1356: expected 1 fields, saw 2\\nSkipping line 1359: expected 1 fields, saw 5\\nSkipping line 1363: expected 1 fields, saw 2\\nSkipping line 1365: expected 1 fields, saw 2\\nSkipping line 1375: expected 1 fields, saw 5\\nSkipping line 1381: expected 1 fields, saw 2\\nSkipping line 1384: expected 1 fields, saw 2\\nSkipping line 1386: expected 1 fields, saw 2\\nSkipping line 1387: expected 1 fields, saw 2\\nSkipping line 1388: expected 1 fields, saw 2\\nSkipping line 1390: expected 1 fields, saw 2\\nSkipping line 1391: expected 1 fields, saw 2\\nSkipping line 1397: expected 1 fields, saw 2\\nSkipping line 1400: expected 1 fields, saw 5\\nSkipping line 1406: expected 1 fields, saw 2\\nSkipping line 1409: expected 1 fields, saw 2\\nSkipping line 1413: expected 1 fields, saw 2\\nSkipping line 1414: expected 1 fields, saw 2\\nSkipping line 1415: expected 1 fields, saw 2\\nSkipping line 1417: expected 1 fields, saw 2\\nSkipping line 1421: expected 1 fields, saw 5\\nSkipping line 1427: expected 1 fields, saw 2\\nSkipping line 1434: expected 1 fields, saw 3\\nSkipping line 1436: expected 1 fields, saw 2\\nSkipping line 1440: expected 1 fields, saw 5\\nSkipping line 1446: expected 1 fields, saw 2\\nSkipping line 1447: expected 1 fields, saw 2\\nSkipping line 1449: expected 1 fields, saw 2\\nSkipping line 1450: expected 1 fields, saw 2\\nSkipping line 1453: expected 1 fields, saw 2\\nSkipping line 1456: expected 1 fields, saw 2\\nSkipping line 1457: expected 1 fields, saw 2\\nSkipping line 1458: expected 1 fields, saw 2\\nSkipping line 1460: expected 1 fields, saw 2\\nSkipping line 1461: expected 1 fields, saw 2\\nSkipping line 1466: expected 1 fields, saw 3\\nSkipping line 1469: expected 1 fields, saw 5\\nSkipping line 1476: expected 1 fields, saw 2\\nSkipping line 1478: expected 1 fields, saw 7\\nSkipping line 1482: expected 1 fields, saw 2\\nSkipping line 1486: expected 1 fields, saw 3\\nSkipping line 1487: expected 1 fields, saw 2\\nSkipping line 1491: expected 1 fields, saw 5\\nSkipping line 1497: expected 1 fields, saw 2\\nSkipping line 1508: expected 1 fields, saw 4\\nSkipping line 1515: expected 1 fields, saw 2\\nSkipping line 1520: expected 1 fields, saw 2\\nSkipping line 1524: expected 1 fields, saw 5\\n'\n"
          ]
        }
      ]
    },
    {
      "cell_type": "code",
      "source": [
        "cisi.head()"
      ],
      "metadata": {
        "colab": {
          "base_uri": "https://localhost:8080/",
          "height": 206
        },
        "id": "FYx636hy7a0J",
        "outputId": "6ec84161-5b76-4568-d1e1-b7fa344c76e3"
      },
      "execution_count": null,
      "outputs": [
        {
          "output_type": "execute_result",
          "data": {
            "text/plain": [
              "                                                .I 1\n",
              "0                                                 .W\n",
              "1  What problems and concerns are there in making...\n",
              "2  What difficulties are involved in automaticall...\n",
              "3                                approximate titles?\n",
              "4  What is the usual relevance of the content of ..."
            ],
            "text/html": [
              "\n",
              "  <div id=\"df-9f8adb00-1315-4f87-b932-4b2ae80b08f1\">\n",
              "    <div class=\"colab-df-container\">\n",
              "      <div>\n",
              "<style scoped>\n",
              "    .dataframe tbody tr th:only-of-type {\n",
              "        vertical-align: middle;\n",
              "    }\n",
              "\n",
              "    .dataframe tbody tr th {\n",
              "        vertical-align: top;\n",
              "    }\n",
              "\n",
              "    .dataframe thead th {\n",
              "        text-align: right;\n",
              "    }\n",
              "</style>\n",
              "<table border=\"1\" class=\"dataframe\">\n",
              "  <thead>\n",
              "    <tr style=\"text-align: right;\">\n",
              "      <th></th>\n",
              "      <th>.I 1</th>\n",
              "    </tr>\n",
              "  </thead>\n",
              "  <tbody>\n",
              "    <tr>\n",
              "      <th>0</th>\n",
              "      <td>.W</td>\n",
              "    </tr>\n",
              "    <tr>\n",
              "      <th>1</th>\n",
              "      <td>What problems and concerns are there in making...</td>\n",
              "    </tr>\n",
              "    <tr>\n",
              "      <th>2</th>\n",
              "      <td>What difficulties are involved in automaticall...</td>\n",
              "    </tr>\n",
              "    <tr>\n",
              "      <th>3</th>\n",
              "      <td>approximate titles?</td>\n",
              "    </tr>\n",
              "    <tr>\n",
              "      <th>4</th>\n",
              "      <td>What is the usual relevance of the content of ...</td>\n",
              "    </tr>\n",
              "  </tbody>\n",
              "</table>\n",
              "</div>\n",
              "      <button class=\"colab-df-convert\" onclick=\"convertToInteractive('df-9f8adb00-1315-4f87-b932-4b2ae80b08f1')\"\n",
              "              title=\"Convert this dataframe to an interactive table.\"\n",
              "              style=\"display:none;\">\n",
              "        \n",
              "  <svg xmlns=\"http://www.w3.org/2000/svg\" height=\"24px\"viewBox=\"0 0 24 24\"\n",
              "       width=\"24px\">\n",
              "    <path d=\"M0 0h24v24H0V0z\" fill=\"none\"/>\n",
              "    <path d=\"M18.56 5.44l.94 2.06.94-2.06 2.06-.94-2.06-.94-.94-2.06-.94 2.06-2.06.94zm-11 1L8.5 8.5l.94-2.06 2.06-.94-2.06-.94L8.5 2.5l-.94 2.06-2.06.94zm10 10l.94 2.06.94-2.06 2.06-.94-2.06-.94-.94-2.06-.94 2.06-2.06.94z\"/><path d=\"M17.41 7.96l-1.37-1.37c-.4-.4-.92-.59-1.43-.59-.52 0-1.04.2-1.43.59L10.3 9.45l-7.72 7.72c-.78.78-.78 2.05 0 2.83L4 21.41c.39.39.9.59 1.41.59.51 0 1.02-.2 1.41-.59l7.78-7.78 2.81-2.81c.8-.78.8-2.07 0-2.86zM5.41 20L4 18.59l7.72-7.72 1.47 1.35L5.41 20z\"/>\n",
              "  </svg>\n",
              "      </button>\n",
              "      \n",
              "  <style>\n",
              "    .colab-df-container {\n",
              "      display:flex;\n",
              "      flex-wrap:wrap;\n",
              "      gap: 12px;\n",
              "    }\n",
              "\n",
              "    .colab-df-convert {\n",
              "      background-color: #E8F0FE;\n",
              "      border: none;\n",
              "      border-radius: 50%;\n",
              "      cursor: pointer;\n",
              "      display: none;\n",
              "      fill: #1967D2;\n",
              "      height: 32px;\n",
              "      padding: 0 0 0 0;\n",
              "      width: 32px;\n",
              "    }\n",
              "\n",
              "    .colab-df-convert:hover {\n",
              "      background-color: #E2EBFA;\n",
              "      box-shadow: 0px 1px 2px rgba(60, 64, 67, 0.3), 0px 1px 3px 1px rgba(60, 64, 67, 0.15);\n",
              "      fill: #174EA6;\n",
              "    }\n",
              "\n",
              "    [theme=dark] .colab-df-convert {\n",
              "      background-color: #3B4455;\n",
              "      fill: #D2E3FC;\n",
              "    }\n",
              "\n",
              "    [theme=dark] .colab-df-convert:hover {\n",
              "      background-color: #434B5C;\n",
              "      box-shadow: 0px 1px 3px 1px rgba(0, 0, 0, 0.15);\n",
              "      filter: drop-shadow(0px 1px 2px rgba(0, 0, 0, 0.3));\n",
              "      fill: #FFFFFF;\n",
              "    }\n",
              "  </style>\n",
              "\n",
              "      <script>\n",
              "        const buttonEl =\n",
              "          document.querySelector('#df-9f8adb00-1315-4f87-b932-4b2ae80b08f1 button.colab-df-convert');\n",
              "        buttonEl.style.display =\n",
              "          google.colab.kernel.accessAllowed ? 'block' : 'none';\n",
              "\n",
              "        async function convertToInteractive(key) {\n",
              "          const element = document.querySelector('#df-9f8adb00-1315-4f87-b932-4b2ae80b08f1');\n",
              "          const dataTable =\n",
              "            await google.colab.kernel.invokeFunction('convertToInteractive',\n",
              "                                                     [key], {});\n",
              "          if (!dataTable) return;\n",
              "\n",
              "          const docLinkHtml = 'Like what you see? Visit the ' +\n",
              "            '<a target=\"_blank\" href=https://colab.research.google.com/notebooks/data_table.ipynb>data table notebook</a>'\n",
              "            + ' to learn more about interactive tables.';\n",
              "          element.innerHTML = '';\n",
              "          dataTable['output_type'] = 'display_data';\n",
              "          await google.colab.output.renderOutput(dataTable, element);\n",
              "          const docLink = document.createElement('div');\n",
              "          docLink.innerHTML = docLinkHtml;\n",
              "          element.appendChild(docLink);\n",
              "        }\n",
              "      </script>\n",
              "    </div>\n",
              "  </div>\n",
              "  "
            ]
          },
          "metadata": {},
          "execution_count": 4
        }
      ]
    },
    {
      "cell_type": "code",
      "source": [
        "cisi.isnull().sum()"
      ],
      "metadata": {
        "id": "lItV_0tK7oyi",
        "colab": {
          "base_uri": "https://localhost:8080/"
        },
        "outputId": "00783bec-d733-488d-c221-b9fad0ddaf9e"
      },
      "execution_count": null,
      "outputs": [
        {
          "output_type": "execute_result",
          "data": {
            "text/plain": [
              ".I 1    0\n",
              "dtype: int64"
            ]
          },
          "metadata": {},
          "execution_count": 5
        }
      ]
    },
    {
      "cell_type": "code",
      "source": [
        "def remove_number(text):\n",
        "    return  re.sub(r\"\\[0-9]+\", \"\", str(text))\n",
        " \n",
        "cisi['.I 1'] = cisi['.I 1'].apply(remove_number)"
      ],
      "metadata": {
        "id": "b-Nw8AfQEmdJ"
      },
      "execution_count": null,
      "outputs": []
    },
    {
      "cell_type": "code",
      "source": [
        "#remove whitespace leading & trailing\n",
        "def remove_whitespace_LT(text):\n",
        "    return text.strip()\n",
        "cisi['.I 1'] = cisi['.I 1'].apply(remove_whitespace_LT)\n",
        "\n",
        "#remove multiple whitespace into single whitespace\n",
        "def remove_whitespace_multiple(text):\n",
        "    return re.sub('\\s+',' ',text)\n",
        "cisi['.I 1'] = cisi['.I 1'].apply(remove_whitespace_multiple)\n",
        "\n",
        "# remove single char\n",
        "def remove_singl_char(text):\n",
        "    return re.sub(r\"\\b[a-zA-Z]\\b\", \"\", text)\n",
        "cisi['.I 1'] = cisi['.I 1'].apply(remove_singl_char)"
      ],
      "metadata": {
        "id": "66u3vww3ExvW"
      },
      "execution_count": null,
      "outputs": []
    },
    {
      "cell_type": "code",
      "source": [
        "# Tokenisasi for Document\n",
        "doc_tokens_trec_cisi = [word_tokenize(kalimat) for kalimat in cisi['.I 1']]\n",
        "print(*doc_tokens_trec_cisi[0:1], sep = \"\\n\")"
      ],
      "metadata": {
        "colab": {
          "base_uri": "https://localhost:8080/"
        },
        "id": "OBXrakBfFDqa",
        "outputId": "f8918d60-cf8a-4a20-8524-77ec4581794f"
      },
      "execution_count": null,
      "outputs": [
        {
          "output_type": "stream",
          "name": "stdout",
          "text": [
            "['.']\n"
          ]
        }
      ]
    },
    {
      "cell_type": "code",
      "source": [
        "nltk.download('stopwords')"
      ],
      "metadata": {
        "colab": {
          "base_uri": "https://localhost:8080/"
        },
        "id": "IwYRIONWFPL2",
        "outputId": "52b9eb80-b837-47cb-b961-35549c686b27"
      },
      "execution_count": null,
      "outputs": [
        {
          "output_type": "stream",
          "name": "stdout",
          "text": [
            "[nltk_data] Downloading package stopwords to /root/nltk_data...\n",
            "[nltk_data]   Unzipping corpora/stopwords.zip.\n"
          ]
        },
        {
          "output_type": "execute_result",
          "data": {
            "text/plain": [
              "True"
            ]
          },
          "metadata": {},
          "execution_count": 13
        }
      ]
    },
    {
      "cell_type": "code",
      "source": [
        "# Stopword for Document\n",
        "doc_stopwords_trec_cisi = [[token for token in kalimat if token not in stopwords.words('english')]\n",
        "                                  for kalimat in doc_tokens_trec_cisi]"
      ],
      "metadata": {
        "id": "2f14YFE6FT-j"
      },
      "execution_count": null,
      "outputs": []
    },
    {
      "cell_type": "code",
      "source": [
        "def punctuation(txt):\n",
        "  result = re.sub(r'[^\\w\\s]','',txt)\n",
        "  return result\n",
        "cisi['.I 1'] = cisi['.I 1'].apply(punctuation)\n"
      ],
      "metadata": {
        "id": "V5uv9WqHFkl6"
      },
      "execution_count": null,
      "outputs": []
    }
  ]
}