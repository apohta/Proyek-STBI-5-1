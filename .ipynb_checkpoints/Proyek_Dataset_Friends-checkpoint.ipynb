{
 "cells": [
  {
   "cell_type": "markdown",
   "metadata": {
    "id": "7AclZYaU7PLU"
   },
   "source": [
    "### BM25"
   ]
  },
  {
   "cell_type": "markdown",
   "metadata": {
    "id": "xXwImOjiFiPA"
   },
   "source": [
    "##### Dataset Friends Dialogue"
   ]
  },
  {
   "cell_type": "code",
   "execution_count": 1,
   "metadata": {
    "colab": {
     "base_uri": "https://localhost:8080/"
    },
    "id": "zYd9Odftslr_",
    "outputId": "631c76d6-7f2b-45f9-c22b-5aab852e581f"
   },
   "outputs": [
    {
     "name": "stderr",
     "output_type": "stream",
     "text": [
      "[nltk_data] Downloading package punkt to\n",
      "[nltk_data]     C:\\Users\\ASUS\\AppData\\Roaming\\nltk_data...\n",
      "[nltk_data]   Package punkt is already up-to-date!\n"
     ]
    }
   ],
   "source": [
    "import pandas as pd\n",
    "import re\n",
    "import nltk\n",
    "nltk.download('punkt')\n",
    "\n",
    "from nltk.tokenize import word_tokenize\n",
    "from nltk.corpus import stopwords\n",
    "from nltk.stem.porter import PorterStemmer"
   ]
  },
  {
   "cell_type": "code",
   "execution_count": 4,
   "metadata": {
    "colab": {
     "base_uri": "https://localhost:8080/",
     "height": 363
    },
    "id": "yvX8ovzkhhGN",
    "outputId": "06a77b8e-ee62-4087-ba40-6e60812a27e4"
   },
   "outputs": [
    {
     "data": {
      "text/html": [
       "<div>\n",
       "<style scoped>\n",
       "    .dataframe tbody tr th:only-of-type {\n",
       "        vertical-align: middle;\n",
       "    }\n",
       "\n",
       "    .dataframe tbody tr th {\n",
       "        vertical-align: top;\n",
       "    }\n",
       "\n",
       "    .dataframe thead th {\n",
       "        text-align: right;\n",
       "    }\n",
       "</style>\n",
       "<table border=\"1\" class=\"dataframe\">\n",
       "  <thead>\n",
       "    <tr style=\"text-align: right;\">\n",
       "      <th></th>\n",
       "      <th>episode</th>\n",
       "      <th>Dialogue</th>\n",
       "    </tr>\n",
       "  </thead>\n",
       "  <tbody>\n",
       "    <tr>\n",
       "      <th>0</th>\n",
       "      <td>1x01 - The One Where Monica Gets A Roommate.7...</td>\n",
       "      <td>there s nothing to tell it s just some guy i w...</td>\n",
       "    </tr>\n",
       "    <tr>\n",
       "      <th>1</th>\n",
       "      <td>1x02 - The One With The Sonogram At The End.</td>\n",
       "      <td>you guys don t understand for us kissing is as...</td>\n",
       "    </tr>\n",
       "    <tr>\n",
       "      <th>2</th>\n",
       "      <td>1x03 - The One With The Thumb.720p HDTV.TvR.</td>\n",
       "      <td>hi guys hey pheebs oh oh how d it go um not so...</td>\n",
       "    </tr>\n",
       "    <tr>\n",
       "      <th>3</th>\n",
       "      <td>1x04 - The One With George Stephanopoulos.720...</td>\n",
       "      <td>all right phoebe if i were omnipotent for a da...</td>\n",
       "    </tr>\n",
       "    <tr>\n",
       "      <th>4</th>\n",
       "      <td>1x05 - The One With The East German Laundry D...</td>\n",
       "      <td>let it go it s not a big deal not a big deal i...</td>\n",
       "    </tr>\n",
       "    <tr>\n",
       "      <th>5</th>\n",
       "      <td>1x06 - The One With The Butt.720p HDTV.TvR.</td>\n",
       "      <td>oh look there s joey s picture this is so exci...</td>\n",
       "    </tr>\n",
       "    <tr>\n",
       "      <th>6</th>\n",
       "      <td>1x07 - The One With The Blackout.720p HDTV.TvR.</td>\n",
       "      <td>hey gorgeous how s it going dehydrated japanes...</td>\n",
       "    </tr>\n",
       "    <tr>\n",
       "      <th>7</th>\n",
       "      <td>1x08 - The One Where Nana Dies Twice.720p HDT...</td>\n",
       "      <td>hey gorgeous how s it going dehydrated japanes...</td>\n",
       "    </tr>\n",
       "    <tr>\n",
       "      <th>8</th>\n",
       "      <td>1x09 - The One Where Underdog Gets Away.720p ...</td>\n",
       "      <td>terry i know i haven t worked here long     bu...</td>\n",
       "    </tr>\n",
       "    <tr>\n",
       "      <th>9</th>\n",
       "      <td>1x10 - The One With The Monkey.</td>\n",
       "      <td>guys there s somebody i d like you to meet wai...</td>\n",
       "    </tr>\n",
       "  </tbody>\n",
       "</table>\n",
       "</div>"
      ],
      "text/plain": [
       "                                             episode  \\\n",
       "0   1x01 - The One Where Monica Gets A Roommate.7...   \n",
       "1       1x02 - The One With The Sonogram At The End.   \n",
       "2       1x03 - The One With The Thumb.720p HDTV.TvR.   \n",
       "3   1x04 - The One With George Stephanopoulos.720...   \n",
       "4   1x05 - The One With The East German Laundry D...   \n",
       "5        1x06 - The One With The Butt.720p HDTV.TvR.   \n",
       "6    1x07 - The One With The Blackout.720p HDTV.TvR.   \n",
       "7   1x08 - The One Where Nana Dies Twice.720p HDT...   \n",
       "8   1x09 - The One Where Underdog Gets Away.720p ...   \n",
       "9                    1x10 - The One With The Monkey.   \n",
       "\n",
       "                                            Dialogue  \n",
       "0  there s nothing to tell it s just some guy i w...  \n",
       "1  you guys don t understand for us kissing is as...  \n",
       "2  hi guys hey pheebs oh oh how d it go um not so...  \n",
       "3  all right phoebe if i were omnipotent for a da...  \n",
       "4  let it go it s not a big deal not a big deal i...  \n",
       "5  oh look there s joey s picture this is so exci...  \n",
       "6  hey gorgeous how s it going dehydrated japanes...  \n",
       "7  hey gorgeous how s it going dehydrated japanes...  \n",
       "8  terry i know i haven t worked here long     bu...  \n",
       "9  guys there s somebody i d like you to meet wai...  "
      ]
     },
     "execution_count": 4,
     "metadata": {},
     "output_type": "execute_result"
    }
   ],
   "source": [
    "df = pd.read_csv(\"./Dataset/Friends dialogues.csv\")\n",
    "\n",
    "# melihat dataset\n",
    "df.head(10)"
   ]
  },
  {
   "cell_type": "code",
   "execution_count": 5,
   "metadata": {
    "id": "JgH0q5vOmnqs"
   },
   "outputs": [],
   "source": [
    "new_df = df.drop(\"episode\", axis=1, inplace=True)"
   ]
  },
  {
   "cell_type": "code",
   "execution_count": 6,
   "metadata": {
    "colab": {
     "base_uri": "https://localhost:8080/",
     "height": 363
    },
    "id": "GTuwZRkFmz-Y",
    "outputId": "48a960f6-19a1-43c6-f282-92dc9b838d76"
   },
   "outputs": [
    {
     "data": {
      "text/html": [
       "<div>\n",
       "<style scoped>\n",
       "    .dataframe tbody tr th:only-of-type {\n",
       "        vertical-align: middle;\n",
       "    }\n",
       "\n",
       "    .dataframe tbody tr th {\n",
       "        vertical-align: top;\n",
       "    }\n",
       "\n",
       "    .dataframe thead th {\n",
       "        text-align: right;\n",
       "    }\n",
       "</style>\n",
       "<table border=\"1\" class=\"dataframe\">\n",
       "  <thead>\n",
       "    <tr style=\"text-align: right;\">\n",
       "      <th></th>\n",
       "      <th>Dialogue</th>\n",
       "    </tr>\n",
       "  </thead>\n",
       "  <tbody>\n",
       "    <tr>\n",
       "      <th>0</th>\n",
       "      <td>there s nothing to tell it s just some guy i w...</td>\n",
       "    </tr>\n",
       "    <tr>\n",
       "      <th>1</th>\n",
       "      <td>you guys don t understand for us kissing is as...</td>\n",
       "    </tr>\n",
       "    <tr>\n",
       "      <th>2</th>\n",
       "      <td>hi guys hey pheebs oh oh how d it go um not so...</td>\n",
       "    </tr>\n",
       "    <tr>\n",
       "      <th>3</th>\n",
       "      <td>all right phoebe if i were omnipotent for a da...</td>\n",
       "    </tr>\n",
       "    <tr>\n",
       "      <th>4</th>\n",
       "      <td>let it go it s not a big deal not a big deal i...</td>\n",
       "    </tr>\n",
       "    <tr>\n",
       "      <th>5</th>\n",
       "      <td>oh look there s joey s picture this is so exci...</td>\n",
       "    </tr>\n",
       "    <tr>\n",
       "      <th>6</th>\n",
       "      <td>hey gorgeous how s it going dehydrated japanes...</td>\n",
       "    </tr>\n",
       "    <tr>\n",
       "      <th>7</th>\n",
       "      <td>hey gorgeous how s it going dehydrated japanes...</td>\n",
       "    </tr>\n",
       "    <tr>\n",
       "      <th>8</th>\n",
       "      <td>terry i know i haven t worked here long     bu...</td>\n",
       "    </tr>\n",
       "    <tr>\n",
       "      <th>9</th>\n",
       "      <td>guys there s somebody i d like you to meet wai...</td>\n",
       "    </tr>\n",
       "  </tbody>\n",
       "</table>\n",
       "</div>"
      ],
      "text/plain": [
       "                                            Dialogue\n",
       "0  there s nothing to tell it s just some guy i w...\n",
       "1  you guys don t understand for us kissing is as...\n",
       "2  hi guys hey pheebs oh oh how d it go um not so...\n",
       "3  all right phoebe if i were omnipotent for a da...\n",
       "4  let it go it s not a big deal not a big deal i...\n",
       "5  oh look there s joey s picture this is so exci...\n",
       "6  hey gorgeous how s it going dehydrated japanes...\n",
       "7  hey gorgeous how s it going dehydrated japanes...\n",
       "8  terry i know i haven t worked here long     bu...\n",
       "9  guys there s somebody i d like you to meet wai..."
      ]
     },
     "execution_count": 6,
     "metadata": {},
     "output_type": "execute_result"
    }
   ],
   "source": [
    "df.head(10)"
   ]
  },
  {
   "cell_type": "code",
   "execution_count": 7,
   "metadata": {
    "colab": {
     "base_uri": "https://localhost:8080/"
    },
    "id": "bK29o1L_m3aO",
    "outputId": "10897422-c95c-4d50-cf34-ac9a1b69d49b"
   },
   "outputs": [
    {
     "data": {
      "text/plain": [
       "0"
      ]
     },
     "execution_count": 7,
     "metadata": {},
     "output_type": "execute_result"
    }
   ],
   "source": [
    "df['Dialogue'].isnull().sum()"
   ]
  },
  {
   "cell_type": "code",
   "execution_count": 8,
   "metadata": {
    "id": "OPx39EUSnpTY"
   },
   "outputs": [],
   "source": [
    "new_df_without_null=df.dropna()"
   ]
  },
  {
   "cell_type": "code",
   "execution_count": 9,
   "metadata": {
    "colab": {
     "base_uri": "https://localhost:8080/"
    },
    "id": "iFoozKMGoj0Q",
    "outputId": "9e5a4a55-7741-4ddb-e52c-5699409a98b5"
   },
   "outputs": [
    {
     "data": {
      "text/plain": [
       "0"
      ]
     },
     "execution_count": 9,
     "metadata": {},
     "output_type": "execute_result"
    }
   ],
   "source": [
    "new_df_without_null['Dialogue'].isnull().sum()"
   ]
  },
  {
   "cell_type": "code",
   "execution_count": 10,
   "metadata": {
    "colab": {
     "base_uri": "https://localhost:8080/",
     "height": 363
    },
    "id": "TTKY8zTNt4bQ",
    "outputId": "292c7114-b28f-4e62-d09b-58402f903b63"
   },
   "outputs": [
    {
     "data": {
      "text/html": [
       "<div>\n",
       "<style scoped>\n",
       "    .dataframe tbody tr th:only-of-type {\n",
       "        vertical-align: middle;\n",
       "    }\n",
       "\n",
       "    .dataframe tbody tr th {\n",
       "        vertical-align: top;\n",
       "    }\n",
       "\n",
       "    .dataframe thead th {\n",
       "        text-align: right;\n",
       "    }\n",
       "</style>\n",
       "<table border=\"1\" class=\"dataframe\">\n",
       "  <thead>\n",
       "    <tr style=\"text-align: right;\">\n",
       "      <th></th>\n",
       "      <th>Dialogue</th>\n",
       "    </tr>\n",
       "  </thead>\n",
       "  <tbody>\n",
       "    <tr>\n",
       "      <th>0</th>\n",
       "      <td>there s nothing to tell it s just some guy i w...</td>\n",
       "    </tr>\n",
       "    <tr>\n",
       "      <th>1</th>\n",
       "      <td>you guys don t understand for us kissing is as...</td>\n",
       "    </tr>\n",
       "    <tr>\n",
       "      <th>2</th>\n",
       "      <td>hi guys hey pheebs oh oh how d it go um not so...</td>\n",
       "    </tr>\n",
       "    <tr>\n",
       "      <th>3</th>\n",
       "      <td>all right phoebe if i were omnipotent for a da...</td>\n",
       "    </tr>\n",
       "    <tr>\n",
       "      <th>4</th>\n",
       "      <td>let it go it s not a big deal not a big deal i...</td>\n",
       "    </tr>\n",
       "    <tr>\n",
       "      <th>5</th>\n",
       "      <td>oh look there s joey s picture this is so exci...</td>\n",
       "    </tr>\n",
       "    <tr>\n",
       "      <th>6</th>\n",
       "      <td>hey gorgeous how s it going dehydrated japanes...</td>\n",
       "    </tr>\n",
       "    <tr>\n",
       "      <th>7</th>\n",
       "      <td>hey gorgeous how s it going dehydrated japanes...</td>\n",
       "    </tr>\n",
       "    <tr>\n",
       "      <th>8</th>\n",
       "      <td>terry i know i haven t worked here long     bu...</td>\n",
       "    </tr>\n",
       "    <tr>\n",
       "      <th>9</th>\n",
       "      <td>guys there s somebody i d like you to meet wai...</td>\n",
       "    </tr>\n",
       "  </tbody>\n",
       "</table>\n",
       "</div>"
      ],
      "text/plain": [
       "                                            Dialogue\n",
       "0  there s nothing to tell it s just some guy i w...\n",
       "1  you guys don t understand for us kissing is as...\n",
       "2  hi guys hey pheebs oh oh how d it go um not so...\n",
       "3  all right phoebe if i were omnipotent for a da...\n",
       "4  let it go it s not a big deal not a big deal i...\n",
       "5  oh look there s joey s picture this is so exci...\n",
       "6  hey gorgeous how s it going dehydrated japanes...\n",
       "7  hey gorgeous how s it going dehydrated japanes...\n",
       "8  terry i know i haven t worked here long     bu...\n",
       "9  guys there s somebody i d like you to meet wai..."
      ]
     },
     "execution_count": 10,
     "metadata": {},
     "output_type": "execute_result"
    }
   ],
   "source": [
    "new_df_without_null.head(10)"
   ]
  },
  {
   "cell_type": "code",
   "execution_count": 11,
   "metadata": {
    "id": "q-SBxmsQx-sd"
   },
   "outputs": [],
   "source": [
    "def remove_number(text):\n",
    "    return  re.sub(r\"\\[0-9]+\", \"\", str(text))\n",
    " \n",
    "new_df_without_null['Dialogue'] = new_df_without_null['Dialogue'].apply(remove_number)"
   ]
  },
  {
   "cell_type": "code",
   "execution_count": 12,
   "metadata": {
    "id": "85mQRTAW75hM"
   },
   "outputs": [],
   "source": [
    "#remove whitespace leading & trailing\n",
    "def remove_whitespace_LT(text):\n",
    "    return text.strip()\n",
    "\n",
    "\n",
    "new_df_without_null['Dialogue'] =new_df_without_null['Dialogue'].apply(remove_whitespace_LT)\n",
    "\n",
    "#remove multiple whitespace into single whitespace\n",
    "def remove_whitespace_multiple(text):\n",
    "    return re.sub('\\s+',' ',text)\n",
    "\n",
    "\n",
    "new_df_without_null['Dialogue'] = new_df_without_null['Dialogue'].apply(remove_whitespace_multiple)\n",
    "\n",
    "# remove single char\n",
    "def remove_singl_char(text):\n",
    "    return re.sub(r\"\\b[a-zA-Z]\\b\", \"\", text)\n",
    "\n",
    "\n",
    "new_df_without_null['Dialogue'] = new_df_without_null['Dialogue'].apply(remove_singl_char)"
   ]
  },
  {
   "cell_type": "code",
   "execution_count": 13,
   "metadata": {
    "colab": {
     "base_uri": "https://localhost:8080/"
    },
    "id": "S-eRJCgnqUBP",
    "outputId": "ad353813-cb6d-479e-a3ce-d415e367aac0"
   },
   "outputs": [
    {
     "name": "stdout",
     "output_type": "stream",
     "text": [
      "['there', 'nothing', 'to', 'tell', 'it', 'just', 'some', 'guy', 'work', 'with', 'you', 're', 'going', 'out', 'with', 'the', 'guy', 'there', 'has', 'to', 'be', 'something', 'wrong', 'with', 'him', 'so', 'does', 'he', 'have', 'hump', 'and', 'hairpiece', 'wait', 'does', 'he', 'eat', 'chalk', '6', 'don', 'want', 'her', 'to', 'go', 'through', 'what', 'did', 'with', 'carl', '7', 'okay', 'everybody', 'relax', '8', 'this', 'is', 'not', 'even', 'date', '9', 'it', 'just', 'two', 'people', 'going', 'out', 'to', 'dinner', 'and', 'not', 'having', 'sex', '01', 'sounds', 'like', 'date', 'to', 'me', '01', 'in', 'high', 'school', 'in', 'the', 'cafeteria', '01', 'and', 'realize', 'totally', 'naked', '01', 've', 'had', 'that', 'dream', '01', 'then', 'look', 'down', 'and', 'realize', 'there', 'is', 'phone', '01', 'there', '01', 'instead', 'of', 'that', 'right', '01', 'never', 'had', 'that', 'one', '01', 'all', 'of', 'sudden', 'the', 'phone', 'starts', 'to', 'ring', '01', 'and', 'it', 'turns', 'out', 'it', 'my', 'mother', '01', 'which', 'is', 'very', 'very', 'weird', 'because', 'she', 'never', 'calls', 'me', '01', 'he', 'says', 'hello', 'want', 'to', 'kill', 'myself', '01', 'you', 'okay', '01', 'feel', 'like', 'someone', 'pulled', 'my', 'intestine', 'out', 'of', 'my', 'mouth', '01', 'and', 'tied', 'it', 'around', 'my', 'neck', 'cookie', '02', 'carol', 'moved', 'her', 'stuff', 'out', 'today', '02', 'let', 'me', 'get', 'you', 'some', 'coffee', 'thanks', '02', 'no', 'don', 'stop', 'cleansing', 'my', 'aura', '02', 'just', 'leave', 'my', 'aura', 'alone', 'okay', 'fine', 'be', 'murky', '02', 'll', 'be', 'fine', 'hope', 'she', 'll', 'be', 'happy', '02', 'no', 'you', 'don', '02', 'to', 'hell', 'with', 'her', 'she', 'left', 'me', '02', 'and', 'you', 'never', 'knew', 'she', 'was', 'lesbian', '02', 'why', 'does', 'everyone', 'keep', 'fixating', 'on', 'that', '02', 'she', 'didn', 'know', 'how', 'should', 'know', '02', 'sometimes', 'wish', 'was', 'lesbian', '02', 'did', 'say', 'that', 'out', 'loud', '02', 'look', 'you', 're', 'feeling', 'lot', 'of', 'pain', 'right', 'now', '02', 'you', 're', 'angry', 'you', 're', 'hurting', '03', 'can', 'tell', 'you', 'what', 'the', 'answer', 'is', '03', 'strip', 'joints', '03', 'see', 'but', 'don', 'want', 'to', 'be', 'single', 'okay', '03', 'just', 'want', 'to', 'be', 'married', 'again', '03', 'and', 'just', 'want', 'million', 'dollars', '03', 'rachel', '03', 'oh', 'god', 'monica', 'hi', 'thank', 'god', '03', 'went', 'to', 'your', 'building', 'and', 'this', 'guy', 'with', 'hammer', 'said', '03', 'that', 'you', 'might', 'be', 'here', 'and', 'you', 'are', '03', 'can', 'get', 'you', 'some', 'coffee', 'decaf', '03', 'everybody', 'this', 'is', 'rachel', 'another', 'lincoln', 'high', 'survivor', '03', 'this', 'is', 'everybody', 'chandler', 'and', 'phoebe', '03', 'and', 'joey', 'and', 'remember', 'my', 'brother', 'ross', '03', 'sure', '03', 'you', 'want', 'to', 'tell', 'us', 'now', 'or', 'are', 'we', 'waiting', 'for', 'four', 'wet', 'bridesmaids', '04', 'oh', 'god', 'well', 'it', 'started', 'about', 'halfhour', 'before', 'the', 'wedding', '04', 'was', 'in', 'this', 'room', 'with', 'all', 'the', 'presents', '04', 'this', 'really', 'gorgeous', 'limoges', 'gravy', 'boat', '04', 'when', 'all', 'of', 'sudden', 'realize', '04', 'sweet', 'low', '04', 'realized', '04', 'was', 'more', 'turned', 'on', 'by', 'this', 'gravy', 'boat', 'than', 'by', 'barry', '04', 'and', 'then', 'really', 'freaked', 'out', 'when', 'it', 'hit', 'me', '04', 'how', 'much', 'barry', 'looks', 'like', 'mr', 'potato', 'head', '04', 'always', 'knew', 'he', 'looked', 'familiar', 'but', '04', 'had', 'to', 'get', 'out', 'of', 'there', 'and', 'started', 'wondering', '04', 'why', 'am', 'doing', 'this', 'and', 'who', 'am', 'doing', 'this', 'for', '04', 'didn', 'know', 'where', 'to', 'go', 'and', 'know', 'you', 'and', 'have', 'drifted', 'apart', '04', 'but', 'you', 're', 'the', 'only', 'person', 'know', 'in', 'the', 'city', '04', 'who', 'wasn', 'asked', 'to', 'the', 'wedding', '04', 'was', 'kind', 'of', 'hoping', 'that', 'wouldn', 'be', 'an', 'issue', '05', 'guess', 'he', 'bought', 'her', 'the', 'pipe', 'organ', '05', 'and', 'she', 'really', 'not', 'happy', 'about', 'it', '05', 'daddy', 'just', 'can', 'marry', 'him', '05', 'sorry', '05', 'just', 'don', 'love', 'him', '05', 'well', 'it', 'matters', 'to', 'me', '05', 'she', 'should', 'not', 'be', 'wearing', 'those', 'pants', '05', 'say', 'push', 'her', 'down', 'the', 'stairs', '05', 'push', 'her', 'down', 'the', 'stairs', 'push', 'her', 'down', 'the', 'stairs', '05', 'come', 'on', 'daddy', 'listen', '05', 'all', 'my', 'life', 'everyone', 'always', 'told', 'me', 'you', 're', 'shoe', '05', 'you', 're', 'shoe', 'you', 're', 'shoe', 'you', 're', 'shoe', '05', 'stopped', 'and', 'said', 'what', 'if', 'don', 'wan', 'na', 'be', 'shoe', '05', 'what', 'if', 'want', 'to', 'be', 'purse', '05', 'or', 'hat', '05', 'don', 'want', 'you', 'to', 'buy', 'me', 'hat', '05', 'it', 'metaphor', 'daddy', '06', 'you', 'can', 'see', 'where', 'he', 'have', 'trouble', '06', 'look', 'daddy', 'it', 'my', 'life', '06', 'well', 'maybe', 'll', 'just', 'stay', 'here', 'with', 'monica', '06', 'guess', 'we', 've', 'established', 'she', 'staying', 'with', 'monica', '06', 'well', 'maybe', 'that', 'my', 'decision', '06', 'well', 'maybe', 'don', 'need', 'your', 'money', '06', 'wait', 'wait', 'said', 'maybe', '06', 'just', 'breathe', 'breathe', 'that', 'it', '06', 'just', 'try', 'to', 'think', 'of', 'nice', 'calm', 'things', '06', 'raindrops', 'on', 'roses', 'and', 'whiskers', 'on', 'kittens', '06', 'doorbells', 'and', 'sleigh', 'bells', 'and', 'something', 'with', 'mittens', '06', 'la', 'la', 'la', 'something', 'and', 'noodles', 'with', 'string', '06', 'these', 'are', 'all', 'better', 'now', '06', 'helped', '06', 'this', 'is', 'probably', 'for', 'the', 'best', 'you', 'know', '07', 'independence', 'taking', 'control', 'of', 'your', 'life', '07', 'if', 'you', 'need', 'anything', 'you', 'can', 'always', 'come', 'to', 'joey', '07', 'me', 'and', 'chandler', 'live', 'across', 'the', 'hall', 'and', 'he', 'away', 'lot', '07', 'joey', 'stop', 'hitting', 'on', 'her', 'it', 'her', 'wedding', 'day', '07', 'what', 'like', 'there', 'rule', 'or', 'something', '07', 'please', 'don', 'do', 'that', 'again', 'it', 'horrible', 'sound', '07', 'it', 'paul', '07', 'buzz', 'him', 'in', '07', 'who', 'paul', 'paul', 'the', 'wine', 'guy', '07', 'maybe', '07', 'your', 'not', 'real', 'date', 'is', 'with', 'paul', 'the', 'wine', 'guy', '07', 'he', 'finally', 'asked', 'you', 'out', '07', 'it', 'dear', 'diary', 'moment', '07', 'rach', 'can', 'cancel', '07', 'oh', 'god', 'please', 'no', 'go', 'll', 'be', 'fine', '07', 'ross', 'are', 'you', 'okay', 'do', 'you', 'want', 'me', 'to', 'stay', '07', 'that', 'be', 'good', '07', 'really', 'go', 'on', 'it', 'paul', 'the', 'wine', 'guy', '07', 'hi', 'come', 'in', 'paul', 'this', 'is', '07', 'everybody', 'everybody', 'this', 'is', 'paul', '08', 'the', 'wine', 'guy', 'didn', 'catch', 'your', 'name', 'paul', '08', 'change', 'sit', 'down', 'two', 'seconds', '08', 'just', 'pulled', 'out', 'four', 'eyelashes', 'that', 'can', 'be', 'good', '08', 'rachel', 'what', 'are', 'you', 'up', 'to', 'tonight', '08', 'was', 'supposed', 'to', 'be', 'headed', 'for', 'aruba', 'on', 'my', 'honeymoon', '08', 'so', 'nothing', '08', 'right', 'you', 're', 'not', 'even', 'getting', 'your', 'honeymoon', '08', 'although', 'aruba', 'this', 'time', 'of', 'year', 'talk', 'about', 'your', '08', 'big', 'lizards', '08', 'if', 'you', 'don', 'feel', 'like', 'being', 'alone', 'tonight', '08', 'joey', 'and', 'chandler', 'are', 'helping', 'me', 'with', 'my', 'furniture', '08', 'and', 'we', 're', 'very', 'excited', 'about', 'it', '08', 'thanks', 'but', 'just', 'gon', 'na', 'hang', 'out', 'here', '08', 'it', 'been', 'long', 'day', 'okay', 'sure', '08', 'pheebs', 'wan', 'na', 'help', '09', 'wish', 'could', 'but', 'don', 'want', 'to', '09', 'supposed', 'to', 'attach', 'brackety', 'thing', 'to', 'the', 'side', 'things', '09', 'using', 'bunch', 'of', 'these', 'little', 'worm', 'guys', '09', 'have', 'no', 'brackety', 'thing', 'see', 'no', 'worm', 'guys', 'whatsoever', '09', 'and', 'can', 'not', 'feel', 'my', 'legs', '09', 'which', 'goes', 'where', 'have', 'no', 'idea', '09', 'done', 'with', 'the', 'bookcase', 'all', 'finished', '09', 'this', 'was', 'carol', 'favorite', 'beer', '09', 'she', 'always', 'drank', 'it', 'out', 'of', 'the', 'can', 'should', 'have', 'known', '09', 'let', 'me', 'ask', 'you', 'question', '09', 'she', 'got', 'the', 'furniture', 'the', 'stereo', 'the', 'good', 'tv', '09', 'what', 'did', 'you', 'get', '09', 'you', 'guys', '09', 'you', 'got', 'screwed', 'oh', 'my', 'god', '09', 'oh', 'my', 'god', 'know', 'such', 'an', 'idiot', '10', 'should', 've', 'caught', 'on', 'when', 'she', 'went', 'to', 'the', 'dentist', 'four', 'and', 'five', 'times', 'week', '10', 'mean', 'how', 'clean', 'can', 'teeth', 'get', '10', 'my', 'brother', 'going', 'through', 'that', 'he', 'mess', '10', 'how', 'did', 'you', 'get', 'through', 'it', '10', 'he', 'might', 'try', 'accidentally', 'breaking', 'something', 'valuable', 'of', 'hers', '10', 'say', 'her', 'leg', '10', 'that', 'one', 'way', 'of', 'going', 'through', 'it', 'me', 'went', 'for', 'the', 'watch', '10', 'you', 'actually', 'broke', 'her', 'watch', '10', 'barry', 'sorry', 'am', 'so', 'sorry', '10', 'you', 'probably', 'think', 'it', 'about', 'making', 'love', 'with', 'your', 'socks', 'on', 'but', 'it', 'isn', '10', 'it', 'about', 'me', 'and', 'just', '10', 'machine', 'cut', 'me', 'off', 'again', 'anyway', '10', 'you', 'know', 'what', 'scary', 'what', 'if', 'there', 'is', 'only', 'one', 'woman', 'for', 'everybody', '10', 'mean', 'what', 'if', 'you', 'get', 'one', 'woman', 'and', 'that', 'it', '10', 'unfortunately', 'in', 'my', 'case', 'there', 'was', 'only', 'one', 'woman', 'for', 'her', '10', 'what', 'are', 'you', 'talking', 'about', 'one', 'woman', '11', 'that', 'like', 'saying', 'there', 'only', 'one', 'flavor', 'of', 'ice', 'cream', 'for', 'you', '11', 'let', 'me', 'tell', 'you', 'something', 'there', 'lots', 'of', 'flavors', 'out', 'there', '11', 'rocky', 'road', 'and', 'cookie', 'dough', 'and', 'bing', 'cherry', 'vanilla', '11', 'you', 'can', 'get', 'them', 'with', 'jimmies', 'or', 'nuts', 'or', 'whipped', 'cream', '11', 'this', 'is', 'the', 'best', 'thing', 'that', 'ever', 'happened', 'to', 'you', '11', 'you', 'got', 'married', 'you', 'were', 'like', 'what', 'eight', '11', 'welcome', 'back', 'to', 'the', 'world', 'grab', 'spoon', '11', 'honestly', 'don', 'know', 'if', 'hungry', 'or', 'horny', '11', 'then', 'stay', 'out', 'of', 'my', 'freezer', '11', 'ever', 'since', 'she', 'walked', 'out', 'on', 'me', '11', 'what', 'what', '11', 'you', 'wan', 'na', 'spell', 'it', 'out', 'with', 'noodles', '11', 'it', 'more', 'of', 'fifth', 'date', 'kind', 'of', 'revelation', '11', 'so', 'there', 'going', 'to', 'be', 'fifth', 'date', '11', 'isn', 'there', '11', 'yeah', 'yeah', 'think', 'there', 'is', '12', 'what', 'were', 'you', 'going', 'to', 'say', '12', 'ever', 'since', 'she', 'left', 'me', '12', 'haven', 'been', 'able', 'to', 'perform', '12', 'sexually', '12', 'oh', 'god', 'oh', 'god', '12', 'so', 'sorry', '12', 'being', 'spit', 'on', 'is', 'probably', 'not', 'what', 'you', 'need', 'right', 'now', '12', 'how', 'long', '12', 'two', 'years', '12', 'glad', 'you', 'smashed', 'her', 'watch', '12', 'so', 'you', 'still', 'think', 'you', 'might', 'want', 'that', 'fifth', 'date', '12', 'yeah', 'do', '12', 'but', 'joanie', 'loved', 'chachi', 'that', 'the', 'difference', '12', 'grab', 'spoon', '13', 'do', 'you', 'know', 'long', 'it', 'been', 'since', 'grabbed', 'spoon', '13', 'do', 'the', 'words', 'billy', 'don', 'be', 'hero', 'mean', 'anything', 'to', 'you', '13', 'you', 'know', 'here', 'the', 'thing', 'even', 'if', 'could', 'get', 'it', 'together', 'enough', '13', 'to', 'ask', 'woman', 'out', '13', 'who', 'am', 'going', 'to', 'ask', '13', 'isn', 'this', 'amazing', '13', 'have', 'never', 'made', 'coffee', 'before', 'in', 'my', 'life', '13', 'that', 'is', 'amazing', 'congratulations', '13', 'if', 'you', 'feel', 'like', 'you', 'got', 'ta', 'make', 'western', 'omelet', 'or', 'something', '13', 'although', 'actually', 'really', 'not', 'that', 'hungry', '13', 'good', 'morning', 'good', 'morning', '14', 'morning', 'morning', 'paul', '14', 'hello', 'paul', 'hi', 'paul', 'is', 'it', '14', 'last', 'night', 'was', 'like', '14', 'thank', 'you', 'so', 'much', '14', 'we', 'll', 'talk', 'later', '14', 'thank', 'you', '14', 'that', 'wasn', 'real', 'date', '14', 'what', 'the', 'hell', 'do', 'you', 'do', 'on', 'real', 'date', '14', 'shut', 'up', 'and', 'put', 'my', 'table', 'back', '14', 've', 'got', 'to', 'get', 'to', 'work', '14', 'if', 'don', 'input', 'those', 'numbers', 'it', 'doesn', 'make', 'much', 'of', 'difference', '14', 'so', 'like', 'you', 'guys', 'all', 'have', 'jobs', '14', 'yeah', 'we', 'all', 'have', 'jobs', '14', 'that', 'how', 'we', 'buy', 'stuff', '14', 'yeah', 'an', 'actor', '15', 'have', 'seen', 'you', 'in', 'anything', '15', 'doubt', 'it', 'mostly', 'regional', 'work', '15', 'unless', 'you', 'happen', 'to', 'catch', 'the', 'wee', 'one', 'production', 'of', 'pinocchio', '15', 'look', 'geppeto', 'real', 'live', 'boy', '15', 'will', 'not', 'take', 'this', 'abuse', '15', 'you', 're', 'right', 'sorry', '15', 'once', 'was', 'wooden', 'boy', 'little', 'wooden', 'boy', '15', 'how', 'are', 'you', 'doing', 'today', 'you', 'sleep', 'okay', '15', 'did', 'you', 'talk', 'to', 'barry', 'can', 'stop', 'smiling', '15', 'see', 'that', 'you', 'look', 'like', 'you', 'slept', 'with', 'hanger', 'in', 'your', 'mouth', '15', 'know', 'he', 'just', 'so', '15', 'remember', 'you', 'and', 'tony', 'de', 'marco', '15', 'well', 'it', 'like', 'that', 'with', 'feelings', '15', 'are', 'you', 'in', 'trouble', '15', 'going', 'to', 'get', 'up', 'go', 'to', 'work', 'and', 'not', 'think', 'about', 'him', 'all', 'day', '15', 'or', 'else', 'just', 'going', 'to', 'get', 'up', 'and', 'go', 'to', 'work', '16', 'wish', 'me', 'luck', 'what', 'for', '16', 'gon', 'na', 'go', 'get', 'one', 'of', 'those', 'job', 'things', '16', 'hey', 'monica', 'hey', 'franny', 'welcome', 'back', '16', 'how', 'was', 'florida', '16', 'you', 'had', 'sex', 'didn', 'you', '16', 'how', 'do', 'you', 'do', 'that', '16', 'so', 'who', '16', 'you', 'know', 'paul', '16', 'paul', 'the', 'wine', 'guy', '16', 'yeah', 'know', 'paul', '16', 'you', 'mean', 'you', 'know', 'paul', 'like', 'know', 'paul', '16', 'are', 'you', 'kidding', 'take', 'credit', 'for', 'paul', '16', 'before', 'me', 'there', 'was', 'no', 'snap', 'in', 'his', 'turtle', 'for', 'two', 'years', '16', 'of', 'course', 'it', 'was', 'line', '16', 'why', 'why', 'would', 'anybody', 'do', 'something', 'like', 'that', '16', 'we', 're', 'looking', 'for', 'an', 'answer', 'more', 'sophisticated', 'than', '16', 'to', 'get', 'you', 'into', 'bed', '16', 'is', 'it', 'me', '17', 'is', 'it', 'like', 'have', 'some', 'sort', 'of', 'beacon', 'that', 'only', 'dogs', '17', 'and', 'men', 'with', 'emotional', 'problems', 'can', 'hear', '17', 'come', 'here', 'give', 'me', 'your', 'feet', '17', 'just', 'thought', 'he', 'was', 'nice', 'you', 'know', '17', 'can', 'believe', 'you', 'didn', 'know', 'it', 'was', 'line', '17', 'guess', 'what', '17', 'you', 'got', 'job', 'are', 'you', 'kidding', '17', 'trained', 'for', 'nothing', '17', 'was', 'laughed', 'out', 'of', '12', 'interviews', '17', 'you', 're', 'surprisingly', 'upbeat', '17', 'you', 'would', 'be', 'too', 'if', 'you', 'found', 'joan', 'and', 'david', 'boots', 'on', 'sale', '17', '50', 'percent', 'off', '17', 'how', 'well', 'you', 'know', 'me', '17', 'they', 're', 'my', 'don', 'need', 'job', 'or', 'my', 'parents', '17', 've', 'got', 'great', 'boots', 'boots', '17', 'how', 'did', 'you', 'pay', 'for', 'them', 'credit', 'card', '17', 'and', 'who', 'pays', 'for', 'that', '17', 'my', 'father', '18', 'you', 'can', 'live', 'off', 'your', 'parents', '18', 'know', 'that', 'that', 'why', 'was', 'getting', 'married', '18', 'give', 'her', 'break', 'it', 'hard', 'being', 'on', 'your', 'own', 'for', 'the', 'first', 'time', '18', 'thank', 'you', 'you', 're', 'welcome', '18', 'when', 'first', 'came', 'to', 'this', 'city', 'was', '1', '4', '18', 'my', 'mom', 'had', 'killed', 'herself', 'and', 'my', 'stepdad', 'was', 'in', 'prison', '18', 'and', 'got', 'here', 'and', 'didn', 'know', 'anybody', '18', 'ended', 'up', 'living', 'with', 'this', 'albino', 'guy', 'who', 'was', 'cleaning', 'windshields', '18', 'and', 'then', 'he', 'killed', 'himself', '18', 'then', 'found', 'aromatherapy', 'believe', 'me', 'know', 'exactly', 'how', 'you', 'feel', '18', 'the', 'word', 'you', 're', 'looking', 'for', 'is', '18', 'anyway', '18', 'you', 'ready', '18', 'don', 'think', 'so', '18', 'cut', 'cut', 'cut', '18', 'welcome', 'to', 'the', 'real', 'world', '18', 'it', 'sucks', 'you', 're', 'gon', 'na', 'love', 'it', '19', 'that', 'it', '19', 'you', 'gon', 'na', 'crash', 'on', 'the', 'couch', '19', 'no', 'got', 'ta', 'go', 'home', 'sometime', 'are', 'you', 'gon', 'na', 'be', 'okay', '19', 'look', 'what', 'just', 'found', 'on', 'the', 'floor', '19', 'what', '19', 'that', 'paul', 'watch', '19', 'you', 'can', 'just', 'put', 'it', 'back', 'where', 'you', 'found', 'it', '19', 'oh', 'boy', 'all', 'right', '19', 'good', 'night', 'everybody', 'good', 'night', '19', 'sorry', 'no', '19', 'no', 'have', 'it', 'really', 'split', 'it', '19', 'you', 'probably', 'didn', 'know', 'this', 'but', 'back', 'in', 'high', 'school', 'had', '19', 'major', 'crush', 'on', 'you', '19', 'knew', '19', 'you', 'did', '20', 'figured', 'you', 'thought', 'was', 'monica', 'geeky', 'older', 'brother', '20', 'did', '20', 'listen', 'do', 'you', 'think', '20', 'and', 'try', 'not', 'to', 'let', 'my', 'vulnerability', 'become', 'any', 'kind', 'of', 'factor', 'here', '20', 'do', 'you', 'think', 'it', 'would', 'be', 'okay', 'if', 'asked', 'you', 'out', 'sometime', 'maybe', '20', 'maybe', '20', 'okay', 'maybe', 'will', '20', 'good', 'night', 'good', 'night', '20', 'see', 'you', '20', 'wait', 'wait', '21', 'what', 'with', 'you', '21', 'just', 'grabbed', 'spoon', '21', 'can', 'believe', 'what', 'hearing', '21', 'can', 'believe', 'what', 'hearing', '21', 'what', 'said', 'you', 'had', 'what', 'said', 'you', 'had', '21', 'would', 'you', 'stop', '21', 'was', 'doing', 'it', 'again', '21', 'would', 'anybody', 'like', 'more', 'coffee', '21', 'did', 'you', 'make', 'it', '21', 'just', 'serving', 'it', 'll', 'have', 'cup', 'of', 'coffee', '21', 'kids', 'new', 'dream', '21', 'in', 'las', 'vegas', '21', 'liza', 'minnelli', '200', 'font', 'color', 'ffff00', 'size', '14', 'wwwtvsubtitlesnet', 'font']\n"
     ]
    }
   ],
   "source": [
    "# Tokenisasi for Document\n",
    "doc_tokens_trec = [word_tokenize(kalimat) for kalimat in new_df_without_null['Dialogue']]\n",
    "print(*doc_tokens_trec[0:1], sep = \"\\n\")"
   ]
  },
  {
   "cell_type": "code",
   "execution_count": 14,
   "metadata": {
    "colab": {
     "base_uri": "https://localhost:8080/"
    },
    "id": "R-YvkEWPwW-R",
    "outputId": "2c66372b-bd37-4021-d150-6e83ab0f2a3c"
   },
   "outputs": [
    {
     "name": "stderr",
     "output_type": "stream",
     "text": [
      "[nltk_data] Downloading package stopwords to\n",
      "[nltk_data]     C:\\Users\\ASUS\\AppData\\Roaming\\nltk_data...\n",
      "[nltk_data]   Package stopwords is already up-to-date!\n"
     ]
    },
    {
     "data": {
      "text/plain": [
       "True"
      ]
     },
     "execution_count": 14,
     "metadata": {},
     "output_type": "execute_result"
    }
   ],
   "source": [
    "nltk.download('stopwords')"
   ]
  },
  {
   "cell_type": "code",
   "execution_count": 15,
   "metadata": {
    "id": "QkPax37ot0pw"
   },
   "outputs": [],
   "source": [
    "# Stopword for Document\n",
    "doc_stopwords_trec = [[token for token in kalimat if token not in stopwords.words('english')]\n",
    "                                  for kalimat in doc_tokens_trec]"
   ]
  },
  {
   "cell_type": "code",
   "execution_count": 16,
   "metadata": {
    "id": "PhfOlqvE9mrN"
   },
   "outputs": [],
   "source": [
    "def punctuation(txt):\n",
    "  result = re.sub(r'[^\\w\\s]','',txt)\n",
    "  return result\n",
    "new_df_without_null['Dialogue'] = new_df_without_null['Dialogue'].apply(punctuation)\n"
   ]
  },
  {
   "cell_type": "code",
   "execution_count": 17,
   "metadata": {
    "colab": {
     "base_uri": "https://localhost:8080/",
     "height": 123
    },
    "id": "JvaYW6RhvN5f",
    "outputId": "8e8fd15c-dc50-458e-ede6-b119d196b0db"
   },
   "outputs": [
    {
     "data": {
      "text/plain": [
       "'you guys don  understand for us kissing is as important as any part of it yeah right you serious oh yeah all you need to know is in the first kiss absolutely for us kissing  an opening act like the comedian you have to sit through 00 before pink floyd comes out 1and it  not that we don  like the comedian 1it  just that that  not 1 why we bought the ticket 1the problem is after the concert no matter how great the show was 1 you girls are always looking for the comedian again 1we re in the car fighting traffic 1 just trying to stay awake 1well word of advice bring back the comedian 00 or next time you ll find yourself listening to that album alone 01 are we still talking about sex 01 the one with the sonogram at the end 01 english subtitles by gelula co inc 02 no it  good it is good 02 it  just that doesn  she seem  little angry 02 well she has issues 02 does she 02 he  out banging other women with  club 02 while she  home getting the mastodon smell out of the carpet 02 marsha see these are cave people 02 okay they have issues like 02 gee that glacier  getting kind of close see 02 speaking of issues isn  that your exwife 02 yes it is carol hi 02 okay yes it is 02  ll catch up with you in the ice age 02 hi 03 so 03 you look great 03  hate that 03 sorry 03 thanks you look good too 03 well you know in here anyone who 03 stands erect 03 so what  new still  03  lesbian 03 you never know 03 how  the family 03 marty  still totally paranoid 03 carol why are you here 03   pregnant 03 pregnant 03 she didn  leave in such  hurry after all 03 this is the three  company episode where  there   misunderstanding 03 then  ve already seen this one 03 are you through with that 04 sorry the swallowing slowed me down 04 whose ball of paper is this 04 that  mine  wrote  note to myself then  didn  need it 04 so  balled it up and now  wish  was dead 04 she already fluffed that pillow you already fluffed it  fine 04  don  want to give them any more ammunition than they have 04 we know how cruel parents can be 04 about the flatness of  child  pillow 04 monica hi 04 monica you re scaring me 04  mean you re all chaotic and twirly you know 04 not in  good way 04 yeah calm down 04 you don  see ross getting chaotic and twirly every time they come 04 that  because my parents think ross can do no wrong 04 you see he  the prince 04 apparently they had some big ceremony before  was born 05 what ugly naked guy got  thighmaster 05 has anybody seen my engagement ring yeah it  beautiful 05 oh god oh god 05 no don  touch that 05 like  wasn  dreading tomorrow enough having to return it to him 05 barry remember me   the girl 05 that stomped on your heart in front of your family 05 now  must return the ring without the ring 05 which makes it so much harder 05 easy we ll find it won  we 05 okay look 05 when did you have it last 05 doy probably right before she lost it 05 you don  get  lot of doy these days 05  know  had it this morning 05  know  had it when  was in the kitchen with 06 dinah 06 oh don  be mad 06 you didn  oh   sorry 06  gave you one job 06 but look how straight those noodles are 06 that  not how you look for an engagement ring in  lasagna 06  just can  do it 06 boys 06 we re going in 06 hi 06 that is not  happy hi 06 carol  pregnant 06  found it 06 yeah 06 do that for two hours 06 you might be where  am right about now 07 that puts that whole pillow thing in perspective 07 how do you fit into this whole thing 07 carol says she and susan want me to be involved 07 but if   not comfortable with it  don  have to be involved 07 basically it  totally up to me 07 she is so great  miss her 07 what does she mean by involved 07 presumably the biggest part of your job is done 07 anyway they want me to go down to this 07 sonogram thing with them tomorrow 07 what ll you do 07  have no idea 07 no matter what  do though   still gonna be  father 07 this is still ruined right 08 martha lugwin  daughter is going to call you 08 what  that curry taste 08 curry 08  think they re great  really do 08 remember the lugwins the big one had  thing for you 08 they all had  thing for him 08 oh mom 08 why is this girl going to call me 08 she just graduated and she wants to be something in cooking food 08 or  don  know 08  told her you had  restaurant 08  don  have  restaurant  work in  restaurant 08 they don  have to know that 08 ross help me with the spaghetti 08 oh we re having spaghetti that  08 easy 08 this ll sound unbelievably selfish on my part 08 but did you plan on bringing up the baby lesbian thing 08 it  take the heat off of me 09 what rachel did to her life we ran into her parents at the club 09 they were not playing very well 09  won  say what they spent on that wedding 09 but is  lot of money 09 at least she had the chance to leave  man at the altar 09 what  that supposed to mean 09 nothing 09 it  an expression no it  not 09 don  listen to her you ve always been independent 09 even when you were  kid and you were chubby 09 and you had no friends you were just fine 09 you  read alone in your room and your puzzles 09 there are people like ross who need to shoot for the stars 09 with his museum and his papers getting published 09 others are satisfied as they are 09   telling you these are the people who never get cancer 10  read about women trying to have it all and  thank god 10 our little harmonica doesn  have that problem 10 so ross what  going on with you 10 any stories no news no little anecdotes to share with the folks 10 look  realize you guys have been wondering 10 what exactly happened between carol and me 10 so here  the deal 10 carol   lesbian 10 she  living with  woman named susan 10 she  pregnant with my child 10 and she and susan are going to raise the baby 10 and you knew about this 11 your folks are really that bad 11 well you know these people are pros 11 they know what they do they take their time 11 they get the job done 11 boy  know they say that you can  change your parents 11 boy if you could   want yours 11 must pee 11 it  worse when you re twins 11 you re  twin yeah we don  speak 11 she  this highpowered driven careertype 11 what does she do she   waitress 11 all right you guys  kind of gotta clean up now 11 chandler you re an only child you don  have any of this 11 no although  did have an imaginary friend 11 who my parents preferred 11 hit the lights please 12 how long was  in there 12   just cleaning up 12 do you need any help 12 okay sure thanks 12 anyway 12 so you nervous about barry tomorrow 12  little 12  lot 12 so got any advice 12 you know as someone who  recently been dumped 12 well you may want to steer clear of the word dumped 12 chances are he  going to be this broken shell of  man you know 12 you should try not to look too terrific  know it ll be hard 12 you know  ll go down there and  ll give barry back his ring 13 and you can go with carol and susan to the obg yn 13 you ve got carol tomorrow 13 when did it get so complicated 13 got me 13 remember when we were in high school together 13 didn  you think you  meet someone 13 fall in love and that  be it 13 man  never thought   be here 13 me neither 14 sorry   late  got stuck at work 14 there was this big dinosaur thing anyway 14 hi 14 you remember susan how could  forget 14 hello susan good shake good shake 14 so we re just waiting for 14 dr oberman and is he 14 she of course she 14 is she familiar with our special situation 14 yes and she  very supportive 14 great okay that  great 14 no   14 thanks 15 that opens my cervix 15 barry 15 come on in 15 are you sure 15 it  fine it  fine robbie  gonna be here for hours 15 so how are you doing 15   15   okay 15 you look great 15 dr farber jason greenspan  gagging 15 be right there  ll be back in  second 15  dumped him 15 so how  this going to work 16 you know with us 16 you know when important decisions have to be made 16 give me  for instance 16 well  don  know 16 how about with the baby  name marlon 16 if it   boy minnie if it   girl 16 as in mouse 16 as in my grandmother 16 still you say minnie you hear mouse 16 how about 16 how about julia 16 julia 16 we agreed on minnie 16 we agreed we  spend our lives together 16 things change roll with the punches 16  believe julia  on the table 16 sorry about that 16 so what have you been up to 16 not much 16  got  job 16 that  great 17 why are you so tan 17  went to aruba 17 oh no you went on our honeymoon alone 17 no 17 see  went with 17 now this may hurt me 17  went with mindy 17 mindy 17 my maid of honor 17 we re kind of  thing now 17 you got plugs 17 careful careful they haven  quite taken yet 17 and you got lenses 17 but you hate sticking your finger in your eye 17 not for her 17 listen  really wanted to thank you 17  month ago  wanted to hurt you 17 more than  ve ever wanted to hurt anyone 18 and   an orthodontist 18 you know you were right 18  thought we were happy 18 we weren  18 but with mindy 18 now   happy 18 spit what 18 me 18 anyway 18  guess this belongs to you 18 and thank you for giving it to me 18 well thank you for giving it back 18 hello 18 oh please what  wrong with helen 18 helen geller 18  don  think so 18 it  not gonna be helen geller 18 thank you 18 no  mean it  not geller 18 it ll be helen willick 18 actually we talked about helen willick bunch 19 well wait  minute why is she in the title 19 it  my baby too 19 really  don  remember you making any sperm 19 and we all know what  challenge that is 19 you two stop it 19 she gets  credit   in there too 19 not helen willick bunch geller  think that borders on child abuse 19 of course not   suggesting geller willick bunch 19 he knows no one will say all those names 19 they ll end up calling her geller then he gets his way 19 my way you think this is my way 19 of all the ways  ever imagined this moment in my life being 19 this is not my way you know what this is too hard 19 knock knock how are we today any nausea 19  little just  little 19  was just wondering about the mothertobe but thanks for sharing 19 lie back 19 you know what   gonna go 20  don  think  can be involved in this particular family thing 20 oh my god 20 look at that 20  know 20 well isn  that amazing 20 what are we supposed to see 20  don  know but  think it  about to attack the enterprise 20 if you tilt your head to the left and relax your eyes 20 it kind of looks like an old potato 20 then don  do that all right 20 what do you think 21 are you welling up 21 you are 21 you are you re welling up   not 21 you re going to be an aunt oh shut up 21 hi mindy 21 hi it  rachel 21 yeah   fine  saw barry today 21 he told me no it  okay really it  okay 21  hope you two are very happy  really do 21 and min you know if everything works out 21 and you guys end up getting married and having kids 21  hope they have his old hairline and your old nose 21  know it was  cheap shot but  feel so much better now 200 font color ffff00 size 14 wwwtvsubtitlesnet font'"
      ]
     },
     "execution_count": 17,
     "metadata": {},
     "output_type": "execute_result"
    }
   ],
   "source": [
    "new_df_without_null['Dialogue'][1]"
   ]
  },
  {
   "cell_type": "code",
   "execution_count": 18,
   "metadata": {
    "id": "gZ_PsQHzTMtj"
   },
   "outputs": [],
   "source": [
    "class BM25:\n",
    "    def __init__(self, k1=1.2, b=0.75):\n",
    "        self.b = b\n",
    "        self.k1 = k1\n",
    "\n",
    "    def fit(self, corpus):\n",
    "        \"\"\"\n",
    "        Fit the various statistics that are required to calculate BM25 ranking\n",
    "        score using the corpus given.\n",
    "\n",
    "        Parameters\n",
    "        ----------\n",
    "        corpus : list[list[str]]\n",
    "            Each element in the list represents a document, and each document\n",
    "            is a list of the terms.\n",
    "\n",
    "        Returns\n",
    "        -------\n",
    "        self\n",
    "        \"\"\"\n",
    "        tf = []\n",
    "        df = {}\n",
    "        idf = {}\n",
    "        doc_len = []\n",
    "        corpus_size = 0\n",
    "        for document in corpus:\n",
    "            corpus_size += 1\n",
    "            doc_len.append(len(document))\n",
    "\n",
    "            # compute tf (term frequency) per document\n",
    "            frequencies = {}\n",
    "            for term in document:\n",
    "                term_count = frequencies.get(term, 0) + 1\n",
    "                frequencies[term] = term_count\n",
    "\n",
    "            tf.append(frequencies)\n",
    "\n",
    "            # compute df (document frequency) per term\n",
    "            for term, _ in frequencies.items():\n",
    "                df_count = df.get(term, 0) + 1\n",
    "                df[term] = df_count\n",
    "\n",
    "        for term, freq in df.items():\n",
    "            idf[term] = math.log(1 + (corpus_size - freq + 0.5) / (freq + 0.5))\n",
    "\n",
    "        self.tf_ = tf\n",
    "        self.df_ = df\n",
    "        self.idf_ = idf\n",
    "        self.doc_len_ = doc_len\n",
    "        self.corpus_ = corpus\n",
    "        self.corpus_size_ = corpus_size\n",
    "        self.avg_doc_len_ = sum(doc_len) / corpus_size\n",
    "        return self\n",
    "\n",
    "    def search(self, query):\n",
    "        scores = [self._score(query, index) for index in range(self.corpus_size_)]\n",
    "        return scores\n",
    "\n",
    "    def _score(self, query, index):\n",
    "        score = 0.0\n",
    "\n",
    "        doc_len = self.doc_len_[index]\n",
    "        frequencies = self.tf_[index]\n",
    "        for term in query:\n",
    "            if term not in frequencies:\n",
    "                continue\n",
    "\n",
    "            freq = frequencies[term]\n",
    "            numerator = self.idf_[term] * freq * (self.k1 + 1)\n",
    "            denominator = freq + self.k1 * (1 - self.b + self.b * doc_len / self.avg_doc_len_)\n",
    "            score += (numerator / denominator)\n",
    "\n",
    "        return score"
   ]
  },
  {
   "cell_type": "code",
   "execution_count": 19,
   "metadata": {
    "id": "KVhDRpvbxoi5"
   },
   "outputs": [],
   "source": [
    "import math\n",
    "import json\n",
    "import requests"
   ]
  },
  {
   "cell_type": "code",
   "execution_count": 20,
   "metadata": {
    "id": "DnUf0FwXBJaU"
   },
   "outputs": [],
   "source": [
    "query = \"you guys don't understand for us kissing\"\n",
    "stopwords = set(['for', 'a', 'of', 'the', 'and', 'to', 'in'])\n",
    "query = [word for word in query.lower().split() if word not in stopwords]\n",
    "\n",
    "bm25 = BM25()\n",
    "bm25.fit(doc_stopwords_trec)\n",
    "scores = bm25.search(query)\n",
    "data1 = []\n",
    "data2 =[]\n",
    "for score, doc in zip(scores, new_df_without_null['Dialogue']):\n",
    "    score = round(score, 3)\n",
    "    data1.append(str(score))\n",
    "    data2.append(doc)"
   ]
  },
  {
   "cell_type": "code",
   "execution_count": 21,
   "metadata": {
    "id": "9bZUUEDgCTzd"
   },
   "outputs": [],
   "source": [
    "data4 = pd.DataFrame({'Score':data1,'Doc':data2})"
   ]
  },
  {
   "cell_type": "code",
   "execution_count": 22,
   "metadata": {
    "colab": {
     "base_uri": "https://localhost:8080/",
     "height": 363
    },
    "id": "1T5yEp_1DQJy",
    "outputId": "eab21048-ec68-4817-b4a3-b991a140b472"
   },
   "outputs": [
    {
     "data": {
      "text/html": [
       "<div>\n",
       "<style scoped>\n",
       "    .dataframe tbody tr th:only-of-type {\n",
       "        vertical-align: middle;\n",
       "    }\n",
       "\n",
       "    .dataframe tbody tr th {\n",
       "        vertical-align: top;\n",
       "    }\n",
       "\n",
       "    .dataframe thead th {\n",
       "        text-align: right;\n",
       "    }\n",
       "</style>\n",
       "<table border=\"1\" class=\"dataframe\">\n",
       "  <thead>\n",
       "    <tr style=\"text-align: right;\">\n",
       "      <th></th>\n",
       "      <th>Score</th>\n",
       "      <th>Doc</th>\n",
       "    </tr>\n",
       "  </thead>\n",
       "  <tbody>\n",
       "    <tr>\n",
       "      <th>0</th>\n",
       "      <td>0.194</td>\n",
       "      <td>there  nothing to tell it  just some guy  work...</td>\n",
       "    </tr>\n",
       "    <tr>\n",
       "      <th>1</th>\n",
       "      <td>3.984</td>\n",
       "      <td>you guys don  understand for us kissing is as ...</td>\n",
       "    </tr>\n",
       "    <tr>\n",
       "      <th>2</th>\n",
       "      <td>1.017</td>\n",
       "      <td>hi guys hey pheebs oh oh how  it go um not so ...</td>\n",
       "    </tr>\n",
       "    <tr>\n",
       "      <th>3</th>\n",
       "      <td>0.236</td>\n",
       "      <td>all right phoebe if  were omnipotent for  day ...</td>\n",
       "    </tr>\n",
       "    <tr>\n",
       "      <th>4</th>\n",
       "      <td>0.256</td>\n",
       "      <td>let it go it  not  big deal not  big deal it  ...</td>\n",
       "    </tr>\n",
       "    <tr>\n",
       "      <th>5</th>\n",
       "      <td>0.279</td>\n",
       "      <td>oh look there  joey  picture this is so exciti...</td>\n",
       "    </tr>\n",
       "    <tr>\n",
       "      <th>6</th>\n",
       "      <td>0.205</td>\n",
       "      <td>hey gorgeous how  it going dehydrated japanese...</td>\n",
       "    </tr>\n",
       "    <tr>\n",
       "      <th>7</th>\n",
       "      <td>0.205</td>\n",
       "      <td>hey gorgeous how  it going dehydrated japanese...</td>\n",
       "    </tr>\n",
       "    <tr>\n",
       "      <th>8</th>\n",
       "      <td>0.208</td>\n",
       "      <td>terry  know  haven  worked here long but  was ...</td>\n",
       "    </tr>\n",
       "    <tr>\n",
       "      <th>9</th>\n",
       "      <td>4.51</td>\n",
       "      <td>guys there  somebody   like you to meet wait w...</td>\n",
       "    </tr>\n",
       "  </tbody>\n",
       "</table>\n",
       "</div>"
      ],
      "text/plain": [
       "   Score                                                Doc\n",
       "0  0.194  there  nothing to tell it  just some guy  work...\n",
       "1  3.984  you guys don  understand for us kissing is as ...\n",
       "2  1.017  hi guys hey pheebs oh oh how  it go um not so ...\n",
       "3  0.236  all right phoebe if  were omnipotent for  day ...\n",
       "4  0.256  let it go it  not  big deal not  big deal it  ...\n",
       "5  0.279  oh look there  joey  picture this is so exciti...\n",
       "6  0.205  hey gorgeous how  it going dehydrated japanese...\n",
       "7  0.205  hey gorgeous how  it going dehydrated japanese...\n",
       "8  0.208  terry  know  haven  worked here long but  was ...\n",
       "9   4.51  guys there  somebody   like you to meet wait w..."
      ]
     },
     "execution_count": 22,
     "metadata": {},
     "output_type": "execute_result"
    }
   ],
   "source": [
    "data4.head(10)"
   ]
  },
  {
   "cell_type": "code",
   "execution_count": 23,
   "metadata": {
    "colab": {
     "base_uri": "https://localhost:8080/"
    },
    "id": "2piVoqCLfDTt",
    "outputId": "301eb8bc-7e79-4f70-c05a-11987eaf84de"
   },
   "outputs": [
    {
     "name": "stdout",
     "output_type": "stream",
     "text": [
      "['Doc0', 'Doc1', 'Doc2', 'Doc3', 'Doc4', 'Doc5', 'Doc6', 'Doc7', 'Doc8', 'Doc9', 'Doc10', 'Doc11', 'Doc12', 'Doc13', 'Doc14', 'Doc15', 'Doc16', 'Doc17', 'Doc18', 'Doc19', 'Doc20', 'Doc21', 'Doc22', 'Doc23', 'Doc24', 'Doc25', 'Doc26', 'Doc27', 'Doc28', 'Doc29', 'Doc30', 'Doc31', 'Doc32', 'Doc33', 'Doc34', 'Doc35', 'Doc36', 'Doc37', 'Doc38', 'Doc39', 'Doc40', 'Doc41', 'Doc42', 'Doc43', 'Doc44', 'Doc45', 'Doc46', 'Doc47', 'Doc48', 'Doc49', 'Doc50', 'Doc51', 'Doc52', 'Doc53', 'Doc54', 'Doc55', 'Doc56', 'Doc57', 'Doc58', 'Doc59', 'Doc60', 'Doc61', 'Doc62', 'Doc63', 'Doc64', 'Doc65', 'Doc66', 'Doc67', 'Doc68', 'Doc69', 'Doc70', 'Doc71', 'Doc72', 'Doc73', 'Doc74', 'Doc75', 'Doc76', 'Doc77', 'Doc78', 'Doc79', 'Doc80', 'Doc81', 'Doc82', 'Doc83', 'Doc84', 'Doc85', 'Doc86', 'Doc87', 'Doc88', 'Doc89', 'Doc90', 'Doc91', 'Doc92', 'Doc93', 'Doc94', 'Doc95', 'Doc96', 'Doc97', 'Doc98', 'Doc99', 'Doc100', 'Doc101', 'Doc102', 'Doc103', 'Doc104', 'Doc105', 'Doc106', 'Doc107', 'Doc108', 'Doc109', 'Doc110', 'Doc111', 'Doc112', 'Doc113', 'Doc114', 'Doc115', 'Doc116', 'Doc117', 'Doc118', 'Doc119', 'Doc120', 'Doc121', 'Doc122', 'Doc123', 'Doc124', 'Doc125', 'Doc126', 'Doc127', 'Doc128', 'Doc129', 'Doc130', 'Doc131', 'Doc132', 'Doc133', 'Doc134', 'Doc135', 'Doc136', 'Doc137', 'Doc138', 'Doc139', 'Doc140', 'Doc141', 'Doc142', 'Doc143', 'Doc144', 'Doc145', 'Doc146', 'Doc147', 'Doc148', 'Doc149', 'Doc150', 'Doc151', 'Doc152', 'Doc153', 'Doc154', 'Doc155', 'Doc156', 'Doc157', 'Doc158', 'Doc159', 'Doc160', 'Doc161', 'Doc162', 'Doc163', 'Doc164', 'Doc165', 'Doc166', 'Doc167', 'Doc168', 'Doc169', 'Doc170', 'Doc171', 'Doc172', 'Doc173', 'Doc174', 'Doc175', 'Doc176', 'Doc177', 'Doc178', 'Doc179', 'Doc180', 'Doc181', 'Doc182', 'Doc183', 'Doc184', 'Doc185', 'Doc186', 'Doc187', 'Doc188', 'Doc189', 'Doc190', 'Doc191', 'Doc192', 'Doc193', 'Doc194', 'Doc195', 'Doc196', 'Doc197', 'Doc198', 'Doc199', 'Doc200', 'Doc201', 'Doc202', 'Doc203', 'Doc204', 'Doc205', 'Doc206', 'Doc207', 'Doc208', 'Doc209', 'Doc210', 'Doc211', 'Doc212', 'Doc213', 'Doc214', 'Doc215', 'Doc216', 'Doc217', 'Doc218', 'Doc219', 'Doc220', 'Doc221', 'Doc222', 'Doc223', 'Doc224', 'Doc225', 'Doc226', 'Doc227', 'Doc228']\n"
     ]
    }
   ],
   "source": [
    "data_1 = []\n",
    "for i in range(len(data4['Doc'])):\n",
    "  i = str(i)\n",
    "  data_1.append('Doc'+i)\n",
    "print(data_1)\n",
    "data4['doc_id'] = data_1"
   ]
  },
  {
   "cell_type": "code",
   "execution_count": 24,
   "metadata": {
    "id": "G6tY9ZcYf-IC"
   },
   "outputs": [],
   "source": [
    "data_2 = []\n",
    "for i, a in enumerate(data4['Doc']):\n",
    "  dict_1 = {\n",
    "      'doc_id': data_1[i],\n",
    "      'isi' : a\n",
    "  }\n",
    "  data_2.append(dict_1)\n",
    "data4['new_doc'] = data_2"
   ]
  },
  {
   "cell_type": "code",
   "execution_count": 25,
   "metadata": {
    "id": "mjs4NRbHhGBd"
   },
   "outputs": [],
   "source": [
    "data5 = pd.DataFrame({'Score':data1,'Doc': data_1,'Doc Specific':data_2})"
   ]
  },
  {
   "cell_type": "code",
   "execution_count": 26,
   "metadata": {
    "colab": {
     "base_uri": "https://localhost:8080/",
     "height": 363
    },
    "id": "jdrcHjXtoJoQ",
    "outputId": "06587857-a62b-4127-fcdb-1fb6d104f0d0"
   },
   "outputs": [
    {
     "data": {
      "text/html": [
       "<div>\n",
       "<style scoped>\n",
       "    .dataframe tbody tr th:only-of-type {\n",
       "        vertical-align: middle;\n",
       "    }\n",
       "\n",
       "    .dataframe tbody tr th {\n",
       "        vertical-align: top;\n",
       "    }\n",
       "\n",
       "    .dataframe thead th {\n",
       "        text-align: right;\n",
       "    }\n",
       "</style>\n",
       "<table border=\"1\" class=\"dataframe\">\n",
       "  <thead>\n",
       "    <tr style=\"text-align: right;\">\n",
       "      <th></th>\n",
       "      <th>Score</th>\n",
       "      <th>Doc</th>\n",
       "      <th>Doc Specific</th>\n",
       "    </tr>\n",
       "  </thead>\n",
       "  <tbody>\n",
       "    <tr>\n",
       "      <th>0</th>\n",
       "      <td>0.194</td>\n",
       "      <td>Doc0</td>\n",
       "      <td>{'doc_id': 'Doc0', 'isi': 'there  nothing to t...</td>\n",
       "    </tr>\n",
       "    <tr>\n",
       "      <th>1</th>\n",
       "      <td>3.984</td>\n",
       "      <td>Doc1</td>\n",
       "      <td>{'doc_id': 'Doc1', 'isi': 'you guys don  under...</td>\n",
       "    </tr>\n",
       "    <tr>\n",
       "      <th>2</th>\n",
       "      <td>1.017</td>\n",
       "      <td>Doc2</td>\n",
       "      <td>{'doc_id': 'Doc2', 'isi': 'hi guys hey pheebs ...</td>\n",
       "    </tr>\n",
       "    <tr>\n",
       "      <th>3</th>\n",
       "      <td>0.236</td>\n",
       "      <td>Doc3</td>\n",
       "      <td>{'doc_id': 'Doc3', 'isi': 'all right phoebe if...</td>\n",
       "    </tr>\n",
       "    <tr>\n",
       "      <th>4</th>\n",
       "      <td>0.256</td>\n",
       "      <td>Doc4</td>\n",
       "      <td>{'doc_id': 'Doc4', 'isi': 'let it go it  not  ...</td>\n",
       "    </tr>\n",
       "    <tr>\n",
       "      <th>5</th>\n",
       "      <td>0.279</td>\n",
       "      <td>Doc5</td>\n",
       "      <td>{'doc_id': 'Doc5', 'isi': 'oh look there  joey...</td>\n",
       "    </tr>\n",
       "    <tr>\n",
       "      <th>6</th>\n",
       "      <td>0.205</td>\n",
       "      <td>Doc6</td>\n",
       "      <td>{'doc_id': 'Doc6', 'isi': 'hey gorgeous how  i...</td>\n",
       "    </tr>\n",
       "    <tr>\n",
       "      <th>7</th>\n",
       "      <td>0.205</td>\n",
       "      <td>Doc7</td>\n",
       "      <td>{'doc_id': 'Doc7', 'isi': 'hey gorgeous how  i...</td>\n",
       "    </tr>\n",
       "    <tr>\n",
       "      <th>8</th>\n",
       "      <td>0.208</td>\n",
       "      <td>Doc8</td>\n",
       "      <td>{'doc_id': 'Doc8', 'isi': 'terry  know  haven ...</td>\n",
       "    </tr>\n",
       "    <tr>\n",
       "      <th>9</th>\n",
       "      <td>4.51</td>\n",
       "      <td>Doc9</td>\n",
       "      <td>{'doc_id': 'Doc9', 'isi': 'guys there  somebod...</td>\n",
       "    </tr>\n",
       "  </tbody>\n",
       "</table>\n",
       "</div>"
      ],
      "text/plain": [
       "   Score   Doc                                       Doc Specific\n",
       "0  0.194  Doc0  {'doc_id': 'Doc0', 'isi': 'there  nothing to t...\n",
       "1  3.984  Doc1  {'doc_id': 'Doc1', 'isi': 'you guys don  under...\n",
       "2  1.017  Doc2  {'doc_id': 'Doc2', 'isi': 'hi guys hey pheebs ...\n",
       "3  0.236  Doc3  {'doc_id': 'Doc3', 'isi': 'all right phoebe if...\n",
       "4  0.256  Doc4  {'doc_id': 'Doc4', 'isi': 'let it go it  not  ...\n",
       "5  0.279  Doc5  {'doc_id': 'Doc5', 'isi': 'oh look there  joey...\n",
       "6  0.205  Doc6  {'doc_id': 'Doc6', 'isi': 'hey gorgeous how  i...\n",
       "7  0.205  Doc7  {'doc_id': 'Doc7', 'isi': 'hey gorgeous how  i...\n",
       "8  0.208  Doc8  {'doc_id': 'Doc8', 'isi': 'terry  know  haven ...\n",
       "9   4.51  Doc9  {'doc_id': 'Doc9', 'isi': 'guys there  somebod..."
      ]
     },
     "execution_count": 26,
     "metadata": {},
     "output_type": "execute_result"
    }
   ],
   "source": [
    "data5.head(10)"
   ]
  },
  {
   "cell_type": "code",
   "execution_count": 27,
   "metadata": {
    "id": "J4kc0aZFDBCw"
   },
   "outputs": [],
   "source": [
    "data5.to_csv('data.csv',index = False)"
   ]
  },
  {
   "cell_type": "markdown",
   "metadata": {},
   "source": [
    "### BERT"
   ]
  },
  {
   "cell_type": "code",
   "execution_count": 28,
   "metadata": {},
   "outputs": [
    {
     "name": "stderr",
     "output_type": "stream",
     "text": [
      "[nltk_data] Downloading package punkt to\n",
      "[nltk_data]     C:\\Users\\ASUS\\AppData\\Roaming\\nltk_data...\n",
      "[nltk_data]   Package punkt is already up-to-date!\n"
     ]
    }
   ],
   "source": [
    "import pandas as pd\n",
    "import re\n",
    "import nltk\n",
    "nltk.download('punkt')\n",
    "\n",
    "from nltk.tokenize import word_tokenize\n",
    "from nltk.corpus import stopwords\n",
    "from nltk.stem.porter import PorterStemmer"
   ]
  },
  {
   "cell_type": "code",
   "execution_count": 29,
   "metadata": {},
   "outputs": [
    {
     "data": {
      "text/html": [
       "<div>\n",
       "<style scoped>\n",
       "    .dataframe tbody tr th:only-of-type {\n",
       "        vertical-align: middle;\n",
       "    }\n",
       "\n",
       "    .dataframe tbody tr th {\n",
       "        vertical-align: top;\n",
       "    }\n",
       "\n",
       "    .dataframe thead th {\n",
       "        text-align: right;\n",
       "    }\n",
       "</style>\n",
       "<table border=\"1\" class=\"dataframe\">\n",
       "  <thead>\n",
       "    <tr style=\"text-align: right;\">\n",
       "      <th></th>\n",
       "      <th>episode</th>\n",
       "      <th>Dialogue</th>\n",
       "    </tr>\n",
       "  </thead>\n",
       "  <tbody>\n",
       "    <tr>\n",
       "      <th>0</th>\n",
       "      <td>1x01 - The One Where Monica Gets A Roommate.7...</td>\n",
       "      <td>there s nothing to tell it s just some guy i w...</td>\n",
       "    </tr>\n",
       "    <tr>\n",
       "      <th>1</th>\n",
       "      <td>1x02 - The One With The Sonogram At The End.</td>\n",
       "      <td>you guys don t understand for us kissing is as...</td>\n",
       "    </tr>\n",
       "    <tr>\n",
       "      <th>2</th>\n",
       "      <td>1x03 - The One With The Thumb.720p HDTV.TvR.</td>\n",
       "      <td>hi guys hey pheebs oh oh how d it go um not so...</td>\n",
       "    </tr>\n",
       "    <tr>\n",
       "      <th>3</th>\n",
       "      <td>1x04 - The One With George Stephanopoulos.720...</td>\n",
       "      <td>all right phoebe if i were omnipotent for a da...</td>\n",
       "    </tr>\n",
       "    <tr>\n",
       "      <th>4</th>\n",
       "      <td>1x05 - The One With The East German Laundry D...</td>\n",
       "      <td>let it go it s not a big deal not a big deal i...</td>\n",
       "    </tr>\n",
       "    <tr>\n",
       "      <th>5</th>\n",
       "      <td>1x06 - The One With The Butt.720p HDTV.TvR.</td>\n",
       "      <td>oh look there s joey s picture this is so exci...</td>\n",
       "    </tr>\n",
       "    <tr>\n",
       "      <th>6</th>\n",
       "      <td>1x07 - The One With The Blackout.720p HDTV.TvR.</td>\n",
       "      <td>hey gorgeous how s it going dehydrated japanes...</td>\n",
       "    </tr>\n",
       "    <tr>\n",
       "      <th>7</th>\n",
       "      <td>1x08 - The One Where Nana Dies Twice.720p HDT...</td>\n",
       "      <td>hey gorgeous how s it going dehydrated japanes...</td>\n",
       "    </tr>\n",
       "    <tr>\n",
       "      <th>8</th>\n",
       "      <td>1x09 - The One Where Underdog Gets Away.720p ...</td>\n",
       "      <td>terry i know i haven t worked here long     bu...</td>\n",
       "    </tr>\n",
       "    <tr>\n",
       "      <th>9</th>\n",
       "      <td>1x10 - The One With The Monkey.</td>\n",
       "      <td>guys there s somebody i d like you to meet wai...</td>\n",
       "    </tr>\n",
       "  </tbody>\n",
       "</table>\n",
       "</div>"
      ],
      "text/plain": [
       "                                             episode  \\\n",
       "0   1x01 - The One Where Monica Gets A Roommate.7...   \n",
       "1       1x02 - The One With The Sonogram At The End.   \n",
       "2       1x03 - The One With The Thumb.720p HDTV.TvR.   \n",
       "3   1x04 - The One With George Stephanopoulos.720...   \n",
       "4   1x05 - The One With The East German Laundry D...   \n",
       "5        1x06 - The One With The Butt.720p HDTV.TvR.   \n",
       "6    1x07 - The One With The Blackout.720p HDTV.TvR.   \n",
       "7   1x08 - The One Where Nana Dies Twice.720p HDT...   \n",
       "8   1x09 - The One Where Underdog Gets Away.720p ...   \n",
       "9                    1x10 - The One With The Monkey.   \n",
       "\n",
       "                                            Dialogue  \n",
       "0  there s nothing to tell it s just some guy i w...  \n",
       "1  you guys don t understand for us kissing is as...  \n",
       "2  hi guys hey pheebs oh oh how d it go um not so...  \n",
       "3  all right phoebe if i were omnipotent for a da...  \n",
       "4  let it go it s not a big deal not a big deal i...  \n",
       "5  oh look there s joey s picture this is so exci...  \n",
       "6  hey gorgeous how s it going dehydrated japanes...  \n",
       "7  hey gorgeous how s it going dehydrated japanes...  \n",
       "8  terry i know i haven t worked here long     bu...  \n",
       "9  guys there s somebody i d like you to meet wai...  "
      ]
     },
     "execution_count": 29,
     "metadata": {},
     "output_type": "execute_result"
    }
   ],
   "source": [
    "df_bert = pd.read_csv(\"./Dataset/Friends dialogues.csv\")\n",
    "\n",
    "# melihat dataset\n",
    "df_bert.head(10)"
   ]
  },
  {
   "cell_type": "code",
   "execution_count": 30,
   "metadata": {},
   "outputs": [],
   "source": [
    "new_df = df_bert.drop(\"episode\", axis=1, inplace=True)"
   ]
  },
  {
   "cell_type": "code",
   "execution_count": 31,
   "metadata": {},
   "outputs": [
    {
     "data": {
      "text/html": [
       "<div>\n",
       "<style scoped>\n",
       "    .dataframe tbody tr th:only-of-type {\n",
       "        vertical-align: middle;\n",
       "    }\n",
       "\n",
       "    .dataframe tbody tr th {\n",
       "        vertical-align: top;\n",
       "    }\n",
       "\n",
       "    .dataframe thead th {\n",
       "        text-align: right;\n",
       "    }\n",
       "</style>\n",
       "<table border=\"1\" class=\"dataframe\">\n",
       "  <thead>\n",
       "    <tr style=\"text-align: right;\">\n",
       "      <th></th>\n",
       "      <th>Dialogue</th>\n",
       "    </tr>\n",
       "  </thead>\n",
       "  <tbody>\n",
       "    <tr>\n",
       "      <th>0</th>\n",
       "      <td>there s nothing to tell it s just some guy i w...</td>\n",
       "    </tr>\n",
       "    <tr>\n",
       "      <th>1</th>\n",
       "      <td>you guys don t understand for us kissing is as...</td>\n",
       "    </tr>\n",
       "    <tr>\n",
       "      <th>2</th>\n",
       "      <td>hi guys hey pheebs oh oh how d it go um not so...</td>\n",
       "    </tr>\n",
       "    <tr>\n",
       "      <th>3</th>\n",
       "      <td>all right phoebe if i were omnipotent for a da...</td>\n",
       "    </tr>\n",
       "    <tr>\n",
       "      <th>4</th>\n",
       "      <td>let it go it s not a big deal not a big deal i...</td>\n",
       "    </tr>\n",
       "    <tr>\n",
       "      <th>5</th>\n",
       "      <td>oh look there s joey s picture this is so exci...</td>\n",
       "    </tr>\n",
       "    <tr>\n",
       "      <th>6</th>\n",
       "      <td>hey gorgeous how s it going dehydrated japanes...</td>\n",
       "    </tr>\n",
       "    <tr>\n",
       "      <th>7</th>\n",
       "      <td>hey gorgeous how s it going dehydrated japanes...</td>\n",
       "    </tr>\n",
       "    <tr>\n",
       "      <th>8</th>\n",
       "      <td>terry i know i haven t worked here long     bu...</td>\n",
       "    </tr>\n",
       "    <tr>\n",
       "      <th>9</th>\n",
       "      <td>guys there s somebody i d like you to meet wai...</td>\n",
       "    </tr>\n",
       "  </tbody>\n",
       "</table>\n",
       "</div>"
      ],
      "text/plain": [
       "                                            Dialogue\n",
       "0  there s nothing to tell it s just some guy i w...\n",
       "1  you guys don t understand for us kissing is as...\n",
       "2  hi guys hey pheebs oh oh how d it go um not so...\n",
       "3  all right phoebe if i were omnipotent for a da...\n",
       "4  let it go it s not a big deal not a big deal i...\n",
       "5  oh look there s joey s picture this is so exci...\n",
       "6  hey gorgeous how s it going dehydrated japanes...\n",
       "7  hey gorgeous how s it going dehydrated japanes...\n",
       "8  terry i know i haven t worked here long     bu...\n",
       "9  guys there s somebody i d like you to meet wai..."
      ]
     },
     "execution_count": 31,
     "metadata": {},
     "output_type": "execute_result"
    }
   ],
   "source": [
    "df_bert.head(10)"
   ]
  },
  {
   "cell_type": "code",
   "execution_count": 32,
   "metadata": {},
   "outputs": [
    {
     "data": {
      "text/plain": [
       "0"
      ]
     },
     "execution_count": 32,
     "metadata": {},
     "output_type": "execute_result"
    }
   ],
   "source": [
    "df_bert['Dialogue'].isnull().sum()"
   ]
  },
  {
   "cell_type": "code",
   "execution_count": 33,
   "metadata": {},
   "outputs": [],
   "source": [
    "new_df_without_null=df_bert.dropna()"
   ]
  },
  {
   "cell_type": "code",
   "execution_count": 34,
   "metadata": {},
   "outputs": [
    {
     "data": {
      "text/plain": [
       "0"
      ]
     },
     "execution_count": 34,
     "metadata": {},
     "output_type": "execute_result"
    }
   ],
   "source": [
    "new_df_without_null['Dialogue'].isnull().sum()"
   ]
  },
  {
   "cell_type": "code",
   "execution_count": 35,
   "metadata": {},
   "outputs": [
    {
     "data": {
      "text/html": [
       "<div>\n",
       "<style scoped>\n",
       "    .dataframe tbody tr th:only-of-type {\n",
       "        vertical-align: middle;\n",
       "    }\n",
       "\n",
       "    .dataframe tbody tr th {\n",
       "        vertical-align: top;\n",
       "    }\n",
       "\n",
       "    .dataframe thead th {\n",
       "        text-align: right;\n",
       "    }\n",
       "</style>\n",
       "<table border=\"1\" class=\"dataframe\">\n",
       "  <thead>\n",
       "    <tr style=\"text-align: right;\">\n",
       "      <th></th>\n",
       "      <th>Dialogue</th>\n",
       "    </tr>\n",
       "  </thead>\n",
       "  <tbody>\n",
       "    <tr>\n",
       "      <th>0</th>\n",
       "      <td>there s nothing to tell it s just some guy i w...</td>\n",
       "    </tr>\n",
       "    <tr>\n",
       "      <th>1</th>\n",
       "      <td>you guys don t understand for us kissing is as...</td>\n",
       "    </tr>\n",
       "    <tr>\n",
       "      <th>2</th>\n",
       "      <td>hi guys hey pheebs oh oh how d it go um not so...</td>\n",
       "    </tr>\n",
       "    <tr>\n",
       "      <th>3</th>\n",
       "      <td>all right phoebe if i were omnipotent for a da...</td>\n",
       "    </tr>\n",
       "    <tr>\n",
       "      <th>4</th>\n",
       "      <td>let it go it s not a big deal not a big deal i...</td>\n",
       "    </tr>\n",
       "    <tr>\n",
       "      <th>5</th>\n",
       "      <td>oh look there s joey s picture this is so exci...</td>\n",
       "    </tr>\n",
       "    <tr>\n",
       "      <th>6</th>\n",
       "      <td>hey gorgeous how s it going dehydrated japanes...</td>\n",
       "    </tr>\n",
       "    <tr>\n",
       "      <th>7</th>\n",
       "      <td>hey gorgeous how s it going dehydrated japanes...</td>\n",
       "    </tr>\n",
       "    <tr>\n",
       "      <th>8</th>\n",
       "      <td>terry i know i haven t worked here long     bu...</td>\n",
       "    </tr>\n",
       "    <tr>\n",
       "      <th>9</th>\n",
       "      <td>guys there s somebody i d like you to meet wai...</td>\n",
       "    </tr>\n",
       "  </tbody>\n",
       "</table>\n",
       "</div>"
      ],
      "text/plain": [
       "                                            Dialogue\n",
       "0  there s nothing to tell it s just some guy i w...\n",
       "1  you guys don t understand for us kissing is as...\n",
       "2  hi guys hey pheebs oh oh how d it go um not so...\n",
       "3  all right phoebe if i were omnipotent for a da...\n",
       "4  let it go it s not a big deal not a big deal i...\n",
       "5  oh look there s joey s picture this is so exci...\n",
       "6  hey gorgeous how s it going dehydrated japanes...\n",
       "7  hey gorgeous how s it going dehydrated japanes...\n",
       "8  terry i know i haven t worked here long     bu...\n",
       "9  guys there s somebody i d like you to meet wai..."
      ]
     },
     "execution_count": 35,
     "metadata": {},
     "output_type": "execute_result"
    }
   ],
   "source": [
    "new_df_without_null.head(10)"
   ]
  },
  {
   "cell_type": "code",
   "execution_count": 36,
   "metadata": {},
   "outputs": [],
   "source": [
    "def remove_number(text):\n",
    "    return  re.sub(r\"\\[0-9]+\", \"\", str(text))\n",
    " \n",
    "new_df_without_null['Dialogue'] = new_df_without_null['Dialogue'].apply(remove_number)"
   ]
  },
  {
   "cell_type": "code",
   "execution_count": 37,
   "metadata": {},
   "outputs": [],
   "source": [
    "#remove whitespace leading & trailing\n",
    "def remove_whitespace_LT(text):\n",
    "    return text.strip()\n",
    "new_df_without_null['Dialogue'] =new_df_without_null['Dialogue'].apply(remove_whitespace_LT)\n",
    "\n",
    "#remove multiple whitespace into single whitespace\n",
    "def remove_whitespace_multiple(text):\n",
    "    return re.sub('\\s+',' ',text)\n",
    "new_df_without_null['Dialogue'] = new_df_without_null['Dialogue'].apply(remove_whitespace_multiple)\n",
    "\n",
    "# remove single char\n",
    "def remove_singl_char(text):\n",
    "    return re.sub(r\"\\b[a-zA-Z]\\b\", \"\", text)\n",
    "new_df_without_null['Dialogue'] = new_df_without_null['Dialogue'].apply(remove_singl_char)"
   ]
  },
  {
   "cell_type": "code",
   "execution_count": 38,
   "metadata": {},
   "outputs": [
    {
     "name": "stdout",
     "output_type": "stream",
     "text": [
      "['there', 'nothing', 'to', 'tell', 'it', 'just', 'some', 'guy', 'work', 'with', 'you', 're', 'going', 'out', 'with', 'the', 'guy', 'there', 'has', 'to', 'be', 'something', 'wrong', 'with', 'him', 'so', 'does', 'he', 'have', 'hump', 'and', 'hairpiece', 'wait', 'does', 'he', 'eat', 'chalk', '6', 'don', 'want', 'her', 'to', 'go', 'through', 'what', 'did', 'with', 'carl', '7', 'okay', 'everybody', 'relax', '8', 'this', 'is', 'not', 'even', 'date', '9', 'it', 'just', 'two', 'people', 'going', 'out', 'to', 'dinner', 'and', 'not', 'having', 'sex', '01', 'sounds', 'like', 'date', 'to', 'me', '01', 'in', 'high', 'school', 'in', 'the', 'cafeteria', '01', 'and', 'realize', 'totally', 'naked', '01', 've', 'had', 'that', 'dream', '01', 'then', 'look', 'down', 'and', 'realize', 'there', 'is', 'phone', '01', 'there', '01', 'instead', 'of', 'that', 'right', '01', 'never', 'had', 'that', 'one', '01', 'all', 'of', 'sudden', 'the', 'phone', 'starts', 'to', 'ring', '01', 'and', 'it', 'turns', 'out', 'it', 'my', 'mother', '01', 'which', 'is', 'very', 'very', 'weird', 'because', 'she', 'never', 'calls', 'me', '01', 'he', 'says', 'hello', 'want', 'to', 'kill', 'myself', '01', 'you', 'okay', '01', 'feel', 'like', 'someone', 'pulled', 'my', 'intestine', 'out', 'of', 'my', 'mouth', '01', 'and', 'tied', 'it', 'around', 'my', 'neck', 'cookie', '02', 'carol', 'moved', 'her', 'stuff', 'out', 'today', '02', 'let', 'me', 'get', 'you', 'some', 'coffee', 'thanks', '02', 'no', 'don', 'stop', 'cleansing', 'my', 'aura', '02', 'just', 'leave', 'my', 'aura', 'alone', 'okay', 'fine', 'be', 'murky', '02', 'll', 'be', 'fine', 'hope', 'she', 'll', 'be', 'happy', '02', 'no', 'you', 'don', '02', 'to', 'hell', 'with', 'her', 'she', 'left', 'me', '02', 'and', 'you', 'never', 'knew', 'she', 'was', 'lesbian', '02', 'why', 'does', 'everyone', 'keep', 'fixating', 'on', 'that', '02', 'she', 'didn', 'know', 'how', 'should', 'know', '02', 'sometimes', 'wish', 'was', 'lesbian', '02', 'did', 'say', 'that', 'out', 'loud', '02', 'look', 'you', 're', 'feeling', 'lot', 'of', 'pain', 'right', 'now', '02', 'you', 're', 'angry', 'you', 're', 'hurting', '03', 'can', 'tell', 'you', 'what', 'the', 'answer', 'is', '03', 'strip', 'joints', '03', 'see', 'but', 'don', 'want', 'to', 'be', 'single', 'okay', '03', 'just', 'want', 'to', 'be', 'married', 'again', '03', 'and', 'just', 'want', 'million', 'dollars', '03', 'rachel', '03', 'oh', 'god', 'monica', 'hi', 'thank', 'god', '03', 'went', 'to', 'your', 'building', 'and', 'this', 'guy', 'with', 'hammer', 'said', '03', 'that', 'you', 'might', 'be', 'here', 'and', 'you', 'are', '03', 'can', 'get', 'you', 'some', 'coffee', 'decaf', '03', 'everybody', 'this', 'is', 'rachel', 'another', 'lincoln', 'high', 'survivor', '03', 'this', 'is', 'everybody', 'chandler', 'and', 'phoebe', '03', 'and', 'joey', 'and', 'remember', 'my', 'brother', 'ross', '03', 'sure', '03', 'you', 'want', 'to', 'tell', 'us', 'now', 'or', 'are', 'we', 'waiting', 'for', 'four', 'wet', 'bridesmaids', '04', 'oh', 'god', 'well', 'it', 'started', 'about', 'halfhour', 'before', 'the', 'wedding', '04', 'was', 'in', 'this', 'room', 'with', 'all', 'the', 'presents', '04', 'this', 'really', 'gorgeous', 'limoges', 'gravy', 'boat', '04', 'when', 'all', 'of', 'sudden', 'realize', '04', 'sweet', 'low', '04', 'realized', '04', 'was', 'more', 'turned', 'on', 'by', 'this', 'gravy', 'boat', 'than', 'by', 'barry', '04', 'and', 'then', 'really', 'freaked', 'out', 'when', 'it', 'hit', 'me', '04', 'how', 'much', 'barry', 'looks', 'like', 'mr', 'potato', 'head', '04', 'always', 'knew', 'he', 'looked', 'familiar', 'but', '04', 'had', 'to', 'get', 'out', 'of', 'there', 'and', 'started', 'wondering', '04', 'why', 'am', 'doing', 'this', 'and', 'who', 'am', 'doing', 'this', 'for', '04', 'didn', 'know', 'where', 'to', 'go', 'and', 'know', 'you', 'and', 'have', 'drifted', 'apart', '04', 'but', 'you', 're', 'the', 'only', 'person', 'know', 'in', 'the', 'city', '04', 'who', 'wasn', 'asked', 'to', 'the', 'wedding', '04', 'was', 'kind', 'of', 'hoping', 'that', 'wouldn', 'be', 'an', 'issue', '05', 'guess', 'he', 'bought', 'her', 'the', 'pipe', 'organ', '05', 'and', 'she', 'really', 'not', 'happy', 'about', 'it', '05', 'daddy', 'just', 'can', 'marry', 'him', '05', 'sorry', '05', 'just', 'don', 'love', 'him', '05', 'well', 'it', 'matters', 'to', 'me', '05', 'she', 'should', 'not', 'be', 'wearing', 'those', 'pants', '05', 'say', 'push', 'her', 'down', 'the', 'stairs', '05', 'push', 'her', 'down', 'the', 'stairs', 'push', 'her', 'down', 'the', 'stairs', '05', 'come', 'on', 'daddy', 'listen', '05', 'all', 'my', 'life', 'everyone', 'always', 'told', 'me', 'you', 're', 'shoe', '05', 'you', 're', 'shoe', 'you', 're', 'shoe', 'you', 're', 'shoe', '05', 'stopped', 'and', 'said', 'what', 'if', 'don', 'wan', 'na', 'be', 'shoe', '05', 'what', 'if', 'want', 'to', 'be', 'purse', '05', 'or', 'hat', '05', 'don', 'want', 'you', 'to', 'buy', 'me', 'hat', '05', 'it', 'metaphor', 'daddy', '06', 'you', 'can', 'see', 'where', 'he', 'have', 'trouble', '06', 'look', 'daddy', 'it', 'my', 'life', '06', 'well', 'maybe', 'll', 'just', 'stay', 'here', 'with', 'monica', '06', 'guess', 'we', 've', 'established', 'she', 'staying', 'with', 'monica', '06', 'well', 'maybe', 'that', 'my', 'decision', '06', 'well', 'maybe', 'don', 'need', 'your', 'money', '06', 'wait', 'wait', 'said', 'maybe', '06', 'just', 'breathe', 'breathe', 'that', 'it', '06', 'just', 'try', 'to', 'think', 'of', 'nice', 'calm', 'things', '06', 'raindrops', 'on', 'roses', 'and', 'whiskers', 'on', 'kittens', '06', 'doorbells', 'and', 'sleigh', 'bells', 'and', 'something', 'with', 'mittens', '06', 'la', 'la', 'la', 'something', 'and', 'noodles', 'with', 'string', '06', 'these', 'are', 'all', 'better', 'now', '06', 'helped', '06', 'this', 'is', 'probably', 'for', 'the', 'best', 'you', 'know', '07', 'independence', 'taking', 'control', 'of', 'your', 'life', '07', 'if', 'you', 'need', 'anything', 'you', 'can', 'always', 'come', 'to', 'joey', '07', 'me', 'and', 'chandler', 'live', 'across', 'the', 'hall', 'and', 'he', 'away', 'lot', '07', 'joey', 'stop', 'hitting', 'on', 'her', 'it', 'her', 'wedding', 'day', '07', 'what', 'like', 'there', 'rule', 'or', 'something', '07', 'please', 'don', 'do', 'that', 'again', 'it', 'horrible', 'sound', '07', 'it', 'paul', '07', 'buzz', 'him', 'in', '07', 'who', 'paul', 'paul', 'the', 'wine', 'guy', '07', 'maybe', '07', 'your', 'not', 'real', 'date', 'is', 'with', 'paul', 'the', 'wine', 'guy', '07', 'he', 'finally', 'asked', 'you', 'out', '07', 'it', 'dear', 'diary', 'moment', '07', 'rach', 'can', 'cancel', '07', 'oh', 'god', 'please', 'no', 'go', 'll', 'be', 'fine', '07', 'ross', 'are', 'you', 'okay', 'do', 'you', 'want', 'me', 'to', 'stay', '07', 'that', 'be', 'good', '07', 'really', 'go', 'on', 'it', 'paul', 'the', 'wine', 'guy', '07', 'hi', 'come', 'in', 'paul', 'this', 'is', '07', 'everybody', 'everybody', 'this', 'is', 'paul', '08', 'the', 'wine', 'guy', 'didn', 'catch', 'your', 'name', 'paul', '08', 'change', 'sit', 'down', 'two', 'seconds', '08', 'just', 'pulled', 'out', 'four', 'eyelashes', 'that', 'can', 'be', 'good', '08', 'rachel', 'what', 'are', 'you', 'up', 'to', 'tonight', '08', 'was', 'supposed', 'to', 'be', 'headed', 'for', 'aruba', 'on', 'my', 'honeymoon', '08', 'so', 'nothing', '08', 'right', 'you', 're', 'not', 'even', 'getting', 'your', 'honeymoon', '08', 'although', 'aruba', 'this', 'time', 'of', 'year', 'talk', 'about', 'your', '08', 'big', 'lizards', '08', 'if', 'you', 'don', 'feel', 'like', 'being', 'alone', 'tonight', '08', 'joey', 'and', 'chandler', 'are', 'helping', 'me', 'with', 'my', 'furniture', '08', 'and', 'we', 're', 'very', 'excited', 'about', 'it', '08', 'thanks', 'but', 'just', 'gon', 'na', 'hang', 'out', 'here', '08', 'it', 'been', 'long', 'day', 'okay', 'sure', '08', 'pheebs', 'wan', 'na', 'help', '09', 'wish', 'could', 'but', 'don', 'want', 'to', '09', 'supposed', 'to', 'attach', 'brackety', 'thing', 'to', 'the', 'side', 'things', '09', 'using', 'bunch', 'of', 'these', 'little', 'worm', 'guys', '09', 'have', 'no', 'brackety', 'thing', 'see', 'no', 'worm', 'guys', 'whatsoever', '09', 'and', 'can', 'not', 'feel', 'my', 'legs', '09', 'which', 'goes', 'where', 'have', 'no', 'idea', '09', 'done', 'with', 'the', 'bookcase', 'all', 'finished', '09', 'this', 'was', 'carol', 'favorite', 'beer', '09', 'she', 'always', 'drank', 'it', 'out', 'of', 'the', 'can', 'should', 'have', 'known', '09', 'let', 'me', 'ask', 'you', 'question', '09', 'she', 'got', 'the', 'furniture', 'the', 'stereo', 'the', 'good', 'tv', '09', 'what', 'did', 'you', 'get', '09', 'you', 'guys', '09', 'you', 'got', 'screwed', 'oh', 'my', 'god', '09', 'oh', 'my', 'god', 'know', 'such', 'an', 'idiot', '10', 'should', 've', 'caught', 'on', 'when', 'she', 'went', 'to', 'the', 'dentist', 'four', 'and', 'five', 'times', 'week', '10', 'mean', 'how', 'clean', 'can', 'teeth', 'get', '10', 'my', 'brother', 'going', 'through', 'that', 'he', 'mess', '10', 'how', 'did', 'you', 'get', 'through', 'it', '10', 'he', 'might', 'try', 'accidentally', 'breaking', 'something', 'valuable', 'of', 'hers', '10', 'say', 'her', 'leg', '10', 'that', 'one', 'way', 'of', 'going', 'through', 'it', 'me', 'went', 'for', 'the', 'watch', '10', 'you', 'actually', 'broke', 'her', 'watch', '10', 'barry', 'sorry', 'am', 'so', 'sorry', '10', 'you', 'probably', 'think', 'it', 'about', 'making', 'love', 'with', 'your', 'socks', 'on', 'but', 'it', 'isn', '10', 'it', 'about', 'me', 'and', 'just', '10', 'machine', 'cut', 'me', 'off', 'again', 'anyway', '10', 'you', 'know', 'what', 'scary', 'what', 'if', 'there', 'is', 'only', 'one', 'woman', 'for', 'everybody', '10', 'mean', 'what', 'if', 'you', 'get', 'one', 'woman', 'and', 'that', 'it', '10', 'unfortunately', 'in', 'my', 'case', 'there', 'was', 'only', 'one', 'woman', 'for', 'her', '10', 'what', 'are', 'you', 'talking', 'about', 'one', 'woman', '11', 'that', 'like', 'saying', 'there', 'only', 'one', 'flavor', 'of', 'ice', 'cream', 'for', 'you', '11', 'let', 'me', 'tell', 'you', 'something', 'there', 'lots', 'of', 'flavors', 'out', 'there', '11', 'rocky', 'road', 'and', 'cookie', 'dough', 'and', 'bing', 'cherry', 'vanilla', '11', 'you', 'can', 'get', 'them', 'with', 'jimmies', 'or', 'nuts', 'or', 'whipped', 'cream', '11', 'this', 'is', 'the', 'best', 'thing', 'that', 'ever', 'happened', 'to', 'you', '11', 'you', 'got', 'married', 'you', 'were', 'like', 'what', 'eight', '11', 'welcome', 'back', 'to', 'the', 'world', 'grab', 'spoon', '11', 'honestly', 'don', 'know', 'if', 'hungry', 'or', 'horny', '11', 'then', 'stay', 'out', 'of', 'my', 'freezer', '11', 'ever', 'since', 'she', 'walked', 'out', 'on', 'me', '11', 'what', 'what', '11', 'you', 'wan', 'na', 'spell', 'it', 'out', 'with', 'noodles', '11', 'it', 'more', 'of', 'fifth', 'date', 'kind', 'of', 'revelation', '11', 'so', 'there', 'going', 'to', 'be', 'fifth', 'date', '11', 'isn', 'there', '11', 'yeah', 'yeah', 'think', 'there', 'is', '12', 'what', 'were', 'you', 'going', 'to', 'say', '12', 'ever', 'since', 'she', 'left', 'me', '12', 'haven', 'been', 'able', 'to', 'perform', '12', 'sexually', '12', 'oh', 'god', 'oh', 'god', '12', 'so', 'sorry', '12', 'being', 'spit', 'on', 'is', 'probably', 'not', 'what', 'you', 'need', 'right', 'now', '12', 'how', 'long', '12', 'two', 'years', '12', 'glad', 'you', 'smashed', 'her', 'watch', '12', 'so', 'you', 'still', 'think', 'you', 'might', 'want', 'that', 'fifth', 'date', '12', 'yeah', 'do', '12', 'but', 'joanie', 'loved', 'chachi', 'that', 'the', 'difference', '12', 'grab', 'spoon', '13', 'do', 'you', 'know', 'long', 'it', 'been', 'since', 'grabbed', 'spoon', '13', 'do', 'the', 'words', 'billy', 'don', 'be', 'hero', 'mean', 'anything', 'to', 'you', '13', 'you', 'know', 'here', 'the', 'thing', 'even', 'if', 'could', 'get', 'it', 'together', 'enough', '13', 'to', 'ask', 'woman', 'out', '13', 'who', 'am', 'going', 'to', 'ask', '13', 'isn', 'this', 'amazing', '13', 'have', 'never', 'made', 'coffee', 'before', 'in', 'my', 'life', '13', 'that', 'is', 'amazing', 'congratulations', '13', 'if', 'you', 'feel', 'like', 'you', 'got', 'ta', 'make', 'western', 'omelet', 'or', 'something', '13', 'although', 'actually', 'really', 'not', 'that', 'hungry', '13', 'good', 'morning', 'good', 'morning', '14', 'morning', 'morning', 'paul', '14', 'hello', 'paul', 'hi', 'paul', 'is', 'it', '14', 'last', 'night', 'was', 'like', '14', 'thank', 'you', 'so', 'much', '14', 'we', 'll', 'talk', 'later', '14', 'thank', 'you', '14', 'that', 'wasn', 'real', 'date', '14', 'what', 'the', 'hell', 'do', 'you', 'do', 'on', 'real', 'date', '14', 'shut', 'up', 'and', 'put', 'my', 'table', 'back', '14', 've', 'got', 'to', 'get', 'to', 'work', '14', 'if', 'don', 'input', 'those', 'numbers', 'it', 'doesn', 'make', 'much', 'of', 'difference', '14', 'so', 'like', 'you', 'guys', 'all', 'have', 'jobs', '14', 'yeah', 'we', 'all', 'have', 'jobs', '14', 'that', 'how', 'we', 'buy', 'stuff', '14', 'yeah', 'an', 'actor', '15', 'have', 'seen', 'you', 'in', 'anything', '15', 'doubt', 'it', 'mostly', 'regional', 'work', '15', 'unless', 'you', 'happen', 'to', 'catch', 'the', 'wee', 'one', 'production', 'of', 'pinocchio', '15', 'look', 'geppeto', 'real', 'live', 'boy', '15', 'will', 'not', 'take', 'this', 'abuse', '15', 'you', 're', 'right', 'sorry', '15', 'once', 'was', 'wooden', 'boy', 'little', 'wooden', 'boy', '15', 'how', 'are', 'you', 'doing', 'today', 'you', 'sleep', 'okay', '15', 'did', 'you', 'talk', 'to', 'barry', 'can', 'stop', 'smiling', '15', 'see', 'that', 'you', 'look', 'like', 'you', 'slept', 'with', 'hanger', 'in', 'your', 'mouth', '15', 'know', 'he', 'just', 'so', '15', 'remember', 'you', 'and', 'tony', 'de', 'marco', '15', 'well', 'it', 'like', 'that', 'with', 'feelings', '15', 'are', 'you', 'in', 'trouble', '15', 'going', 'to', 'get', 'up', 'go', 'to', 'work', 'and', 'not', 'think', 'about', 'him', 'all', 'day', '15', 'or', 'else', 'just', 'going', 'to', 'get', 'up', 'and', 'go', 'to', 'work', '16', 'wish', 'me', 'luck', 'what', 'for', '16', 'gon', 'na', 'go', 'get', 'one', 'of', 'those', 'job', 'things', '16', 'hey', 'monica', 'hey', 'franny', 'welcome', 'back', '16', 'how', 'was', 'florida', '16', 'you', 'had', 'sex', 'didn', 'you', '16', 'how', 'do', 'you', 'do', 'that', '16', 'so', 'who', '16', 'you', 'know', 'paul', '16', 'paul', 'the', 'wine', 'guy', '16', 'yeah', 'know', 'paul', '16', 'you', 'mean', 'you', 'know', 'paul', 'like', 'know', 'paul', '16', 'are', 'you', 'kidding', 'take', 'credit', 'for', 'paul', '16', 'before', 'me', 'there', 'was', 'no', 'snap', 'in', 'his', 'turtle', 'for', 'two', 'years', '16', 'of', 'course', 'it', 'was', 'line', '16', 'why', 'why', 'would', 'anybody', 'do', 'something', 'like', 'that', '16', 'we', 're', 'looking', 'for', 'an', 'answer', 'more', 'sophisticated', 'than', '16', 'to', 'get', 'you', 'into', 'bed', '16', 'is', 'it', 'me', '17', 'is', 'it', 'like', 'have', 'some', 'sort', 'of', 'beacon', 'that', 'only', 'dogs', '17', 'and', 'men', 'with', 'emotional', 'problems', 'can', 'hear', '17', 'come', 'here', 'give', 'me', 'your', 'feet', '17', 'just', 'thought', 'he', 'was', 'nice', 'you', 'know', '17', 'can', 'believe', 'you', 'didn', 'know', 'it', 'was', 'line', '17', 'guess', 'what', '17', 'you', 'got', 'job', 'are', 'you', 'kidding', '17', 'trained', 'for', 'nothing', '17', 'was', 'laughed', 'out', 'of', '12', 'interviews', '17', 'you', 're', 'surprisingly', 'upbeat', '17', 'you', 'would', 'be', 'too', 'if', 'you', 'found', 'joan', 'and', 'david', 'boots', 'on', 'sale', '17', '50', 'percent', 'off', '17', 'how', 'well', 'you', 'know', 'me', '17', 'they', 're', 'my', 'don', 'need', 'job', 'or', 'my', 'parents', '17', 've', 'got', 'great', 'boots', 'boots', '17', 'how', 'did', 'you', 'pay', 'for', 'them', 'credit', 'card', '17', 'and', 'who', 'pays', 'for', 'that', '17', 'my', 'father', '18', 'you', 'can', 'live', 'off', 'your', 'parents', '18', 'know', 'that', 'that', 'why', 'was', 'getting', 'married', '18', 'give', 'her', 'break', 'it', 'hard', 'being', 'on', 'your', 'own', 'for', 'the', 'first', 'time', '18', 'thank', 'you', 'you', 're', 'welcome', '18', 'when', 'first', 'came', 'to', 'this', 'city', 'was', '1', '4', '18', 'my', 'mom', 'had', 'killed', 'herself', 'and', 'my', 'stepdad', 'was', 'in', 'prison', '18', 'and', 'got', 'here', 'and', 'didn', 'know', 'anybody', '18', 'ended', 'up', 'living', 'with', 'this', 'albino', 'guy', 'who', 'was', 'cleaning', 'windshields', '18', 'and', 'then', 'he', 'killed', 'himself', '18', 'then', 'found', 'aromatherapy', 'believe', 'me', 'know', 'exactly', 'how', 'you', 'feel', '18', 'the', 'word', 'you', 're', 'looking', 'for', 'is', '18', 'anyway', '18', 'you', 'ready', '18', 'don', 'think', 'so', '18', 'cut', 'cut', 'cut', '18', 'welcome', 'to', 'the', 'real', 'world', '18', 'it', 'sucks', 'you', 're', 'gon', 'na', 'love', 'it', '19', 'that', 'it', '19', 'you', 'gon', 'na', 'crash', 'on', 'the', 'couch', '19', 'no', 'got', 'ta', 'go', 'home', 'sometime', 'are', 'you', 'gon', 'na', 'be', 'okay', '19', 'look', 'what', 'just', 'found', 'on', 'the', 'floor', '19', 'what', '19', 'that', 'paul', 'watch', '19', 'you', 'can', 'just', 'put', 'it', 'back', 'where', 'you', 'found', 'it', '19', 'oh', 'boy', 'all', 'right', '19', 'good', 'night', 'everybody', 'good', 'night', '19', 'sorry', 'no', '19', 'no', 'have', 'it', 'really', 'split', 'it', '19', 'you', 'probably', 'didn', 'know', 'this', 'but', 'back', 'in', 'high', 'school', 'had', '19', 'major', 'crush', 'on', 'you', '19', 'knew', '19', 'you', 'did', '20', 'figured', 'you', 'thought', 'was', 'monica', 'geeky', 'older', 'brother', '20', 'did', '20', 'listen', 'do', 'you', 'think', '20', 'and', 'try', 'not', 'to', 'let', 'my', 'vulnerability', 'become', 'any', 'kind', 'of', 'factor', 'here', '20', 'do', 'you', 'think', 'it', 'would', 'be', 'okay', 'if', 'asked', 'you', 'out', 'sometime', 'maybe', '20', 'maybe', '20', 'okay', 'maybe', 'will', '20', 'good', 'night', 'good', 'night', '20', 'see', 'you', '20', 'wait', 'wait', '21', 'what', 'with', 'you', '21', 'just', 'grabbed', 'spoon', '21', 'can', 'believe', 'what', 'hearing', '21', 'can', 'believe', 'what', 'hearing', '21', 'what', 'said', 'you', 'had', 'what', 'said', 'you', 'had', '21', 'would', 'you', 'stop', '21', 'was', 'doing', 'it', 'again', '21', 'would', 'anybody', 'like', 'more', 'coffee', '21', 'did', 'you', 'make', 'it', '21', 'just', 'serving', 'it', 'll', 'have', 'cup', 'of', 'coffee', '21', 'kids', 'new', 'dream', '21', 'in', 'las', 'vegas', '21', 'liza', 'minnelli', '200', 'font', 'color', 'ffff00', 'size', '14', 'wwwtvsubtitlesnet', 'font']\n"
     ]
    }
   ],
   "source": [
    "# Tokenisasi for Document\n",
    "doc_tokens_trec = [word_tokenize(kalimat) for kalimat in new_df_without_null['Dialogue']]\n",
    "print(*doc_tokens_trec[0:1], sep = \"\\n\")"
   ]
  },
  {
   "cell_type": "code",
   "execution_count": 39,
   "metadata": {},
   "outputs": [
    {
     "name": "stderr",
     "output_type": "stream",
     "text": [
      "[nltk_data] Downloading package stopwords to\n",
      "[nltk_data]     C:\\Users\\ASUS\\AppData\\Roaming\\nltk_data...\n",
      "[nltk_data]   Package stopwords is already up-to-date!\n"
     ]
    },
    {
     "data": {
      "text/plain": [
       "True"
      ]
     },
     "execution_count": 39,
     "metadata": {},
     "output_type": "execute_result"
    }
   ],
   "source": [
    "nltk.download('stopwords')"
   ]
  },
  {
   "cell_type": "code",
   "execution_count": 40,
   "metadata": {},
   "outputs": [],
   "source": [
    "# Stopword for Document\n",
    "doc_stopwords_trec = [[token for token in kalimat if token not in stopwords.words('english')]\n",
    "                                  for kalimat in doc_tokens_trec]"
   ]
  },
  {
   "cell_type": "code",
   "execution_count": 41,
   "metadata": {},
   "outputs": [],
   "source": [
    "def punctuation(txt):\n",
    "  result = re.sub(r'[^\\w\\s]','',txt)\n",
    "  return result\n",
    "new_df_without_null['Dialogue'] = new_df_without_null['Dialogue'].apply(punctuation)\n"
   ]
  },
  {
   "cell_type": "code",
   "execution_count": 42,
   "metadata": {},
   "outputs": [
    {
     "data": {
      "text/plain": [
       "'you guys don  understand for us kissing is as important as any part of it yeah right you serious oh yeah all you need to know is in the first kiss absolutely for us kissing  an opening act like the comedian you have to sit through 00 before pink floyd comes out 1and it  not that we don  like the comedian 1it  just that that  not 1 why we bought the ticket 1the problem is after the concert no matter how great the show was 1 you girls are always looking for the comedian again 1we re in the car fighting traffic 1 just trying to stay awake 1well word of advice bring back the comedian 00 or next time you ll find yourself listening to that album alone 01 are we still talking about sex 01 the one with the sonogram at the end 01 english subtitles by gelula co inc 02 no it  good it is good 02 it  just that doesn  she seem  little angry 02 well she has issues 02 does she 02 he  out banging other women with  club 02 while she  home getting the mastodon smell out of the carpet 02 marsha see these are cave people 02 okay they have issues like 02 gee that glacier  getting kind of close see 02 speaking of issues isn  that your exwife 02 yes it is carol hi 02 okay yes it is 02  ll catch up with you in the ice age 02 hi 03 so 03 you look great 03  hate that 03 sorry 03 thanks you look good too 03 well you know in here anyone who 03 stands erect 03 so what  new still  03  lesbian 03 you never know 03 how  the family 03 marty  still totally paranoid 03 carol why are you here 03   pregnant 03 pregnant 03 she didn  leave in such  hurry after all 03 this is the three  company episode where  there   misunderstanding 03 then  ve already seen this one 03 are you through with that 04 sorry the swallowing slowed me down 04 whose ball of paper is this 04 that  mine  wrote  note to myself then  didn  need it 04 so  balled it up and now  wish  was dead 04 she already fluffed that pillow you already fluffed it  fine 04  don  want to give them any more ammunition than they have 04 we know how cruel parents can be 04 about the flatness of  child  pillow 04 monica hi 04 monica you re scaring me 04  mean you re all chaotic and twirly you know 04 not in  good way 04 yeah calm down 04 you don  see ross getting chaotic and twirly every time they come 04 that  because my parents think ross can do no wrong 04 you see he  the prince 04 apparently they had some big ceremony before  was born 05 what ugly naked guy got  thighmaster 05 has anybody seen my engagement ring yeah it  beautiful 05 oh god oh god 05 no don  touch that 05 like  wasn  dreading tomorrow enough having to return it to him 05 barry remember me   the girl 05 that stomped on your heart in front of your family 05 now  must return the ring without the ring 05 which makes it so much harder 05 easy we ll find it won  we 05 okay look 05 when did you have it last 05 doy probably right before she lost it 05 you don  get  lot of doy these days 05  know  had it this morning 05  know  had it when  was in the kitchen with 06 dinah 06 oh don  be mad 06 you didn  oh   sorry 06  gave you one job 06 but look how straight those noodles are 06 that  not how you look for an engagement ring in  lasagna 06  just can  do it 06 boys 06 we re going in 06 hi 06 that is not  happy hi 06 carol  pregnant 06  found it 06 yeah 06 do that for two hours 06 you might be where  am right about now 07 that puts that whole pillow thing in perspective 07 how do you fit into this whole thing 07 carol says she and susan want me to be involved 07 but if   not comfortable with it  don  have to be involved 07 basically it  totally up to me 07 she is so great  miss her 07 what does she mean by involved 07 presumably the biggest part of your job is done 07 anyway they want me to go down to this 07 sonogram thing with them tomorrow 07 what ll you do 07  have no idea 07 no matter what  do though   still gonna be  father 07 this is still ruined right 08 martha lugwin  daughter is going to call you 08 what  that curry taste 08 curry 08  think they re great  really do 08 remember the lugwins the big one had  thing for you 08 they all had  thing for him 08 oh mom 08 why is this girl going to call me 08 she just graduated and she wants to be something in cooking food 08 or  don  know 08  told her you had  restaurant 08  don  have  restaurant  work in  restaurant 08 they don  have to know that 08 ross help me with the spaghetti 08 oh we re having spaghetti that  08 easy 08 this ll sound unbelievably selfish on my part 08 but did you plan on bringing up the baby lesbian thing 08 it  take the heat off of me 09 what rachel did to her life we ran into her parents at the club 09 they were not playing very well 09  won  say what they spent on that wedding 09 but is  lot of money 09 at least she had the chance to leave  man at the altar 09 what  that supposed to mean 09 nothing 09 it  an expression no it  not 09 don  listen to her you ve always been independent 09 even when you were  kid and you were chubby 09 and you had no friends you were just fine 09 you  read alone in your room and your puzzles 09 there are people like ross who need to shoot for the stars 09 with his museum and his papers getting published 09 others are satisfied as they are 09   telling you these are the people who never get cancer 10  read about women trying to have it all and  thank god 10 our little harmonica doesn  have that problem 10 so ross what  going on with you 10 any stories no news no little anecdotes to share with the folks 10 look  realize you guys have been wondering 10 what exactly happened between carol and me 10 so here  the deal 10 carol   lesbian 10 she  living with  woman named susan 10 she  pregnant with my child 10 and she and susan are going to raise the baby 10 and you knew about this 11 your folks are really that bad 11 well you know these people are pros 11 they know what they do they take their time 11 they get the job done 11 boy  know they say that you can  change your parents 11 boy if you could   want yours 11 must pee 11 it  worse when you re twins 11 you re  twin yeah we don  speak 11 she  this highpowered driven careertype 11 what does she do she   waitress 11 all right you guys  kind of gotta clean up now 11 chandler you re an only child you don  have any of this 11 no although  did have an imaginary friend 11 who my parents preferred 11 hit the lights please 12 how long was  in there 12   just cleaning up 12 do you need any help 12 okay sure thanks 12 anyway 12 so you nervous about barry tomorrow 12  little 12  lot 12 so got any advice 12 you know as someone who  recently been dumped 12 well you may want to steer clear of the word dumped 12 chances are he  going to be this broken shell of  man you know 12 you should try not to look too terrific  know it ll be hard 12 you know  ll go down there and  ll give barry back his ring 13 and you can go with carol and susan to the obg yn 13 you ve got carol tomorrow 13 when did it get so complicated 13 got me 13 remember when we were in high school together 13 didn  you think you  meet someone 13 fall in love and that  be it 13 man  never thought   be here 13 me neither 14 sorry   late  got stuck at work 14 there was this big dinosaur thing anyway 14 hi 14 you remember susan how could  forget 14 hello susan good shake good shake 14 so we re just waiting for 14 dr oberman and is he 14 she of course she 14 is she familiar with our special situation 14 yes and she  very supportive 14 great okay that  great 14 no   14 thanks 15 that opens my cervix 15 barry 15 come on in 15 are you sure 15 it  fine it  fine robbie  gonna be here for hours 15 so how are you doing 15   15   okay 15 you look great 15 dr farber jason greenspan  gagging 15 be right there  ll be back in  second 15  dumped him 15 so how  this going to work 16 you know with us 16 you know when important decisions have to be made 16 give me  for instance 16 well  don  know 16 how about with the baby  name marlon 16 if it   boy minnie if it   girl 16 as in mouse 16 as in my grandmother 16 still you say minnie you hear mouse 16 how about 16 how about julia 16 julia 16 we agreed on minnie 16 we agreed we  spend our lives together 16 things change roll with the punches 16  believe julia  on the table 16 sorry about that 16 so what have you been up to 16 not much 16  got  job 16 that  great 17 why are you so tan 17  went to aruba 17 oh no you went on our honeymoon alone 17 no 17 see  went with 17 now this may hurt me 17  went with mindy 17 mindy 17 my maid of honor 17 we re kind of  thing now 17 you got plugs 17 careful careful they haven  quite taken yet 17 and you got lenses 17 but you hate sticking your finger in your eye 17 not for her 17 listen  really wanted to thank you 17  month ago  wanted to hurt you 17 more than  ve ever wanted to hurt anyone 18 and   an orthodontist 18 you know you were right 18  thought we were happy 18 we weren  18 but with mindy 18 now   happy 18 spit what 18 me 18 anyway 18  guess this belongs to you 18 and thank you for giving it to me 18 well thank you for giving it back 18 hello 18 oh please what  wrong with helen 18 helen geller 18  don  think so 18 it  not gonna be helen geller 18 thank you 18 no  mean it  not geller 18 it ll be helen willick 18 actually we talked about helen willick bunch 19 well wait  minute why is she in the title 19 it  my baby too 19 really  don  remember you making any sperm 19 and we all know what  challenge that is 19 you two stop it 19 she gets  credit   in there too 19 not helen willick bunch geller  think that borders on child abuse 19 of course not   suggesting geller willick bunch 19 he knows no one will say all those names 19 they ll end up calling her geller then he gets his way 19 my way you think this is my way 19 of all the ways  ever imagined this moment in my life being 19 this is not my way you know what this is too hard 19 knock knock how are we today any nausea 19  little just  little 19  was just wondering about the mothertobe but thanks for sharing 19 lie back 19 you know what   gonna go 20  don  think  can be involved in this particular family thing 20 oh my god 20 look at that 20  know 20 well isn  that amazing 20 what are we supposed to see 20  don  know but  think it  about to attack the enterprise 20 if you tilt your head to the left and relax your eyes 20 it kind of looks like an old potato 20 then don  do that all right 20 what do you think 21 are you welling up 21 you are 21 you are you re welling up   not 21 you re going to be an aunt oh shut up 21 hi mindy 21 hi it  rachel 21 yeah   fine  saw barry today 21 he told me no it  okay really it  okay 21  hope you two are very happy  really do 21 and min you know if everything works out 21 and you guys end up getting married and having kids 21  hope they have his old hairline and your old nose 21  know it was  cheap shot but  feel so much better now 200 font color ffff00 size 14 wwwtvsubtitlesnet font'"
      ]
     },
     "execution_count": 42,
     "metadata": {},
     "output_type": "execute_result"
    }
   ],
   "source": [
    "new_df_without_null['Dialogue'][1]"
   ]
  },
  {
   "cell_type": "code",
   "execution_count": 43,
   "metadata": {},
   "outputs": [],
   "source": [
    "import numpy as np\n",
    "\n",
    "def most_similar(doc_id,similarity_matrix,matrix):\n",
    "    print (f'Document: {new_df_without_null.iloc[doc_id]}')\n",
    "    print ('\\n')\n",
    "    print ('Similar Documents:')\n",
    "    if matrix=='Cosine Similarity':\n",
    "        similar_ix=np.argsort(similarity_matrix[doc_id])[::-1]\n",
    "    elif matrix=='Euclidean Distance':\n",
    "        similar_ix=np.argsort(similarity_matrix[doc_id])\n",
    "    for ix in similar_ix:\n",
    "        if ix==doc_id:\n",
    "            continue\n",
    "        print('\\n')\n",
    "        print (f'Document: {new_df_without_null.iloc[ix]}')\n",
    "        print (f'{matrix} : {similarity_matrix[doc_id][ix]}')"
   ]
  },
  {
   "cell_type": "code",
   "execution_count": 44,
   "metadata": {},
   "outputs": [],
   "source": [
    "def return_most_similar(doc_id,similarity_matrix,matrix):\n",
    "    dct = {\n",
    "            'Compare Document 1' : [],\n",
    "            'Compare Document 2' : [],\n",
    "            'Cosine Similarity' : []\n",
    "        }\n",
    "    if matrix=='Cosine Similarity':\n",
    "        similar_ix=np.argsort(similarity_matrix[doc_id])[::-1]\n",
    "    elif matrix=='Euclidean Distance':\n",
    "        similar_ix=np.argsort(similarity_matrix[doc_id])\n",
    "    for ix in similar_ix:\n",
    "        if ix==doc_id:\n",
    "            continue\n",
    "        dct['Compare Document 1'].append(new_df_without_null.iloc[doc_id])\n",
    "        dct['Compare Document 2'].append(new_df_without_null.iloc[ix])\n",
    "        dct['Cosine Similarity'].append(similarity_matrix[doc_id][ix])\n",
    "\n",
    "    return dct"
   ]
  },
  {
   "cell_type": "code",
   "execution_count": 45,
   "metadata": {},
   "outputs": [
    {
     "name": "stdout",
     "output_type": "stream",
     "text": [
      "Collecting sentence-transformers\n",
      "  Downloading sentence-transformers-2.2.0.tar.gz (79 kB)\n",
      "Collecting transformers<5.0.0,>=4.6.0\n",
      "  Downloading transformers-4.19.4-py3-none-any.whl (4.2 MB)\n",
      "Requirement already satisfied: tqdm in d:\\apps\\anaconda\\lib\\site-packages (from sentence-transformers) (4.62.2)\n",
      "Collecting torch>=1.6.0\n",
      "  Downloading torch-1.11.0-cp38-cp38-win_amd64.whl (158.0 MB)\n",
      "Collecting torchvision\n",
      "  Downloading torchvision-0.12.0-cp38-cp38-win_amd64.whl (1.0 MB)\n",
      "Requirement already satisfied: numpy in d:\\apps\\anaconda\\lib\\site-packages (from sentence-transformers) (1.18.5)\n",
      "Requirement already satisfied: scikit-learn in d:\\apps\\anaconda\\lib\\site-packages (from sentence-transformers) (0.23.1)\n",
      "Requirement already satisfied: scipy in d:\\apps\\anaconda\\lib\\site-packages (from sentence-transformers) (1.5.0)\n",
      "Requirement already satisfied: nltk in d:\\apps\\anaconda\\lib\\site-packages (from sentence-transformers) (3.5)\n",
      "Collecting sentencepiece\n",
      "  Downloading sentencepiece-0.1.96-cp38-cp38-win_amd64.whl (1.1 MB)\n",
      "Collecting huggingface-hub\n",
      "  Downloading huggingface_hub-0.7.0-py3-none-any.whl (86 kB)\n",
      "Requirement already satisfied: pyyaml>=5.1 in d:\\apps\\anaconda\\lib\\site-packages (from transformers<5.0.0,>=4.6.0->sentence-transformers) (5.3.1)\n",
      "Collecting tokenizers!=0.11.3,<0.13,>=0.11.1\n",
      "  Downloading tokenizers-0.12.1-cp38-cp38-win_amd64.whl (3.3 MB)\n",
      "Requirement already satisfied: filelock in d:\\apps\\anaconda\\lib\\site-packages (from transformers<5.0.0,>=4.6.0->sentence-transformers) (3.0.12)\n",
      "Requirement already satisfied: regex!=2019.12.17 in d:\\apps\\anaconda\\lib\\site-packages (from transformers<5.0.0,>=4.6.0->sentence-transformers) (2020.6.8)\n",
      "Requirement already satisfied: requests in d:\\apps\\anaconda\\lib\\site-packages (from transformers<5.0.0,>=4.6.0->sentence-transformers) (2.24.0)\n",
      "Requirement already satisfied: packaging>=20.0 in d:\\apps\\anaconda\\lib\\site-packages (from transformers<5.0.0,>=4.6.0->sentence-transformers) (20.4)\n",
      "Requirement already satisfied: colorama; platform_system == \"Windows\" in d:\\apps\\anaconda\\lib\\site-packages (from tqdm->sentence-transformers) (0.4.3)\n",
      "Requirement already satisfied: typing-extensions in d:\\apps\\anaconda\\lib\\site-packages (from torch>=1.6.0->sentence-transformers) (3.10.0.2)\n",
      "Requirement already satisfied: pillow!=8.3.*,>=5.3.0 in d:\\apps\\anaconda\\lib\\site-packages (from torchvision->sentence-transformers) (7.2.0)\n",
      "Requirement already satisfied: joblib>=0.11 in d:\\apps\\anaconda\\lib\\site-packages (from scikit-learn->sentence-transformers) (0.16.0)\n",
      "Requirement already satisfied: threadpoolctl>=2.0.0 in d:\\apps\\anaconda\\lib\\site-packages (from scikit-learn->sentence-transformers) (2.1.0)\n",
      "Requirement already satisfied: click in d:\\apps\\anaconda\\lib\\site-packages (from nltk->sentence-transformers) (7.1.2)"
     ]
    },
    {
     "name": "stderr",
     "output_type": "stream",
     "text": [
      "ERROR: huggingface-hub 0.7.0 has requirement packaging>=20.9, but you'll have packaging 20.4 which is incompatible.\n"
     ]
    },
    {
     "name": "stdout",
     "output_type": "stream",
     "text": [
      "\n",
      "Requirement already satisfied: urllib3!=1.25.0,!=1.25.1,<1.26,>=1.21.1 in d:\\apps\\anaconda\\lib\\site-packages (from requests->transformers<5.0.0,>=4.6.0->sentence-transformers) (1.25.9)\n",
      "Requirement already satisfied: chardet<4,>=3.0.2 in d:\\apps\\anaconda\\lib\\site-packages (from requests->transformers<5.0.0,>=4.6.0->sentence-transformers) (3.0.4)\n",
      "Requirement already satisfied: certifi>=2017.4.17 in d:\\apps\\anaconda\\lib\\site-packages (from requests->transformers<5.0.0,>=4.6.0->sentence-transformers) (2020.6.20)\n",
      "Requirement already satisfied: idna<3,>=2.5 in d:\\apps\\anaconda\\lib\\site-packages (from requests->transformers<5.0.0,>=4.6.0->sentence-transformers) (2.10)\n",
      "Requirement already satisfied: pyparsing>=2.0.2 in d:\\apps\\anaconda\\lib\\site-packages (from packaging>=20.0->transformers<5.0.0,>=4.6.0->sentence-transformers) (2.4.7)\n",
      "Requirement already satisfied: six in d:\\apps\\anaconda\\lib\\site-packages (from packaging>=20.0->transformers<5.0.0,>=4.6.0->sentence-transformers) (1.15.0)\n",
      "Building wheels for collected packages: sentence-transformers\n",
      "  Building wheel for sentence-transformers (setup.py): started\n",
      "  Building wheel for sentence-transformers (setup.py): finished with status 'done'\n",
      "  Created wheel for sentence-transformers: filename=sentence_transformers-2.2.0-py3-none-any.whl size=120753 sha256=69ed2966e9a4cddc2a0b1d0ca0502f56ad49135003416d4acc9e4b2a3439d11b\n",
      "  Stored in directory: c:\\users\\asus\\appdata\\local\\pip\\cache\\wheels\\0c\\b6\\fb\\2289a932c365293ad865fc1fe9d2db694d5584241c6d670874\n",
      "Successfully built sentence-transformers\n",
      "Installing collected packages: tokenizers, huggingface-hub, transformers, torch, torchvision, sentencepiece, sentence-transformers\n",
      "Successfully installed huggingface-hub-0.7.0 sentence-transformers-2.2.0 sentencepiece-0.1.96 tokenizers-0.12.1 torch-1.11.0 torchvision-0.12.0 transformers-4.19.4\n"
     ]
    }
   ],
   "source": [
    "!pip install sentence-transformers"
   ]
  },
  {
   "cell_type": "code",
   "execution_count": 46,
   "metadata": {},
   "outputs": [
    {
     "data": {
      "application/vnd.jupyter.widget-view+json": {
       "model_id": "72c0b73fcc36461cab41de90c0d5958f",
       "version_major": 2,
       "version_minor": 0
      },
      "text/plain": [
       "Downloading:   0%|          | 0.00/391 [00:00<?, ?B/s]"
      ]
     },
     "metadata": {},
     "output_type": "display_data"
    },
    {
     "data": {
      "application/vnd.jupyter.widget-view+json": {
       "model_id": "e1995920dcb34f008eded9cf98c80fad",
       "version_major": 2,
       "version_minor": 0
      },
      "text/plain": [
       "Downloading:   0%|          | 0.00/190 [00:00<?, ?B/s]"
      ]
     },
     "metadata": {},
     "output_type": "display_data"
    },
    {
     "data": {
      "application/vnd.jupyter.widget-view+json": {
       "model_id": "9594fd8354dc4f60a46d0c7fb8322c1a",
       "version_major": 2,
       "version_minor": 0
      },
      "text/plain": [
       "Downloading:   0%|          | 0.00/3.95k [00:00<?, ?B/s]"
      ]
     },
     "metadata": {},
     "output_type": "display_data"
    },
    {
     "data": {
      "application/vnd.jupyter.widget-view+json": {
       "model_id": "3eeff25e8e3544c8a0ba32fe35d59735",
       "version_major": 2,
       "version_minor": 0
      },
      "text/plain": [
       "Downloading:   0%|          | 0.00/2.00 [00:00<?, ?B/s]"
      ]
     },
     "metadata": {},
     "output_type": "display_data"
    },
    {
     "data": {
      "application/vnd.jupyter.widget-view+json": {
       "model_id": "cee6e40eeb3a4e9fa0a601af9d76b17a",
       "version_major": 2,
       "version_minor": 0
      },
      "text/plain": [
       "Downloading:   0%|          | 0.00/625 [00:00<?, ?B/s]"
      ]
     },
     "metadata": {},
     "output_type": "display_data"
    },
    {
     "data": {
      "application/vnd.jupyter.widget-view+json": {
       "model_id": "835baacd52cb4b659df7afa9973d2bd9",
       "version_major": 2,
       "version_minor": 0
      },
      "text/plain": [
       "Downloading:   0%|          | 0.00/122 [00:00<?, ?B/s]"
      ]
     },
     "metadata": {},
     "output_type": "display_data"
    },
    {
     "data": {
      "application/vnd.jupyter.widget-view+json": {
       "model_id": "f8126e5adde2436d92db54aa82139311",
       "version_major": 2,
       "version_minor": 0
      },
      "text/plain": [
       "Downloading:   0%|          | 0.00/229 [00:00<?, ?B/s]"
      ]
     },
     "metadata": {},
     "output_type": "display_data"
    },
    {
     "data": {
      "application/vnd.jupyter.widget-view+json": {
       "model_id": "ef3f2bc207f64d6eb72897fd6a3405a2",
       "version_major": 2,
       "version_minor": 0
      },
      "text/plain": [
       "Downloading:   0%|          | 0.00/438M [00:00<?, ?B/s]"
      ]
     },
     "metadata": {},
     "output_type": "display_data"
    },
    {
     "data": {
      "application/vnd.jupyter.widget-view+json": {
       "model_id": "64a510a2d4394a4eba5d4485593c49d7",
       "version_major": 2,
       "version_minor": 0
      },
      "text/plain": [
       "Downloading:   0%|          | 0.00/53.0 [00:00<?, ?B/s]"
      ]
     },
     "metadata": {},
     "output_type": "display_data"
    },
    {
     "data": {
      "application/vnd.jupyter.widget-view+json": {
       "model_id": "f90f5a683cf443d7bfff79e4c9705ea2",
       "version_major": 2,
       "version_minor": 0
      },
      "text/plain": [
       "Downloading:   0%|          | 0.00/112 [00:00<?, ?B/s]"
      ]
     },
     "metadata": {},
     "output_type": "display_data"
    },
    {
     "data": {
      "application/vnd.jupyter.widget-view+json": {
       "model_id": "4e652b6f979d4595b8ae0d8556ecf640",
       "version_major": 2,
       "version_minor": 0
      },
      "text/plain": [
       "Downloading:   0%|          | 0.00/466k [00:00<?, ?B/s]"
      ]
     },
     "metadata": {},
     "output_type": "display_data"
    },
    {
     "data": {
      "application/vnd.jupyter.widget-view+json": {
       "model_id": "be91b68d44764848bf490f8e4df79787",
       "version_major": 2,
       "version_minor": 0
      },
      "text/plain": [
       "Downloading:   0%|          | 0.00/399 [00:00<?, ?B/s]"
      ]
     },
     "metadata": {},
     "output_type": "display_data"
    },
    {
     "data": {
      "application/vnd.jupyter.widget-view+json": {
       "model_id": "0f38fd6b7f79494db17d697652afc504",
       "version_major": 2,
       "version_minor": 0
      },
      "text/plain": [
       "Downloading:   0%|          | 0.00/232k [00:00<?, ?B/s]"
      ]
     },
     "metadata": {},
     "output_type": "display_data"
    }
   ],
   "source": [
    "from sklearn.metrics.pairwise import cosine_similarity\n",
    "from sklearn.metrics.pairwise import euclidean_distances\n",
    "from sentence_transformers import SentenceTransformer\n",
    "sbert_model = SentenceTransformer('bert-base-nli-mean-tokens')\n",
    "\n",
    "document_embeddings = sbert_model.encode(new_df_without_null['Dialogue'])\n",
    "\n",
    "pairwise_similarities=cosine_similarity(document_embeddings)\n",
    "pairwise_differences=euclidean_distances(document_embeddings)"
   ]
  },
  {
   "cell_type": "code",
   "execution_count": 47,
   "metadata": {},
   "outputs": [],
   "source": [
    "friends_score = return_most_similar(1,pairwise_similarities,'Cosine Similarity')"
   ]
  },
  {
   "cell_type": "code",
   "execution_count": 48,
   "metadata": {},
   "outputs": [
    {
     "name": "stdout",
     "output_type": "stream",
     "text": [
      "228\n",
      "228\n",
      "228\n"
     ]
    }
   ],
   "source": [
    "for i in friends_score.values():\n",
    "  print(len(i))"
   ]
  },
  {
   "cell_type": "code",
   "execution_count": 49,
   "metadata": {},
   "outputs": [],
   "source": [
    " friends= pd.DataFrame(friends_score)"
   ]
  },
  {
   "cell_type": "code",
   "execution_count": 50,
   "metadata": {},
   "outputs": [
    {
     "data": {
      "text/html": [
       "<div>\n",
       "<style scoped>\n",
       "    .dataframe tbody tr th:only-of-type {\n",
       "        vertical-align: middle;\n",
       "    }\n",
       "\n",
       "    .dataframe tbody tr th {\n",
       "        vertical-align: top;\n",
       "    }\n",
       "\n",
       "    .dataframe thead th {\n",
       "        text-align: right;\n",
       "    }\n",
       "</style>\n",
       "<table border=\"1\" class=\"dataframe\">\n",
       "  <thead>\n",
       "    <tr style=\"text-align: right;\">\n",
       "      <th></th>\n",
       "      <th>Compare Document 1</th>\n",
       "      <th>Compare Document 2</th>\n",
       "      <th>Cosine Similarity</th>\n",
       "    </tr>\n",
       "  </thead>\n",
       "  <tbody>\n",
       "    <tr>\n",
       "      <th>0</th>\n",
       "      <td>Dialogue    you guys don  understand for us ki...</td>\n",
       "      <td>Dialogue    hi guys hey pheebs oh oh how  it g...</td>\n",
       "      <td>0.868036</td>\n",
       "    </tr>\n",
       "    <tr>\n",
       "      <th>1</th>\n",
       "      <td>Dialogue    you guys don  understand for us ki...</td>\n",
       "      <td>Dialogue    what are you looking at  poster fo...</td>\n",
       "      <td>0.866032</td>\n",
       "    </tr>\n",
       "    <tr>\n",
       "      <th>2</th>\n",
       "      <td>Dialogue    you guys don  understand for us ki...</td>\n",
       "      <td>Dialogue    come on joey  told you everything ...</td>\n",
       "      <td>0.863075</td>\n",
       "    </tr>\n",
       "    <tr>\n",
       "      <th>3</th>\n",
       "      <td>Dialogue    you guys don  understand for us ki...</td>\n",
       "      <td>Dialogue    did everything go okay with the an...</td>\n",
       "      <td>0.852207</td>\n",
       "    </tr>\n",
       "    <tr>\n",
       "      <th>4</th>\n",
       "      <td>Dialogue    you guys don  understand for us ki...</td>\n",
       "      <td>Dialogue    it  so weird how did joey end up k...</td>\n",
       "      <td>0.842908</td>\n",
       "    </tr>\n",
       "    <tr>\n",
       "      <th>5</th>\n",
       "      <td>Dialogue    you guys don  understand for us ki...</td>\n",
       "      <td>Dialogue      any entertainment there all righ...</td>\n",
       "      <td>0.842320</td>\n",
       "    </tr>\n",
       "    <tr>\n",
       "      <th>6</th>\n",
       "      <td>Dialogue    you guys don  understand for us ki...</td>\n",
       "      <td>Dialogue    wow that ripped that ripped real n...</td>\n",
       "      <td>0.839168</td>\n",
       "    </tr>\n",
       "    <tr>\n",
       "      <th>7</th>\n",
       "      <td>Dialogue    you guys don  understand for us ki...</td>\n",
       "      <td>Dialogue    1 45 ripped with subrip 117 and ve...</td>\n",
       "      <td>0.837228</td>\n",
       "    </tr>\n",
       "    <tr>\n",
       "      <th>8</th>\n",
       "      <td>Dialogue    you guys don  understand for us ki...</td>\n",
       "      <td>Dialogue    listen you think  have  chance wit...</td>\n",
       "      <td>0.837227</td>\n",
       "    </tr>\n",
       "    <tr>\n",
       "      <th>9</th>\n",
       "      <td>Dialogue    you guys don  understand for us ki...</td>\n",
       "      <td>Dialogue    1 45 ripped with subrip 117 and ve...</td>\n",
       "      <td>0.836060</td>\n",
       "    </tr>\n",
       "  </tbody>\n",
       "</table>\n",
       "</div>"
      ],
      "text/plain": [
       "                                  Compare Document 1  \\\n",
       "0  Dialogue    you guys don  understand for us ki...   \n",
       "1  Dialogue    you guys don  understand for us ki...   \n",
       "2  Dialogue    you guys don  understand for us ki...   \n",
       "3  Dialogue    you guys don  understand for us ki...   \n",
       "4  Dialogue    you guys don  understand for us ki...   \n",
       "5  Dialogue    you guys don  understand for us ki...   \n",
       "6  Dialogue    you guys don  understand for us ki...   \n",
       "7  Dialogue    you guys don  understand for us ki...   \n",
       "8  Dialogue    you guys don  understand for us ki...   \n",
       "9  Dialogue    you guys don  understand for us ki...   \n",
       "\n",
       "                                  Compare Document 2  Cosine Similarity  \n",
       "0  Dialogue    hi guys hey pheebs oh oh how  it g...           0.868036  \n",
       "1  Dialogue    what are you looking at  poster fo...           0.866032  \n",
       "2  Dialogue    come on joey  told you everything ...           0.863075  \n",
       "3  Dialogue    did everything go okay with the an...           0.852207  \n",
       "4  Dialogue    it  so weird how did joey end up k...           0.842908  \n",
       "5  Dialogue      any entertainment there all righ...           0.842320  \n",
       "6  Dialogue    wow that ripped that ripped real n...           0.839168  \n",
       "7  Dialogue    1 45 ripped with subrip 117 and ve...           0.837228  \n",
       "8  Dialogue    listen you think  have  chance wit...           0.837227  \n",
       "9  Dialogue    1 45 ripped with subrip 117 and ve...           0.836060  "
      ]
     },
     "execution_count": 50,
     "metadata": {},
     "output_type": "execute_result"
    }
   ],
   "source": [
    "friends.head(10)"
   ]
  },
  {
   "cell_type": "code",
   "execution_count": 51,
   "metadata": {},
   "outputs": [],
   "source": [
    "data_score = pd.read_csv('data.csv')"
   ]
  },
  {
   "cell_type": "code",
   "execution_count": 52,
   "metadata": {},
   "outputs": [
    {
     "data": {
      "text/html": [
       "<div>\n",
       "<style scoped>\n",
       "    .dataframe tbody tr th:only-of-type {\n",
       "        vertical-align: middle;\n",
       "    }\n",
       "\n",
       "    .dataframe tbody tr th {\n",
       "        vertical-align: top;\n",
       "    }\n",
       "\n",
       "    .dataframe thead th {\n",
       "        text-align: right;\n",
       "    }\n",
       "</style>\n",
       "<table border=\"1\" class=\"dataframe\">\n",
       "  <thead>\n",
       "    <tr style=\"text-align: right;\">\n",
       "      <th></th>\n",
       "      <th>Score</th>\n",
       "      <th>Doc</th>\n",
       "      <th>Doc Specific</th>\n",
       "    </tr>\n",
       "  </thead>\n",
       "  <tbody>\n",
       "    <tr>\n",
       "      <th>0</th>\n",
       "      <td>0.194</td>\n",
       "      <td>Doc0</td>\n",
       "      <td>{'doc_id': 'Doc0', 'isi': 'there  nothing to t...</td>\n",
       "    </tr>\n",
       "    <tr>\n",
       "      <th>1</th>\n",
       "      <td>3.984</td>\n",
       "      <td>Doc1</td>\n",
       "      <td>{'doc_id': 'Doc1', 'isi': 'you guys don  under...</td>\n",
       "    </tr>\n",
       "    <tr>\n",
       "      <th>2</th>\n",
       "      <td>1.017</td>\n",
       "      <td>Doc2</td>\n",
       "      <td>{'doc_id': 'Doc2', 'isi': 'hi guys hey pheebs ...</td>\n",
       "    </tr>\n",
       "    <tr>\n",
       "      <th>3</th>\n",
       "      <td>0.236</td>\n",
       "      <td>Doc3</td>\n",
       "      <td>{'doc_id': 'Doc3', 'isi': 'all right phoebe if...</td>\n",
       "    </tr>\n",
       "    <tr>\n",
       "      <th>4</th>\n",
       "      <td>0.256</td>\n",
       "      <td>Doc4</td>\n",
       "      <td>{'doc_id': 'Doc4', 'isi': 'let it go it  not  ...</td>\n",
       "    </tr>\n",
       "  </tbody>\n",
       "</table>\n",
       "</div>"
      ],
      "text/plain": [
       "   Score   Doc                                       Doc Specific\n",
       "0  0.194  Doc0  {'doc_id': 'Doc0', 'isi': 'there  nothing to t...\n",
       "1  3.984  Doc1  {'doc_id': 'Doc1', 'isi': 'you guys don  under...\n",
       "2  1.017  Doc2  {'doc_id': 'Doc2', 'isi': 'hi guys hey pheebs ...\n",
       "3  0.236  Doc3  {'doc_id': 'Doc3', 'isi': 'all right phoebe if...\n",
       "4  0.256  Doc4  {'doc_id': 'Doc4', 'isi': 'let it go it  not  ..."
      ]
     },
     "execution_count": 52,
     "metadata": {},
     "output_type": "execute_result"
    }
   ],
   "source": [
    "data_score.head()"
   ]
  },
  {
   "cell_type": "code",
   "execution_count": 53,
   "metadata": {},
   "outputs": [
    {
     "data": {
      "text/plain": [
       "Score           float64\n",
       "Doc              object\n",
       "Doc Specific     object\n",
       "dtype: object"
      ]
     },
     "execution_count": 53,
     "metadata": {},
     "output_type": "execute_result"
    }
   ],
   "source": [
    "data_score.dtypes"
   ]
  },
  {
   "cell_type": "code",
   "execution_count": 54,
   "metadata": {},
   "outputs": [],
   "source": [
    "data_score['Score'] = data_score['Score'].apply(pd.to_numeric)"
   ]
  },
  {
   "cell_type": "code",
   "execution_count": 55,
   "metadata": {},
   "outputs": [
    {
     "data": {
      "image/png": "[encoded data removed]",
      "text/plain": [
       "<Figure size 1080x720 with 1 Axes>"
      ]
     },
     "metadata": {
      "needs_background": "light"
     },
     "output_type": "display_data"
    }
   ],
   "source": [
    "import matplotlib.pyplot as plt\n",
    "Score1 = data_score['Score'][:20]\n",
    "Score2 = friends['Cosine Similarity'][:20]\n",
    "Doc = data_score['Doc'][:20]\n",
    "\n",
    "fig = plt.figure(figsize = (15,10))\n",
    "plt.title= \"BM25 vs BERT Dataset FRIENDS\"\n",
    "plt.plot(Doc, Score1, color = 'red')\n",
    "plt.plot(Doc,Score2, color= 'blue')\n",
    "plt.legend(['BM25', 'BERT'], loc = 'upper right')\n",
    "plt.xlabel('Doc')\n",
    "plt.ylabel('Score')\n",
    "plt.show()"
   ]
  },
  {
   "cell_type": "code",
   "execution_count": null,
   "metadata": {},
   "outputs": [],
   "source": []
  }
 ],
 "metadata": {
  "accelerator": "GPU",
  "colab": {
   "collapsed_sections": [],
   "name": "Proyek Dataset Friends",
   "provenance": []
  },
  "kernelspec": {
   "display_name": "Python 3",
   "language": "python",
   "name": "python3"
  },
  "language_info": {
   "codemirror_mode": {
    "name": "ipython",
    "version": 3
   },
   "file_extension": ".py",
   "mimetype": "text/x-python",
   "name": "python",
   "nbconvert_exporter": "python",
   "pygments_lexer": "ipython3",
   "version": "3.8.3"
  }
 },
 "nbformat": 4,
 "nbformat_minor": 1
}
