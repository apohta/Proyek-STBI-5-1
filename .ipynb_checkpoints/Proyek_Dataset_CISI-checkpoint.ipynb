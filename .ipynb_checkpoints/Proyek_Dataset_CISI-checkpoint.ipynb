{
 "cells": [
  {
   "cell_type": "code",
   "execution_count": 1,
   "metadata": {
    "colab": {
     "base_uri": "https://localhost:8080/"
    },
    "id": "iBZCvsvH7GaZ",
    "outputId": "2f0d1bee-c5d2-4040-ae09-0165d0afb097"
   },
   "outputs": [
    {
     "name": "stdout",
     "output_type": "stream",
     "text": [
      "[nltk_data] Downloading package punkt to\n",
      "[nltk_data]     C:\\Users\\User\\AppData\\Roaming\\nltk_data...\n",
      "[nltk_data]   Package punkt is already up-to-date!\n"
     ]
    }
   ],
   "source": [
    "import pandas as pd\n",
    "import re\n",
    "import nltk\n",
    "nltk.download('punkt')\n",
    "\n",
    "from nltk.tokenize import word_tokenize\n",
    "from nltk.corpus import stopwords\n",
    "from nltk.stem.porter import PorterStemmer"
   ]
  },
  {
   "cell_type": "code",
   "execution_count": 2,
   "metadata": {
    "colab": {
     "base_uri": "https://localhost:8080/"
    },
    "id": "2Yh4IuKE7Vgh",
    "outputId": "8d172767-d7ae-46ff-d98a-b611fcecbf8d"
   },
   "outputs": [
    {
     "name": "stderr",
     "output_type": "stream",
     "text": [
      "b'Skipping line 9: expected 1 fields, saw 2\\nSkipping line 10: expected 1 fields, saw 2\\nSkipping line 26: expected 1 fields, saw 3\\nSkipping line 30: expected 1 fields, saw 3\\nSkipping line 31: expected 1 fields, saw 2\\nSkipping line 42: expected 1 fields, saw 2\\nSkipping line 45: expected 1 fields, saw 3\\nSkipping line 49: expected 1 fields, saw 3\\nSkipping line 60: expected 1 fields, saw 2\\nSkipping line 61: expected 1 fields, saw 2\\nSkipping line 69: expected 1 fields, saw 3\\nSkipping line 73: expected 1 fields, saw 3\\nSkipping line 74: expected 1 fields, saw 2\\nSkipping line 144: expected 1 fields, saw 2\\nSkipping line 145: expected 1 fields, saw 2\\nSkipping line 152: expected 1 fields, saw 2\\nSkipping line 153: expected 1 fields, saw 2\\nSkipping line 159: expected 1 fields, saw 3\\nSkipping line 160: expected 1 fields, saw 4\\nSkipping line 161: expected 1 fields, saw 3\\nSkipping line 179: expected 1 fields, saw 2\\nSkipping line 194: expected 1 fields, saw 3\\nSkipping line 202: expected 1 fields, saw 2\\nSkipping line 203: expected 1 fields, saw 2\\nSkipping line 205: expected 1 fields, saw 3\\nSkipping line 206: expected 1 fields, saw 2\\nSkipping line 213: expected 1 fields, saw 2\\nSkipping line 222: expected 1 fields, saw 4\\nSkipping line 223: expected 1 fields, saw 2\\nSkipping line 224: expected 1 fields, saw 2\\nSkipping line 226: expected 1 fields, saw 2\\nSkipping line 232: expected 1 fields, saw 2\\nSkipping line 235: expected 1 fields, saw 2\\nSkipping line 237: expected 1 fields, saw 2\\nSkipping line 244: expected 1 fields, saw 3\\nSkipping line 245: expected 1 fields, saw 2\\nSkipping line 246: expected 1 fields, saw 4\\nSkipping line 248: expected 1 fields, saw 2\\nSkipping line 249: expected 1 fields, saw 4\\nSkipping line 250: expected 1 fields, saw 2\\nSkipping line 255: expected 1 fields, saw 2\\nSkipping line 256: expected 1 fields, saw 3\\nSkipping line 257: expected 1 fields, saw 2\\nSkipping line 259: expected 1 fields, saw 2\\nSkipping line 265: expected 1 fields, saw 4\\nSkipping line 266: expected 1 fields, saw 2\\nSkipping line 268: expected 1 fields, saw 2\\nSkipping line 270: expected 1 fields, saw 2\\nSkipping line 292: expected 1 fields, saw 2\\nSkipping line 301: expected 1 fields, saw 3\\nSkipping line 323: expected 1 fields, saw 4\\nSkipping line 325: expected 1 fields, saw 3\\nSkipping line 335: expected 1 fields, saw 2\\nSkipping line 336: expected 1 fields, saw 2\\nSkipping line 339: expected 1 fields, saw 2\\nSkipping line 340: expected 1 fields, saw 2\\nSkipping line 345: expected 1 fields, saw 2\\nSkipping line 349: expected 1 fields, saw 5\\nSkipping line 356: expected 1 fields, saw 2\\nSkipping line 362: expected 1 fields, saw 2\\nSkipping line 363: expected 1 fields, saw 2\\nSkipping line 372: expected 1 fields, saw 5\\nSkipping line 379: expected 1 fields, saw 2\\nSkipping line 380: expected 1 fields, saw 2\\nSkipping line 387: expected 1 fields, saw 2\\nSkipping line 389: expected 1 fields, saw 2\\nSkipping line 390: expected 1 fields, saw 2\\nSkipping line 391: expected 1 fields, saw 2\\nSkipping line 392: expected 1 fields, saw 2\\nSkipping line 393: expected 1 fields, saw 3\\nSkipping line 396: expected 1 fields, saw 5\\nSkipping line 402: expected 1 fields, saw 2\\nSkipping line 412: expected 1 fields, saw 5\\nSkipping line 418: expected 1 fields, saw 2\\nSkipping line 426: expected 1 fields, saw 2\\nSkipping line 429: expected 1 fields, saw 5\\nSkipping line 436: expected 1 fields, saw 2\\nSkipping line 437: expected 1 fields, saw 2\\nSkipping line 442: expected 1 fields, saw 2\\nSkipping line 443: expected 1 fields, saw 2\\nSkipping line 445: expected 1 fields, saw 4\\nSkipping line 446: expected 1 fields, saw 3\\nSkipping line 447: expected 1 fields, saw 2\\nSkipping line 448: expected 1 fields, saw 3\\nSkipping line 449: expected 1 fields, saw 2\\nSkipping line 450: expected 1 fields, saw 2\\nSkipping line 453: expected 1 fields, saw 5\\nSkipping line 459: expected 1 fields, saw 2\\nSkipping line 462: expected 1 fields, saw 5\\nSkipping line 464: expected 1 fields, saw 2\\nSkipping line 468: expected 1 fields, saw 5\\nSkipping line 474: expected 1 fields, saw 2\\nSkipping line 479: expected 1 fields, saw 2\\nSkipping line 488: expected 1 fields, saw 5\\nSkipping line 494: expected 1 fields, saw 2\\nSkipping line 496: expected 1 fields, saw 2\\nSkipping line 498: expected 1 fields, saw 4\\nSkipping line 499: expected 1 fields, saw 5\\nSkipping line 500: expected 1 fields, saw 3\\nSkipping line 504: expected 1 fields, saw 5\\nSkipping line 510: expected 1 fields, saw 2\\nSkipping line 511: expected 1 fields, saw 2\\nSkipping line 516: expected 1 fields, saw 2\\nSkipping line 517: expected 1 fields, saw 2\\nSkipping line 522: expected 1 fields, saw 2\\nSkipping line 523: expected 1 fields, saw 2\\nSkipping line 534: expected 1 fields, saw 5\\nSkipping line 540: expected 1 fields, saw 2\\nSkipping line 541: expected 1 fields, saw 2\\nSkipping line 545: expected 1 fields, saw 2\\nSkipping line 547: expected 1 fields, saw 2\\nSkipping line 548: expected 1 fields, saw 2\\nSkipping line 552: expected 1 fields, saw 2\\nSkipping line 556: expected 1 fields, saw 5\\nSkipping line 562: expected 1 fields, saw 2\\nSkipping line 563: expected 1 fields, saw 2\\nSkipping line 567: expected 1 fields, saw 2\\nSkipping line 568: expected 1 fields, saw 2\\nSkipping line 571: expected 1 fields, saw 2\\nSkipping line 572: expected 1 fields, saw 2\\nSkipping line 574: expected 1 fields, saw 3\\nSkipping line 575: expected 1 fields, saw 4\\nSkipping line 577: expected 1 fields, saw 3\\nSkipping line 580: expected 1 fields, saw 5\\nSkipping line 586: expected 1 fields, saw 2\\nSkipping line 590: expected 1 fields, saw 3\\nSkipping line 592: expected 1 fields, saw 2\\nSkipping line 593: expected 1 fields, saw 2\\nSkipping line 594: expected 1 fields, saw 3\\nSkipping line 597: expected 1 fields, saw 2\\nSkipping line 608: expected 1 fields, saw 2\\nSkipping line 611: expected 1 fields, saw 4\\nSkipping line 618: expected 1 fields, saw 2\\nSkipping line 619: expected 1 fields, saw 2\\nSkipping line 620: expected 1 fields, saw 2\\nSkipping line 633: expected 1 fields, saw 2\\nSkipping line 635: expected 1 fields, saw 2\\nSkipping line 636: expected 1 fields, saw 2\\nSkipping line 639: expected 1 fields, saw 5\\nSkipping line 645: expected 1 fields, saw 2\\nSkipping line 652: expected 1 fields, saw 2\\nSkipping line 654: expected 1 fields, saw 2\\nSkipping line 655: expected 1 fields, saw 3\\nSkipping line 656: expected 1 fields, saw 2\\nSkipping line 660: expected 1 fields, saw 5\\nSkipping line 666: expected 1 fields, saw 2\\nSkipping line 667: expected 1 fields, saw 2\\nSkipping line 668: expected 1 fields, saw 2\\nSkipping line 671: expected 1 fields, saw 3\\nSkipping line 673: expected 1 fields, saw 2\\nSkipping line 674: expected 1 fields, saw 2\\nSkipping line 677: expected 1 fields, saw 2\\nSkipping line 678: expected 1 fields, saw 2\\nSkipping line 679: expected 1 fields, saw 2\\nSkipping line 680: expected 1 fields, saw 2\\nSkipping line 683: expected 1 fields, saw 5\\nSkipping line 689: expected 1 fields, saw 2\\nSkipping line 691: expected 1 fields, saw 2\\nSkipping line 694: expected 1 fields, saw 4\\nSkipping line 701: expected 1 fields, saw 5\\nSkipping line 707: expected 1 fields, saw 2\\nSkipping line 708: expected 1 fields, saw 2\\nSkipping line 709: expected 1 fields, saw 2\\nSkipping line 713: expected 1 fields, saw 2\\nSkipping line 715: expected 1 fields, saw 3\\nSkipping line 716: expected 1 fields, saw 2\\nSkipping line 717: expected 1 fields, saw 2\\nSkipping line 718: expected 1 fields, saw 2\\nSkipping line 720: expected 1 fields, saw 5\\nSkipping line 728: expected 1 fields, saw 2\\nSkipping line 732: expected 1 fields, saw 2\\nSkipping line 734: expected 1 fields, saw 3\\nSkipping line 736: expected 1 fields, saw 3\\nSkipping line 739: expected 1 fields, saw 5\\nSkipping line 745: expected 1 fields, saw 2\\nSkipping line 746: expected 1 fields, saw 2\\nSkipping line 747: expected 1 fields, saw 2\\nSkipping line 752: expected 1 fields, saw 2\\nSkipping line 753: expected 1 fields, saw 2\\nSkipping line 754: expected 1 fields, saw 2\\nSkipping line 757: expected 1 fields, saw 2\\nSkipping line 762: expected 1 fields, saw 5\\nSkipping line 768: expected 1 fields, saw 2\\nSkipping line 770: expected 1 fields, saw 2\\nSkipping line 771: expected 1 fields, saw 2\\nSkipping line 773: expected 1 fields, saw 2\\nSkipping line 777: expected 1 fields, saw 2\\nSkipping line 780: expected 1 fields, saw 4\\nSkipping line 786: expected 1 fields, saw 2\\nSkipping line 796: expected 1 fields, saw 5\\nSkipping line 803: expected 1 fields, saw 2\\nSkipping line 806: expected 1 fields, saw 2\\nSkipping line 807: expected 1 fields, saw 2\\nSkipping line 809: expected 1 fields, saw 3\\nSkipping line 810: expected 1 fields, saw 4\\nSkipping line 813: expected 1 fields, saw 2\\nSkipping line 819: expected 1 fields, saw 5\\nSkipping line 825: expected 1 fields, saw 2\\nSkipping line 826: expected 1 fields, saw 2\\nSkipping line 831: expected 1 fields, saw 2\\nSkipping line 833: expected 1 fields, saw 2\\nSkipping line 836: expected 1 fields, saw 2\\nSkipping line 837: expected 1 fields, saw 2\\nSkipping line 838: expected 1 fields, saw 2\\nSkipping line 840: expected 1 fields, saw 3\\nSkipping line 842: expected 1 fields, saw 4\\nSkipping line 848: expected 1 fields, saw 2\\nSkipping line 851: expected 1 fields, saw 3\\nSkipping line 852: expected 1 fields, saw 2\\nSkipping line 853: expected 1 fields, saw 2\\nSkipping line 855: expected 1 fields, saw 4\\nSkipping line 856: expected 1 fields, saw 2\\nSkipping line 857: expected 1 fields, saw 3\\nSkipping line 862: expected 1 fields, saw 5\\nSkipping line 868: expected 1 fields, saw 2\\nSkipping line 875: expected 1 fields, saw 2\\nSkipping line 876: expected 1 fields, saw 2\\nSkipping line 887: expected 1 fields, saw 5\\nSkipping line 893: expected 1 fields, saw 2\\nSkipping line 894: expected 1 fields, saw 2\\nSkipping line 897: expected 1 fields, saw 2\\nSkipping line 902: expected 1 fields, saw 2\\nSkipping line 907: expected 1 fields, saw 5\\nSkipping line 913: expected 1 fields, saw 2\\nSkipping line 914: expected 1 fields, saw 2\\nSkipping line 918: expected 1 fields, saw 3\\nSkipping line 923: expected 1 fields, saw 2\\nSkipping line 926: expected 1 fields, saw 3\\nSkipping line 929: expected 1 fields, saw 2\\nSkipping line 930: expected 1 fields, saw 2\\nSkipping line 932: expected 1 fields, saw 3\\nSkipping line 938: expected 1 fields, saw 5\\nSkipping line 944: expected 1 fields, saw 2\\nSkipping line 945: expected 1 fields, saw 2\\nSkipping line 952: expected 1 fields, saw 2\\nSkipping line 956: expected 1 fields, saw 2\\nSkipping line 960: expected 1 fields, saw 5\\nSkipping line 967: expected 1 fields, saw 2\\nSkipping line 968: expected 1 fields, saw 2\\nSkipping line 978: expected 1 fields, saw 5\\nSkipping line 984: expected 1 fields, saw 5\\nSkipping line 992: expected 1 fields, saw 2\\nSkipping line 1002: expected 1 fields, saw 5\\nSkipping line 1009: expected 1 fields, saw 2\\nSkipping line 1018: expected 1 fields, saw 2\\nSkipping line 1027: expected 1 fields, saw 5\\nSkipping line 1033: expected 1 fields, saw 2\\nSkipping line 1038: expected 1 fields, saw 2\\nSkipping line 1041: expected 1 fields, saw 2\\nSkipping line 1044: expected 1 fields, saw 2\\nSkipping line 1047: expected 1 fields, saw 2\\nSkipping line 1048: expected 1 fields, saw 2\\nSkipping line 1052: expected 1 fields, saw 2\\nSkipping line 1053: expected 1 fields, saw 2\\nSkipping line 1059: expected 1 fields, saw 2\\nSkipping line 1065: expected 1 fields, saw 5\\nSkipping line 1072: expected 1 fields, saw 2\\nSkipping line 1078: expected 1 fields, saw 4\\nSkipping line 1088: expected 1 fields, saw 2\\nSkipping line 1089: expected 1 fields, saw 2\\nSkipping line 1094: expected 1 fields, saw 5\\nSkipping line 1102: expected 1 fields, saw 2\\nSkipping line 1103: expected 1 fields, saw 2\\nSkipping line 1104: expected 1 fields, saw 3\\nSkipping line 1109: expected 1 fields, saw 5\\nSkipping line 1115: expected 1 fields, saw 2\\nSkipping line 1116: expected 1 fields, saw 2\\nSkipping line 1118: expected 1 fields, saw 2\\nSkipping line 1119: expected 1 fields, saw 2\\nSkipping line 1120: expected 1 fields, saw 3\\nSkipping line 1122: expected 1 fields, saw 2\\nSkipping line 1123: expected 1 fields, saw 2\\nSkipping line 1127: expected 1 fields, saw 2\\nSkipping line 1129: expected 1 fields, saw 2\\nSkipping line 1130: expected 1 fields, saw 2\\nSkipping line 1135: expected 1 fields, saw 5\\nSkipping line 1141: expected 1 fields, saw 2\\nSkipping line 1142: expected 1 fields, saw 2\\nSkipping line 1146: expected 1 fields, saw 2\\nSkipping line 1147: expected 1 fields, saw 2\\nSkipping line 1148: expected 1 fields, saw 3\\nSkipping line 1153: expected 1 fields, saw 5\\nSkipping line 1159: expected 1 fields, saw 2\\nSkipping line 1169: expected 1 fields, saw 2\\nSkipping line 1172: expected 1 fields, saw 4\\nSkipping line 1178: expected 1 fields, saw 2\\nSkipping line 1179: expected 1 fields, saw 2\\nSkipping line 1182: expected 1 fields, saw 3\\nSkipping line 1185: expected 1 fields, saw 2\\nSkipping line 1186: expected 1 fields, saw 2\\nSkipping line 1189: expected 1 fields, saw 5\\nSkipping line 1195: expected 1 fields, saw 2\\nSkipping line 1196: expected 1 fields, saw 2\\nSkipping line 1200: expected 1 fields, saw 2\\nSkipping line 1205: expected 1 fields, saw 2\\nSkipping line 1206: expected 1 fields, saw 2\\nSkipping line 1211: expected 1 fields, saw 5\\nSkipping line 1218: expected 1 fields, saw 2\\nSkipping line 1219: expected 1 fields, saw 2\\nSkipping line 1221: expected 1 fields, saw 2\\nSkipping line 1222: expected 1 fields, saw 2\\nSkipping line 1224: expected 1 fields, saw 3\\nSkipping line 1229: expected 1 fields, saw 2\\nSkipping line 1231: expected 1 fields, saw 3\\nSkipping line 1234: expected 1 fields, saw 5\\nSkipping line 1241: expected 1 fields, saw 2\\nSkipping line 1242: expected 1 fields, saw 2\\nSkipping line 1245: expected 1 fields, saw 2\\nSkipping line 1246: expected 1 fields, saw 2\\nSkipping line 1247: expected 1 fields, saw 2\\nSkipping line 1250: expected 1 fields, saw 3\\nSkipping line 1251: expected 1 fields, saw 3\\nSkipping line 1252: expected 1 fields, saw 2\\nSkipping line 1254: expected 1 fields, saw 2\\nSkipping line 1255: expected 1 fields, saw 2\\nSkipping line 1259: expected 1 fields, saw 5\\nSkipping line 1266: expected 1 fields, saw 2\\nSkipping line 1271: expected 1 fields, saw 2\\nSkipping line 1272: expected 1 fields, saw 2\\nSkipping line 1276: expected 1 fields, saw 3\\nSkipping line 1282: expected 1 fields, saw 2\\nSkipping line 1283: expected 1 fields, saw 2\\nSkipping line 1286: expected 1 fields, saw 2\\nSkipping line 1292: expected 1 fields, saw 2\\nSkipping line 1297: expected 1 fields, saw 5\\nSkipping line 1298: expected 1 fields, saw 4\\nSkipping line 1304: expected 1 fields, saw 2\\nSkipping line 1305: expected 1 fields, saw 2\\nSkipping line 1306: expected 1 fields, saw 2\\nSkipping line 1310: expected 1 fields, saw 2\\nSkipping line 1316: expected 1 fields, saw 3\\nSkipping line 1319: expected 1 fields, saw 2\\nSkipping line 1323: expected 1 fields, saw 5\\nSkipping line 1329: expected 1 fields, saw 2\\nSkipping line 1330: expected 1 fields, saw 2\\nSkipping line 1331: expected 1 fields, saw 2\\nSkipping line 1332: expected 1 fields, saw 2\\nSkipping line 1335: expected 1 fields, saw 2\\nSkipping line 1340: expected 1 fields, saw 5\\nSkipping line 1346: expected 1 fields, saw 2\\nSkipping line 1347: expected 1 fields, saw 2\\nSkipping line 1348: expected 1 fields, saw 2\\nSkipping line 1350: expected 1 fields, saw 2\\nSkipping line 1351: expected 1 fields, saw 2\\nSkipping line 1356: expected 1 fields, saw 2\\nSkipping line 1359: expected 1 fields, saw 5\\nSkipping line 1363: expected 1 fields, saw 2\\nSkipping line 1365: expected 1 fields, saw 2\\nSkipping line 1375: expected 1 fields, saw 5\\nSkipping line 1381: expected 1 fields, saw 2\\nSkipping line 1384: expected 1 fields, saw 2\\nSkipping line 1386: expected 1 fields, saw 2\\nSkipping line 1387: expected 1 fields, saw 2\\nSkipping line 1388: expected 1 fields, saw 2\\nSkipping line 1390: expected 1 fields, saw 2\\nSkipping line 1391: expected 1 fields, saw 2\\nSkipping line 1397: expected 1 fields, saw 2\\nSkipping line 1400: expected 1 fields, saw 5\\nSkipping line 1406: expected 1 fields, saw 2\\nSkipping line 1409: expected 1 fields, saw 2\\nSkipping line 1413: expected 1 fields, saw 2\\nSkipping line 1414: expected 1 fields, saw 2\\nSkipping line 1415: expected 1 fields, saw 2\\nSkipping line 1417: expected 1 fields, saw 2\\nSkipping line 1421: expected 1 fields, saw 5\\nSkipping line 1427: expected 1 fields, saw 2\\nSkipping line 1434: expected 1 fields, saw 3\\nSkipping line 1436: expected 1 fields, saw 2\\nSkipping line 1440: expected 1 fields, saw 5\\nSkipping line 1446: expected 1 fields, saw 2\\nSkipping line 1447: expected 1 fields, saw 2\\nSkipping line 1449: expected 1 fields, saw 2\\nSkipping line 1450: expected 1 fields, saw 2\\nSkipping line 1453: expected 1 fields, saw 2\\nSkipping line 1456: expected 1 fields, saw 2\\nSkipping line 1457: expected 1 fields, saw 2\\nSkipping line 1458: expected 1 fields, saw 2\\nSkipping line 1460: expected 1 fields, saw 2\\nSkipping line 1461: expected 1 fields, saw 2\\nSkipping line 1466: expected 1 fields, saw 3\\nSkipping line 1469: expected 1 fields, saw 5\\nSkipping line 1476: expected 1 fields, saw 2\\nSkipping line 1478: expected 1 fields, saw 7\\nSkipping line 1482: expected 1 fields, saw 2\\nSkipping line 1486: expected 1 fields, saw 3\\nSkipping line 1487: expected 1 fields, saw 2\\nSkipping line 1491: expected 1 fields, saw 5\\nSkipping line 1497: expected 1 fields, saw 2\\nSkipping line 1508: expected 1 fields, saw 4\\nSkipping line 1515: expected 1 fields, saw 2\\nSkipping line 1520: expected 1 fields, saw 2\\nSkipping line 1524: expected 1 fields, saw 5\\n'\n"
     ]
    }
   ],
   "source": [
    "cisi = pd.read_csv('Dataset\\CISI.QRY.csv',error_bad_lines=False)"
   ]
  },
  {
   "cell_type": "code",
   "execution_count": 3,
   "metadata": {
    "colab": {
     "base_uri": "https://localhost:8080/",
     "height": 206
    },
    "id": "FYx636hy7a0J",
    "outputId": "6ec84161-5b76-4568-d1e1-b7fa344c76e3"
   },
   "outputs": [
    {
     "data": {
      "text/html": [
       "<div>\n",
       "<style scoped>\n",
       "    .dataframe tbody tr th:only-of-type {\n",
       "        vertical-align: middle;\n",
       "    }\n",
       "\n",
       "    .dataframe tbody tr th {\n",
       "        vertical-align: top;\n",
       "    }\n",
       "\n",
       "    .dataframe thead th {\n",
       "        text-align: right;\n",
       "    }\n",
       "</style>\n",
       "<table border=\"1\" class=\"dataframe\">\n",
       "  <thead>\n",
       "    <tr style=\"text-align: right;\">\n",
       "      <th></th>\n",
       "      <th>.I 1</th>\n",
       "    </tr>\n",
       "  </thead>\n",
       "  <tbody>\n",
       "    <tr>\n",
       "      <th>0</th>\n",
       "      <td>.W</td>\n",
       "    </tr>\n",
       "    <tr>\n",
       "      <th>1</th>\n",
       "      <td>What problems and concerns are there in making...</td>\n",
       "    </tr>\n",
       "    <tr>\n",
       "      <th>2</th>\n",
       "      <td>What difficulties are involved in automaticall...</td>\n",
       "    </tr>\n",
       "    <tr>\n",
       "      <th>3</th>\n",
       "      <td>approximate titles?</td>\n",
       "    </tr>\n",
       "    <tr>\n",
       "      <th>4</th>\n",
       "      <td>What is the usual relevance of the content of ...</td>\n",
       "    </tr>\n",
       "  </tbody>\n",
       "</table>\n",
       "</div>"
      ],
      "text/plain": [
       "                                                .I 1\n",
       "0                                                 .W\n",
       "1  What problems and concerns are there in making...\n",
       "2  What difficulties are involved in automaticall...\n",
       "3                                approximate titles?\n",
       "4  What is the usual relevance of the content of ..."
      ]
     },
     "execution_count": 3,
     "metadata": {},
     "output_type": "execute_result"
    }
   ],
   "source": [
    "cisi.head()"
   ]
  },
  {
   "cell_type": "code",
   "execution_count": 4,
   "metadata": {
    "colab": {
     "base_uri": "https://localhost:8080/"
    },
    "id": "lItV_0tK7oyi",
    "outputId": "00783bec-d733-488d-c221-b9fad0ddaf9e"
   },
   "outputs": [
    {
     "data": {
      "text/plain": [
       ".I 1    0\n",
       "dtype: int64"
      ]
     },
     "execution_count": 4,
     "metadata": {},
     "output_type": "execute_result"
    }
   ],
   "source": [
    "cisi.isnull().sum()"
   ]
  },
  {
   "cell_type": "code",
   "execution_count": 5,
   "metadata": {
    "id": "b-Nw8AfQEmdJ"
   },
   "outputs": [],
   "source": [
    "def remove_number(text):\n",
    "    return  re.sub(r\"\\[0-9]+\", \"\", str(text))\n",
    " \n",
    "cisi['.I 1'] = cisi['.I 1'].apply(remove_number)"
   ]
  },
  {
   "cell_type": "code",
   "execution_count": 6,
   "metadata": {
    "id": "66u3vww3ExvW"
   },
   "outputs": [],
   "source": [
    "#remove whitespace leading & trailing\n",
    "def remove_whitespace_LT(text):\n",
    "    return text.strip()\n",
    "cisi['.I 1'] = cisi['.I 1'].apply(remove_whitespace_LT)\n",
    "\n",
    "#remove multiple whitespace into single whitespace\n",
    "def remove_whitespace_multiple(text):\n",
    "    return re.sub('\\s+',' ',text)\n",
    "cisi['.I 1'] = cisi['.I 1'].apply(remove_whitespace_multiple)\n",
    "\n",
    "# remove single char\n",
    "def remove_singl_char(text):\n",
    "    return re.sub(r\"\\b[a-zA-Z]\\b\", \"\", text)\n",
    "cisi['.I 1'] = cisi['.I 1'].apply(remove_singl_char)"
   ]
  },
  {
   "cell_type": "code",
   "execution_count": 7,
   "metadata": {
    "colab": {
     "base_uri": "https://localhost:8080/"
    },
    "id": "OBXrakBfFDqa",
    "outputId": "f8918d60-cf8a-4a20-8524-77ec4581794f"
   },
   "outputs": [
    {
     "name": "stdout",
     "output_type": "stream",
     "text": [
      "['.']\n"
     ]
    }
   ],
   "source": [
    "# Tokenisasi for Document\n",
    "doc_tokens_trec_cisi = [word_tokenize(kalimat) for kalimat in cisi['.I 1']]\n",
    "print(*doc_tokens_trec_cisi[0:1], sep = \"\\n\")"
   ]
  },
  {
   "cell_type": "code",
   "execution_count": 8,
   "metadata": {
    "colab": {
     "base_uri": "https://localhost:8080/"
    },
    "id": "IwYRIONWFPL2",
    "outputId": "52b9eb80-b837-47cb-b961-35549c686b27"
   },
   "outputs": [
    {
     "name": "stdout",
     "output_type": "stream",
     "text": [
      "[nltk_data] Downloading package stopwords to\n",
      "[nltk_data]     C:\\Users\\User\\AppData\\Roaming\\nltk_data...\n",
      "[nltk_data]   Package stopwords is already up-to-date!\n"
     ]
    },
    {
     "data": {
      "text/plain": [
       "True"
      ]
     },
     "execution_count": 8,
     "metadata": {},
     "output_type": "execute_result"
    }
   ],
   "source": [
    "nltk.download('stopwords')"
   ]
  },
  {
   "cell_type": "code",
   "execution_count": 9,
   "metadata": {
    "id": "2f14YFE6FT-j"
   },
   "outputs": [],
   "source": [
    "# Stopword for Document\n",
    "doc_stopwords_trec_cisi = [[token for token in kalimat if token not in stopwords.words('english')]\n",
    "                                  for kalimat in doc_tokens_trec_cisi]"
   ]
  },
  {
   "cell_type": "code",
   "execution_count": 10,
   "metadata": {
    "id": "V5uv9WqHFkl6"
   },
   "outputs": [],
   "source": [
    "def punctuation(txt):\n",
    "  result = re.sub(r'[^\\w\\s]','',txt)\n",
    "  return result\n",
    "cisi['.I 1'] = cisi['.I 1'].apply(punctuation)\n"
   ]
  },
  {
   "cell_type": "code",
   "execution_count": 11,
   "metadata": {},
   "outputs": [],
   "source": [
    "class BM25:\n",
    "    def __init__(self, k1=1.5, b=0.75):\n",
    "        self.b = b\n",
    "        self.k1 = k1\n",
    "\n",
    "    def fit(self, corpus):\n",
    "      \n",
    "        tf = []\n",
    "        df = {}\n",
    "        idf = {}\n",
    "        doc_len = []\n",
    "        corpus_size = 0\n",
    "        for document in corpus:\n",
    "            corpus_size += 1\n",
    "            doc_len.append(len(document))\n",
    "\n",
    "            # compute tf (term frequency) per document\n",
    "            frequencies = {}\n",
    "            for term in document:\n",
    "                term_count = frequencies.get(term, 0) + 1\n",
    "                frequencies[term] = term_count\n",
    "\n",
    "            tf.append(frequencies)\n",
    "\n",
    "            # compute df (document frequency) per term\n",
    "            for term, _ in frequencies.items():\n",
    "                df_count = df.get(term, 0) + 1\n",
    "                df[term] = df_count\n",
    "\n",
    "        for term, freq in df.items():\n",
    "            idf[term] = math.log(1 + (corpus_size - freq + 0.5) / (freq + 0.5))\n",
    "\n",
    "        self.tf_ = tf\n",
    "        self.df_ = df\n",
    "        self.idf_ = idf\n",
    "        self.doc_len_ = doc_len\n",
    "        self.corpus_ = corpus\n",
    "        self.corpus_size_ = corpus_size\n",
    "        self.avg_doc_len_ = sum(doc_len) / corpus_size\n",
    "        return self\n",
    "\n",
    "    def search(self, query):\n",
    "        scores = [self._score(query, index) for index in range(self.corpus_size_)]\n",
    "        return scores\n",
    "\n",
    "    def _score(self, query, index):\n",
    "        score = 0.0\n",
    "\n",
    "        doc_len = self.doc_len_[index]\n",
    "        frequencies = self.tf_[index]\n",
    "        for term in query:\n",
    "            if term not in frequencies:\n",
    "                continue\n",
    "\n",
    "            freq = frequencies[term]\n",
    "            numerator = self.idf_[term] * freq * (self.k1 + 1)\n",
    "            denominator = freq + self.k1 * (1 - self.b + self.b * doc_len / self.avg_doc_len_)\n",
    "            score += (numerator / denominator)\n",
    "\n",
    "        return score"
   ]
  },
  {
   "cell_type": "code",
   "execution_count": 12,
   "metadata": {},
   "outputs": [],
   "source": [
    "import math\n",
    "import json\n",
    "import requests"
   ]
  },
  {
   "cell_type": "code",
   "execution_count": 13,
   "metadata": {},
   "outputs": [],
   "source": [
    "query = \"i think i remember you from yesterday\"\n",
    "stopwords = set(['for', 'a', 'of', 'the', 'and', 'to', 'in'])\n",
    "query = [word for word in query.lower().split() if word not in stopwords]\n",
    "\n",
    "bm25 = BM25()\n",
    "bm25.fit(doc_stopwords_trec_cisi)\n",
    "scores = bm25.search(query)\n",
    "score_cisi = []\n",
    "doc_cisi =[]\n",
    "for score, doc in zip(scores, cisi['.I 1']):\n",
    "    score = round(score, 3)\n",
    "    score_cisi.append(str(score))\n",
    "    doc_cisi.append(doc)"
   ]
  },
  {
   "cell_type": "code",
   "execution_count": 14,
   "metadata": {},
   "outputs": [],
   "source": [
    "data_cisi = pd.DataFrame({'Score':score_cisi,'Doc':doc_cisi})"
   ]
  },
  {
   "cell_type": "code",
   "execution_count": 15,
   "metadata": {},
   "outputs": [
    {
     "data": {
      "text/html": [
       "<div>\n",
       "<style scoped>\n",
       "    .dataframe tbody tr th:only-of-type {\n",
       "        vertical-align: middle;\n",
       "    }\n",
       "\n",
       "    .dataframe tbody tr th {\n",
       "        vertical-align: top;\n",
       "    }\n",
       "\n",
       "    .dataframe thead th {\n",
       "        text-align: right;\n",
       "    }\n",
       "</style>\n",
       "<table border=\"1\" class=\"dataframe\">\n",
       "  <thead>\n",
       "    <tr style=\"text-align: right;\">\n",
       "      <th></th>\n",
       "      <th>Score</th>\n",
       "      <th>Doc</th>\n",
       "    </tr>\n",
       "  </thead>\n",
       "  <tbody>\n",
       "    <tr>\n",
       "      <th>0</th>\n",
       "      <td>0.0</td>\n",
       "      <td></td>\n",
       "    </tr>\n",
       "    <tr>\n",
       "      <th>1</th>\n",
       "      <td>0.0</td>\n",
       "      <td>What problems and concerns are there in making...</td>\n",
       "    </tr>\n",
       "    <tr>\n",
       "      <th>2</th>\n",
       "      <td>0.0</td>\n",
       "      <td>What difficulties are involved in automaticall...</td>\n",
       "    </tr>\n",
       "    <tr>\n",
       "      <th>3</th>\n",
       "      <td>0.0</td>\n",
       "      <td>approximate titles</td>\n",
       "    </tr>\n",
       "    <tr>\n",
       "      <th>4</th>\n",
       "      <td>0.0</td>\n",
       "      <td>What is the usual relevance of the content of ...</td>\n",
       "    </tr>\n",
       "    <tr>\n",
       "      <th>...</th>\n",
       "      <td>...</td>\n",
       "      <td>...</td>\n",
       "    </tr>\n",
       "    <tr>\n",
       "      <th>1038</th>\n",
       "      <td>0.0</td>\n",
       "      <td>documents in automatic classification experime...</td>\n",
       "    </tr>\n",
       "    <tr>\n",
       "      <th>1039</th>\n",
       "      <td>0.0</td>\n",
       "      <td>arises from the fact that all of the nonzerova...</td>\n",
       "    </tr>\n",
       "    <tr>\n",
       "      <th>1040</th>\n",
       "      <td>0.0</td>\n",
       "      <td>document collection The complexity and running...</td>\n",
       "    </tr>\n",
       "    <tr>\n",
       "      <th>1041</th>\n",
       "      <td>0.0</td>\n",
       "      <td>compared with previously described procedures</td>\n",
       "    </tr>\n",
       "    <tr>\n",
       "      <th>1042</th>\n",
       "      <td>0.0</td>\n",
       "      <td></td>\n",
       "    </tr>\n",
       "  </tbody>\n",
       "</table>\n",
       "<p>1043 rows × 2 columns</p>\n",
       "</div>"
      ],
      "text/plain": [
       "     Score                                                Doc\n",
       "0      0.0                                                   \n",
       "1      0.0  What problems and concerns are there in making...\n",
       "2      0.0  What difficulties are involved in automaticall...\n",
       "3      0.0                                 approximate titles\n",
       "4      0.0  What is the usual relevance of the content of ...\n",
       "...    ...                                                ...\n",
       "1038   0.0  documents in automatic classification experime...\n",
       "1039   0.0  arises from the fact that all of the nonzerova...\n",
       "1040   0.0  document collection The complexity and running...\n",
       "1041   0.0      compared with previously described procedures\n",
       "1042   0.0                                                   \n",
       "\n",
       "[1043 rows x 2 columns]"
      ]
     },
     "execution_count": 15,
     "metadata": {},
     "output_type": "execute_result"
    }
   ],
   "source": [
    "data_cisi"
   ]
  },
  {
   "cell_type": "code",
   "execution_count": 16,
   "metadata": {},
   "outputs": [],
   "source": [
    "import os\n",
    "for dirname, _, filenames in os.walk('/kaggle/input'):\n",
    "    for filename in filenames:\n",
    "        print(os.path.join(dirname, filename))\n",
    "        with open(os.path.join(dirname, filename)) as f:\n",
    "            line_count = 0\n",
    "            id_set = set()\n",
    "            for l in f.readlines():\n",
    "                line_count += 1\n",
    "                if filename == \"CISI.REL\":\n",
    "                    id_set.add(l.lstrip(\" \").split(\" \")[0])\n",
    "                elif l.startswith(\".I \"):\n",
    "                    id_set.add(l.split(\" \")[1].strip())\n",
    "            print(f\"{filename} : {len(id_set)} items, over {line_count} lines.\")"
   ]
  },
  {
   "cell_type": "code",
   "execution_count": 18,
   "metadata": {},
   "outputs": [
    {
     "name": "stdout",
     "output_type": "stream",
     "text": [
      ".I 1\n",
      ".T 18 Editions of the Dewey Decimal Classifications\n",
      ".A Comaromi, J.P.\n",
      ".W The present study is a history of the DEWEY Decimal Classification.  The first edition of the DDC was published in 1876, the eighteenth edition in 1971, and future editions will continue to appear as needed.  In spite of the DDC's long and healthy life, however, its full story has never been told.  There have been biographies of Dewey that briefly describe his system, but this is the first attempt to provide a detailed history of the work that more than any other has spurred the growth of librarianship in this country and abroad.\n",
      ".X 1\t5\t1 92\t1\t1 262\t1\t1 556\t1\t1 1004\t1\t1 1024\t1\t1 1024\t1\t1\n"
     ]
    }
   ],
   "source": [
    "with open('Dataset\\CISI.ALL') as f:\n",
    "    lines = \"\"\n",
    "    for l in f.readlines():\n",
    "        lines += \"\\n\" + l.strip() if l.startswith(\".\") else \" \" + l.strip()\n",
    "    lines = lines.lstrip(\"\\n\").split(\"\\n\")\n",
    "    \n",
    "# print n lines\n",
    "n = 5\n",
    "for l in lines[:n]:\n",
    "    print(l)"
   ]
  },
  {
   "cell_type": "code",
   "execution_count": 19,
   "metadata": {},
   "outputs": [
    {
     "name": "stdout",
     "output_type": "stream",
     "text": [
      "Number of documents = 1460.\n",
      "\n",
      "Two Kinds of Power An Essay on Bibliographic Control Wilson, P. The relationships between the organization and control of writings and the organization and control of knowledge and information will inevitably enter our story, for writings contain, along with much else, a great deal of mankind's stock of knowledge and information.  Bibliographical control is a form of power, and if knowledge itself is a form of power, as the familiar slogan claims, bibliographical control is in a certain sense power over power, power to obtain the knowledge recorded in written form.  As writings are not simply, and not in any simple way, storehouses of knowledge, we cannot satisfactorily discuss bibliographical control as simply control over the knowledge and information contained in writings. \n"
     ]
    }
   ],
   "source": [
    "doc_set = {}\n",
    "doc_id = \"\"\n",
    "doc_text = \"\"\n",
    "for l in lines:\n",
    "    if l.startswith(\".I\"):\n",
    "        doc_id = l.split(\" \")[1].strip()\n",
    "    elif l.startswith(\".X\"):\n",
    "        doc_set[doc_id] = doc_text.lstrip(\" \")\n",
    "        doc_id = \"\"\n",
    "        doc_text = \"\"\n",
    "    else:\n",
    "        doc_text += l.strip()[3:] + \" \" # The first 3 characters of a line can be ignored.\n",
    "\n",
    "# Print something to see the dictionary structure, etc.\n",
    "print(f\"Number of documents = {len(doc_set)}\" + \".\\n\")\n",
    "print(doc_set[\"3\"]) # note that the dictionary indexes are strings, not numbers. "
   ]
  },
  {
   "cell_type": "markdown",
   "metadata": {},
   "source": [
    "Query"
   ]
  },
  {
   "cell_type": "code",
   "execution_count": 21,
   "metadata": {},
   "outputs": [
    {
     "name": "stdout",
     "output_type": "stream",
     "text": [
      "Number of queries = 112.\n",
      "\n",
      "What is information science?  Give definitions where possible.\n"
     ]
    }
   ],
   "source": [
    "with open('Dataset\\CISI.QRY.csv') as f:\n",
    "    lines = \"\"\n",
    "    for l in f.readlines():\n",
    "        lines += \"\\n\" + l.strip() if l.startswith(\".\") else \" \" + l.strip()\n",
    "    lines = lines.lstrip(\"\\n\").split(\"\\n\")\n",
    "    \n",
    "qry_set = {}\n",
    "qry_id = \"\"\n",
    "for l in lines:\n",
    "    if l.startswith(\".I\"):\n",
    "        qry_id = l.split(\" \")[1].strip()\n",
    "    elif l.startswith(\".W\"):\n",
    "        qry_set[qry_id] = l.strip()[3:]\n",
    "        qry_id = \"\"\n",
    "        \n",
    "# Print something to see the dictionary structure, etc.\n",
    "print(f\"Number of queries = {len(qry_set)}\" + \".\\n\")\n",
    "print(qry_set[\"3\"]) # note that the dictionary indexes are strings, not numbers. "
   ]
  },
  {
   "cell_type": "markdown",
   "metadata": {},
   "source": [
    "Same with query == document"
   ]
  },
  {
   "cell_type": "code",
   "execution_count": 23,
   "metadata": {},
   "outputs": [
    {
     "name": "stdout",
     "output_type": "stream",
     "text": [
      "     7    310\t0\t0.000000\n",
      "     7    320\t0\t0.000000\n",
      "     7    332\t0\t0.000000\n",
      "     7    375\t0\t0.000000\n",
      "     7    376\t0\t0.000000\n",
      "     7    645\t0\t0.000000\n",
      "     7    724\t0\t0.000000\n",
      "     7    725\t0\t0.000000\n",
      "\n",
      "Number of mappings = 76.\n",
      "\n",
      "['310', '320', '332', '375', '376', '645', '724', '725']\n"
     ]
    }
   ],
   "source": [
    "rel_set = {}\n",
    "with open('Dataset\\CISI.REL') as f:\n",
    "    for l in f.readlines():\n",
    "        qry_id = l.lstrip(\" \").strip(\"\\n\").split(\"\\t\")[0].split(\" \")[0]\n",
    "        doc_id = l.lstrip(\" \").strip(\"\\n\").split(\"\\t\")[0].split(\" \")[-1]\n",
    "        if qry_id in rel_set:\n",
    "            rel_set[qry_id].append(doc_id)\n",
    "        else:\n",
    "            rel_set[qry_id] = []\n",
    "            rel_set[qry_id].append(doc_id)\n",
    "        if qry_id == \"7\":\n",
    "            print(l.strip(\"\\n\"))\n",
    "    \n",
    "# Print something to see the dictionary structure, etc.\n",
    "print(f\"\\nNumber of mappings = {len(rel_set)}\" + \".\\n\")\n",
    "print(rel_set[\"7\"]) # note that the dictionary indexes are strings, not numbers. "
   ]
  },
  {
   "cell_type": "code",
   "execution_count": null,
   "metadata": {},
   "outputs": [],
   "source": []
  }
 ],
 "metadata": {
  "colab": {
   "name": "Proyek_Dataset_CISI.ipynb",
   "provenance": []
  },
  "kernelspec": {
   "display_name": "Python 3",
   "language": "python",
   "name": "python3"
  },
  "language_info": {
   "codemirror_mode": {
    "name": "ipython",
    "version": 3
   },
   "file_extension": ".py",
   "mimetype": "text/x-python",
   "name": "python",
   "nbconvert_exporter": "python",
   "pygments_lexer": "ipython3",
   "version": "3.7.4"
  }
 },
 "nbformat": 4,
 "nbformat_minor": 1
}
